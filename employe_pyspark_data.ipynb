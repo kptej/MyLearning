{
  "nbformat": 4,
  "nbformat_minor": 0,
  "metadata": {
    "colab": {
      "provenance": [],
      "authorship_tag": "ABX9TyPsvG7GX7iThCFEwiIsts0U",
      "include_colab_link": true
    },
    "kernelspec": {
      "name": "python3",
      "display_name": "Python 3"
    },
    "language_info": {
      "name": "python"
    }
  },
  "cells": [
    {
      "cell_type": "markdown",
      "metadata": {
        "id": "view-in-github",
        "colab_type": "text"
      },
      "source": [
        "<a href=\"https://colab.research.google.com/github/kptej/MyLearning/blob/new_change_v1/employe_pyspark_data.ipynb\" target=\"_parent\"><img src=\"https://colab.research.google.com/assets/colab-badge.svg\" alt=\"Open In Colab\"/></a>"
      ]
    },
    {
      "source": [
        "# Install dependencies as needed:\n",
        "!pip install kagglehub[pandas-datasets]\n",
        "import kagglehub\n",
        "from kagglehub import KaggleDatasetAdapter\n",
        "\n",
        "# Set the path to the file you'd like to load\n",
        "# Replace \"employee_data.csv\" with the actual file name in the dataset if it's different.\n",
        "file_path = \"Employee 1000x.csv\"\n",
        "\n",
        "# Load the latest version\n",
        "df = kagglehub.load_dataset(\n",
        "  KaggleDatasetAdapter.PANDAS,\n",
        "  \"zahidmughal2343/employee-data\",\n",
        "  file_path,\n",
        "  # Provide any additional arguments like\n",
        "  # sql_query or pandas_kwargs. See the\n",
        "  # documenation for more information:\n",
        "  # https://github.com/Kaggle/kagglehub/blob/main/README.md#kaggledatasetadapterpandas\n",
        ")\n",
        "\n",
        "print(\"First 5 records:\", df.head())\n",
        "\n",
        "df.head(5)"
      ],
      "cell_type": "code",
      "metadata": {
        "colab": {
          "base_uri": "https://localhost:8080/",
          "height": 748
        },
        "id": "-a_9zTCwxGZV",
        "outputId": "7a57e5a7-3195-4764-ee8f-189d4c65b69b",
        "collapsed": true
      },
      "execution_count": null,
      "outputs": [
        {
          "output_type": "stream",
          "name": "stdout",
          "text": [
            "Requirement already satisfied: kagglehub[pandas-datasets] in /usr/local/lib/python3.11/dist-packages (0.3.12)\n",
            "Requirement already satisfied: packaging in /usr/local/lib/python3.11/dist-packages (from kagglehub[pandas-datasets]) (24.2)\n",
            "Requirement already satisfied: pyyaml in /usr/local/lib/python3.11/dist-packages (from kagglehub[pandas-datasets]) (6.0.2)\n",
            "Requirement already satisfied: requests in /usr/local/lib/python3.11/dist-packages (from kagglehub[pandas-datasets]) (2.32.3)\n",
            "Requirement already satisfied: tqdm in /usr/local/lib/python3.11/dist-packages (from kagglehub[pandas-datasets]) (4.67.1)\n",
            "Requirement already satisfied: pandas in /usr/local/lib/python3.11/dist-packages (from kagglehub[pandas-datasets]) (2.2.2)\n",
            "Requirement already satisfied: numpy>=1.23.2 in /usr/local/lib/python3.11/dist-packages (from pandas->kagglehub[pandas-datasets]) (2.0.2)\n",
            "Requirement already satisfied: python-dateutil>=2.8.2 in /usr/local/lib/python3.11/dist-packages (from pandas->kagglehub[pandas-datasets]) (2.9.0.post0)\n",
            "Requirement already satisfied: pytz>=2020.1 in /usr/local/lib/python3.11/dist-packages (from pandas->kagglehub[pandas-datasets]) (2025.2)\n",
            "Requirement already satisfied: tzdata>=2022.7 in /usr/local/lib/python3.11/dist-packages (from pandas->kagglehub[pandas-datasets]) (2025.2)\n",
            "Requirement already satisfied: charset-normalizer<4,>=2 in /usr/local/lib/python3.11/dist-packages (from requests->kagglehub[pandas-datasets]) (3.4.1)\n",
            "Requirement already satisfied: idna<4,>=2.5 in /usr/local/lib/python3.11/dist-packages (from requests->kagglehub[pandas-datasets]) (3.10)\n",
            "Requirement already satisfied: urllib3<3,>=1.21.1 in /usr/local/lib/python3.11/dist-packages (from requests->kagglehub[pandas-datasets]) (2.4.0)\n",
            "Requirement already satisfied: certifi>=2017.4.17 in /usr/local/lib/python3.11/dist-packages (from requests->kagglehub[pandas-datasets]) (2025.4.26)\n",
            "Requirement already satisfied: six>=1.5 in /usr/local/lib/python3.11/dist-packages (from python-dateutil>=2.8.2->pandas->kagglehub[pandas-datasets]) (1.17.0)\n"
          ]
        },
        {
          "output_type": "stream",
          "name": "stderr",
          "text": [
            "<ipython-input-1-8125748cc5a5>:11: DeprecationWarning: load_dataset is deprecated and will be removed in a future version.\n",
            "  df = kagglehub.load_dataset(\n"
          ]
        },
        {
          "output_type": "stream",
          "name": "stdout",
          "text": [
            "Downloading from https://www.kaggle.com/api/v1/datasets/download/zahidmughal2343/employee-data?dataset_version_number=1&file_name=Employee 1000x.csv...\n"
          ]
        },
        {
          "output_type": "stream",
          "name": "stderr",
          "text": [
            "100%|██████████| 945k/945k [00:00<00:00, 1.67MB/s]\n"
          ]
        },
        {
          "output_type": "stream",
          "name": "stdout",
          "text": [
            "First 5 records:    Index First Name Last Name     Sex                        Email  \\\n",
            "0      1       Sara   Mcguire  Female           tsharp@example.net   \n",
            "1      2     Alisha    Hebert    Male   vincentgarrett@example.net   \n",
            "2      3  Gwendolyn  Sheppard    Male  mercadojonathan@example.com   \n",
            "3      4   Kristine    Mccann  Female        lindsay55@example.com   \n",
            "4      5      Bobby   Pittman  Female    blevinsmorgan@example.com   \n",
            "\n",
            "                   Phone Date of birth                          Job Title  \n",
            "0     (971)643-6089x9160      17-08-21              Editor, commissioning  \n",
            "1  +1-114-355-1841x78347      28-06-69                 Broadcast engineer  \n",
            "2             9017807728      25-09-15                   Industrial buyer  \n",
            "3  +1-607-333-9911x59088      27-07-78              Multimedia specialist  \n",
            "4             3739847538      17-11-89  Planning and development surveyor  \n"
          ]
        },
        {
          "output_type": "execute_result",
          "data": {
            "text/plain": [
              "   Index First Name Last Name     Sex                        Email  \\\n",
              "0      1       Sara   Mcguire  Female           tsharp@example.net   \n",
              "1      2     Alisha    Hebert    Male   vincentgarrett@example.net   \n",
              "2      3  Gwendolyn  Sheppard    Male  mercadojonathan@example.com   \n",
              "3      4   Kristine    Mccann  Female        lindsay55@example.com   \n",
              "4      5      Bobby   Pittman  Female    blevinsmorgan@example.com   \n",
              "\n",
              "                   Phone Date of birth                          Job Title  \n",
              "0     (971)643-6089x9160      17-08-21              Editor, commissioning  \n",
              "1  +1-114-355-1841x78347      28-06-69                 Broadcast engineer  \n",
              "2             9017807728      25-09-15                   Industrial buyer  \n",
              "3  +1-607-333-9911x59088      27-07-78              Multimedia specialist  \n",
              "4             3739847538      17-11-89  Planning and development surveyor  "
            ],
            "text/html": [
              "\n",
              "  <div id=\"df-6d6a13a0-4611-4ccd-bb36-047a8660979b\" class=\"colab-df-container\">\n",
              "    <div>\n",
              "<style scoped>\n",
              "    .dataframe tbody tr th:only-of-type {\n",
              "        vertical-align: middle;\n",
              "    }\n",
              "\n",
              "    .dataframe tbody tr th {\n",
              "        vertical-align: top;\n",
              "    }\n",
              "\n",
              "    .dataframe thead th {\n",
              "        text-align: right;\n",
              "    }\n",
              "</style>\n",
              "<table border=\"1\" class=\"dataframe\">\n",
              "  <thead>\n",
              "    <tr style=\"text-align: right;\">\n",
              "      <th></th>\n",
              "      <th>Index</th>\n",
              "      <th>First Name</th>\n",
              "      <th>Last Name</th>\n",
              "      <th>Sex</th>\n",
              "      <th>Email</th>\n",
              "      <th>Phone</th>\n",
              "      <th>Date of birth</th>\n",
              "      <th>Job Title</th>\n",
              "    </tr>\n",
              "  </thead>\n",
              "  <tbody>\n",
              "    <tr>\n",
              "      <th>0</th>\n",
              "      <td>1</td>\n",
              "      <td>Sara</td>\n",
              "      <td>Mcguire</td>\n",
              "      <td>Female</td>\n",
              "      <td>tsharp@example.net</td>\n",
              "      <td>(971)643-6089x9160</td>\n",
              "      <td>17-08-21</td>\n",
              "      <td>Editor, commissioning</td>\n",
              "    </tr>\n",
              "    <tr>\n",
              "      <th>1</th>\n",
              "      <td>2</td>\n",
              "      <td>Alisha</td>\n",
              "      <td>Hebert</td>\n",
              "      <td>Male</td>\n",
              "      <td>vincentgarrett@example.net</td>\n",
              "      <td>+1-114-355-1841x78347</td>\n",
              "      <td>28-06-69</td>\n",
              "      <td>Broadcast engineer</td>\n",
              "    </tr>\n",
              "    <tr>\n",
              "      <th>2</th>\n",
              "      <td>3</td>\n",
              "      <td>Gwendolyn</td>\n",
              "      <td>Sheppard</td>\n",
              "      <td>Male</td>\n",
              "      <td>mercadojonathan@example.com</td>\n",
              "      <td>9017807728</td>\n",
              "      <td>25-09-15</td>\n",
              "      <td>Industrial buyer</td>\n",
              "    </tr>\n",
              "    <tr>\n",
              "      <th>3</th>\n",
              "      <td>4</td>\n",
              "      <td>Kristine</td>\n",
              "      <td>Mccann</td>\n",
              "      <td>Female</td>\n",
              "      <td>lindsay55@example.com</td>\n",
              "      <td>+1-607-333-9911x59088</td>\n",
              "      <td>27-07-78</td>\n",
              "      <td>Multimedia specialist</td>\n",
              "    </tr>\n",
              "    <tr>\n",
              "      <th>4</th>\n",
              "      <td>5</td>\n",
              "      <td>Bobby</td>\n",
              "      <td>Pittman</td>\n",
              "      <td>Female</td>\n",
              "      <td>blevinsmorgan@example.com</td>\n",
              "      <td>3739847538</td>\n",
              "      <td>17-11-89</td>\n",
              "      <td>Planning and development surveyor</td>\n",
              "    </tr>\n",
              "  </tbody>\n",
              "</table>\n",
              "</div>\n",
              "    <div class=\"colab-df-buttons\">\n",
              "\n",
              "  <div class=\"colab-df-container\">\n",
              "    <button class=\"colab-df-convert\" onclick=\"convertToInteractive('df-6d6a13a0-4611-4ccd-bb36-047a8660979b')\"\n",
              "            title=\"Convert this dataframe to an interactive table.\"\n",
              "            style=\"display:none;\">\n",
              "\n",
              "  <svg xmlns=\"http://www.w3.org/2000/svg\" height=\"24px\" viewBox=\"0 -960 960 960\">\n",
              "    <path d=\"M120-120v-720h720v720H120Zm60-500h600v-160H180v160Zm220 220h160v-160H400v160Zm0 220h160v-160H400v160ZM180-400h160v-160H180v160Zm440 0h160v-160H620v160ZM180-180h160v-160H180v160Zm440 0h160v-160H620v160Z\"/>\n",
              "  </svg>\n",
              "    </button>\n",
              "\n",
              "  <style>\n",
              "    .colab-df-container {\n",
              "      display:flex;\n",
              "      gap: 12px;\n",
              "    }\n",
              "\n",
              "    .colab-df-convert {\n",
              "      background-color: #E8F0FE;\n",
              "      border: none;\n",
              "      border-radius: 50%;\n",
              "      cursor: pointer;\n",
              "      display: none;\n",
              "      fill: #1967D2;\n",
              "      height: 32px;\n",
              "      padding: 0 0 0 0;\n",
              "      width: 32px;\n",
              "    }\n",
              "\n",
              "    .colab-df-convert:hover {\n",
              "      background-color: #E2EBFA;\n",
              "      box-shadow: 0px 1px 2px rgba(60, 64, 67, 0.3), 0px 1px 3px 1px rgba(60, 64, 67, 0.15);\n",
              "      fill: #174EA6;\n",
              "    }\n",
              "\n",
              "    .colab-df-buttons div {\n",
              "      margin-bottom: 4px;\n",
              "    }\n",
              "\n",
              "    [theme=dark] .colab-df-convert {\n",
              "      background-color: #3B4455;\n",
              "      fill: #D2E3FC;\n",
              "    }\n",
              "\n",
              "    [theme=dark] .colab-df-convert:hover {\n",
              "      background-color: #434B5C;\n",
              "      box-shadow: 0px 1px 3px 1px rgba(0, 0, 0, 0.15);\n",
              "      filter: drop-shadow(0px 1px 2px rgba(0, 0, 0, 0.3));\n",
              "      fill: #FFFFFF;\n",
              "    }\n",
              "  </style>\n",
              "\n",
              "    <script>\n",
              "      const buttonEl =\n",
              "        document.querySelector('#df-6d6a13a0-4611-4ccd-bb36-047a8660979b button.colab-df-convert');\n",
              "      buttonEl.style.display =\n",
              "        google.colab.kernel.accessAllowed ? 'block' : 'none';\n",
              "\n",
              "      async function convertToInteractive(key) {\n",
              "        const element = document.querySelector('#df-6d6a13a0-4611-4ccd-bb36-047a8660979b');\n",
              "        const dataTable =\n",
              "          await google.colab.kernel.invokeFunction('convertToInteractive',\n",
              "                                                    [key], {});\n",
              "        if (!dataTable) return;\n",
              "\n",
              "        const docLinkHtml = 'Like what you see? Visit the ' +\n",
              "          '<a target=\"_blank\" href=https://colab.research.google.com/notebooks/data_table.ipynb>data table notebook</a>'\n",
              "          + ' to learn more about interactive tables.';\n",
              "        element.innerHTML = '';\n",
              "        dataTable['output_type'] = 'display_data';\n",
              "        await google.colab.output.renderOutput(dataTable, element);\n",
              "        const docLink = document.createElement('div');\n",
              "        docLink.innerHTML = docLinkHtml;\n",
              "        element.appendChild(docLink);\n",
              "      }\n",
              "    </script>\n",
              "  </div>\n",
              "\n",
              "\n",
              "    <div id=\"df-51362042-fef9-48b6-be13-576ee55d4165\">\n",
              "      <button class=\"colab-df-quickchart\" onclick=\"quickchart('df-51362042-fef9-48b6-be13-576ee55d4165')\"\n",
              "                title=\"Suggest charts\"\n",
              "                style=\"display:none;\">\n",
              "\n",
              "<svg xmlns=\"http://www.w3.org/2000/svg\" height=\"24px\"viewBox=\"0 0 24 24\"\n",
              "     width=\"24px\">\n",
              "    <g>\n",
              "        <path d=\"M19 3H5c-1.1 0-2 .9-2 2v14c0 1.1.9 2 2 2h14c1.1 0 2-.9 2-2V5c0-1.1-.9-2-2-2zM9 17H7v-7h2v7zm4 0h-2V7h2v10zm4 0h-2v-4h2v4z\"/>\n",
              "    </g>\n",
              "</svg>\n",
              "      </button>\n",
              "\n",
              "<style>\n",
              "  .colab-df-quickchart {\n",
              "      --bg-color: #E8F0FE;\n",
              "      --fill-color: #1967D2;\n",
              "      --hover-bg-color: #E2EBFA;\n",
              "      --hover-fill-color: #174EA6;\n",
              "      --disabled-fill-color: #AAA;\n",
              "      --disabled-bg-color: #DDD;\n",
              "  }\n",
              "\n",
              "  [theme=dark] .colab-df-quickchart {\n",
              "      --bg-color: #3B4455;\n",
              "      --fill-color: #D2E3FC;\n",
              "      --hover-bg-color: #434B5C;\n",
              "      --hover-fill-color: #FFFFFF;\n",
              "      --disabled-bg-color: #3B4455;\n",
              "      --disabled-fill-color: #666;\n",
              "  }\n",
              "\n",
              "  .colab-df-quickchart {\n",
              "    background-color: var(--bg-color);\n",
              "    border: none;\n",
              "    border-radius: 50%;\n",
              "    cursor: pointer;\n",
              "    display: none;\n",
              "    fill: var(--fill-color);\n",
              "    height: 32px;\n",
              "    padding: 0;\n",
              "    width: 32px;\n",
              "  }\n",
              "\n",
              "  .colab-df-quickchart:hover {\n",
              "    background-color: var(--hover-bg-color);\n",
              "    box-shadow: 0 1px 2px rgba(60, 64, 67, 0.3), 0 1px 3px 1px rgba(60, 64, 67, 0.15);\n",
              "    fill: var(--button-hover-fill-color);\n",
              "  }\n",
              "\n",
              "  .colab-df-quickchart-complete:disabled,\n",
              "  .colab-df-quickchart-complete:disabled:hover {\n",
              "    background-color: var(--disabled-bg-color);\n",
              "    fill: var(--disabled-fill-color);\n",
              "    box-shadow: none;\n",
              "  }\n",
              "\n",
              "  .colab-df-spinner {\n",
              "    border: 2px solid var(--fill-color);\n",
              "    border-color: transparent;\n",
              "    border-bottom-color: var(--fill-color);\n",
              "    animation:\n",
              "      spin 1s steps(1) infinite;\n",
              "  }\n",
              "\n",
              "  @keyframes spin {\n",
              "    0% {\n",
              "      border-color: transparent;\n",
              "      border-bottom-color: var(--fill-color);\n",
              "      border-left-color: var(--fill-color);\n",
              "    }\n",
              "    20% {\n",
              "      border-color: transparent;\n",
              "      border-left-color: var(--fill-color);\n",
              "      border-top-color: var(--fill-color);\n",
              "    }\n",
              "    30% {\n",
              "      border-color: transparent;\n",
              "      border-left-color: var(--fill-color);\n",
              "      border-top-color: var(--fill-color);\n",
              "      border-right-color: var(--fill-color);\n",
              "    }\n",
              "    40% {\n",
              "      border-color: transparent;\n",
              "      border-right-color: var(--fill-color);\n",
              "      border-top-color: var(--fill-color);\n",
              "    }\n",
              "    60% {\n",
              "      border-color: transparent;\n",
              "      border-right-color: var(--fill-color);\n",
              "    }\n",
              "    80% {\n",
              "      border-color: transparent;\n",
              "      border-right-color: var(--fill-color);\n",
              "      border-bottom-color: var(--fill-color);\n",
              "    }\n",
              "    90% {\n",
              "      border-color: transparent;\n",
              "      border-bottom-color: var(--fill-color);\n",
              "    }\n",
              "  }\n",
              "</style>\n",
              "\n",
              "      <script>\n",
              "        async function quickchart(key) {\n",
              "          const quickchartButtonEl =\n",
              "            document.querySelector('#' + key + ' button');\n",
              "          quickchartButtonEl.disabled = true;  // To prevent multiple clicks.\n",
              "          quickchartButtonEl.classList.add('colab-df-spinner');\n",
              "          try {\n",
              "            const charts = await google.colab.kernel.invokeFunction(\n",
              "                'suggestCharts', [key], {});\n",
              "          } catch (error) {\n",
              "            console.error('Error during call to suggestCharts:', error);\n",
              "          }\n",
              "          quickchartButtonEl.classList.remove('colab-df-spinner');\n",
              "          quickchartButtonEl.classList.add('colab-df-quickchart-complete');\n",
              "        }\n",
              "        (() => {\n",
              "          let quickchartButtonEl =\n",
              "            document.querySelector('#df-51362042-fef9-48b6-be13-576ee55d4165 button');\n",
              "          quickchartButtonEl.style.display =\n",
              "            google.colab.kernel.accessAllowed ? 'block' : 'none';\n",
              "        })();\n",
              "      </script>\n",
              "    </div>\n",
              "\n",
              "    </div>\n",
              "  </div>\n"
            ],
            "application/vnd.google.colaboratory.intrinsic+json": {
              "type": "dataframe",
              "variable_name": "df",
              "summary": "{\n  \"name\": \"df\",\n  \"rows\": 10000,\n  \"fields\": [\n    {\n      \"column\": \"Index\",\n      \"properties\": {\n        \"dtype\": \"number\",\n        \"std\": 2886,\n        \"min\": 1,\n        \"max\": 10000,\n        \"num_unique_values\": 10000,\n        \"samples\": [\n          6253,\n          4685,\n          1732\n        ],\n        \"semantic_type\": \"\",\n        \"description\": \"\"\n      }\n    },\n    {\n      \"column\": \"First Name\",\n      \"properties\": {\n        \"dtype\": \"category\",\n        \"num_unique_values\": 690,\n        \"samples\": [\n          \"Isabella\",\n          \"Mitchell\",\n          \"Brent\"\n        ],\n        \"semantic_type\": \"\",\n        \"description\": \"\"\n      }\n    },\n    {\n      \"column\": \"Last Name\",\n      \"properties\": {\n        \"dtype\": \"category\",\n        \"num_unique_values\": 1000,\n        \"samples\": [\n          \"Hunter\",\n          \"Ferrell\",\n          \"Leach\"\n        ],\n        \"semantic_type\": \"\",\n        \"description\": \"\"\n      }\n    },\n    {\n      \"column\": \"Sex\",\n      \"properties\": {\n        \"dtype\": \"category\",\n        \"num_unique_values\": 2,\n        \"samples\": [\n          \"Male\",\n          \"Female\"\n        ],\n        \"semantic_type\": \"\",\n        \"description\": \"\"\n      }\n    },\n    {\n      \"column\": \"Email\",\n      \"properties\": {\n        \"dtype\": \"string\",\n        \"num_unique_values\": 9936,\n        \"samples\": [\n          \"staffordkathryn@example.com\",\n          \"mathew28@example.net\"\n        ],\n        \"semantic_type\": \"\",\n        \"description\": \"\"\n      }\n    },\n    {\n      \"column\": \"Phone\",\n      \"properties\": {\n        \"dtype\": \"string\",\n        \"num_unique_values\": 9992,\n        \"samples\": [\n          \"370-036-8093x799\",\n          \"190.408.4445\"\n        ],\n        \"semantic_type\": \"\",\n        \"description\": \"\"\n      }\n    },\n    {\n      \"column\": \"Date of birth\",\n      \"properties\": {\n        \"dtype\": \"object\",\n        \"num_unique_values\": 8646,\n        \"samples\": [\n          \"23-08-24\",\n          \"22-07-59\"\n        ],\n        \"semantic_type\": \"\",\n        \"description\": \"\"\n      }\n    },\n    {\n      \"column\": \"Job Title\",\n      \"properties\": {\n        \"dtype\": \"category\",\n        \"num_unique_values\": 639,\n        \"samples\": [\n          \"Scientist, research (medical)\",\n          \"English as a second language teacher\"\n        ],\n        \"semantic_type\": \"\",\n        \"description\": \"\"\n      }\n    }\n  ]\n}"
            }
          },
          "metadata": {},
          "execution_count": 1
        }
      ]
    },
    {
      "cell_type": "code",
      "source": [
        "import kagglehub\n",
        "from pyspark.sql import SparkSession # Import SparkSession\n",
        "from pyspark.sql.functions import col # Import col function\n",
        "from pyspark.sql.functions import DataFrame\n",
        "\n",
        "# Download latest version\n",
        "path = kagglehub.dataset_download(\"zahidmughal2343/employee-data\")\n",
        "\n",
        "print(\"Path to dataset files:\", path)\n",
        "\n",
        "# Create or get a SparkSession\n",
        "spark = SparkSession.builder.appName(\"Employee-Data\").getOrCreate() # Initialize SparkSession\n",
        "\n",
        "df=spark.read.csv(path, header=True)\n",
        "\n",
        "df.show(5) # Use df.head() to print the first row of the DataFrame\n",
        "\n",
        "df.printSchema() # Print the schema of the DataFrame\n",
        "\n",
        "df.head()\n",
        "print(f\"{'*' * 20}  {'*' * 20}\")\n",
        "\n",
        "print(\"NUmber of Columns:\", len(df.columns))\n",
        "print(\"Column Names:\", df.columns)\n",
        "print(\"Number of Rows:\", df.count())\n",
        "print(\"Number of Distinct Rows:\", df.distinct().count())\n",
        "print(\"Number of Rows with Null Values:\", df.dropna().count())\n",
        "print(\"Number of Rows with Duplicate Values:\", df.dropDuplicates().count())\n",
        "print(\"Number of Rows with Missing Values:\", df.dropna().count())\n",
        "\n",
        "\n",
        "\n"
      ],
      "metadata": {
        "colab": {
          "base_uri": "https://localhost:8080/"
        },
        "collapsed": true,
        "id": "1MoiZFMLxdLf",
        "outputId": "542d506b-09a6-4813-e01f-d20eb097b889"
      },
      "execution_count": 2,
      "outputs": [
        {
          "output_type": "stream",
          "name": "stdout",
          "text": [
            "Downloading from https://www.kaggle.com/api/v1/datasets/download/zahidmughal2343/employee-data?dataset_version_number=1...\n"
          ]
        },
        {
          "output_type": "stream",
          "name": "stderr",
          "text": [
            "100%|██████████| 370k/370k [00:00<00:00, 71.0MB/s]"
          ]
        },
        {
          "output_type": "stream",
          "name": "stdout",
          "text": [
            "Extracting files...\n",
            "Path to dataset files: /root/.cache/kagglehub/datasets/zahidmughal2343/employee-data/versions/1\n"
          ]
        },
        {
          "output_type": "stream",
          "name": "stderr",
          "text": [
            "\n"
          ]
        },
        {
          "output_type": "stream",
          "name": "stdout",
          "text": [
            "+-----+----------+---------+------+--------------------+--------------------+-------------+--------------------+\n",
            "|Index|First Name|Last Name|   Sex|               Email|               Phone|Date of birth|           Job Title|\n",
            "+-----+----------+---------+------+--------------------+--------------------+-------------+--------------------+\n",
            "|    1|      Sara|  Mcguire|Female|  tsharp@example.net|  (971)643-6089x9160|     17-08-21|Editor, commissio...|\n",
            "|    2|    Alisha|   Hebert|  Male|vincentgarrett@ex...|+1-114-355-1841x7...|     28-06-69|  Broadcast engineer|\n",
            "|    3| Gwendolyn| Sheppard|  Male|mercadojonathan@e...|          9017807728|     25-09-15|    Industrial buyer|\n",
            "|    4|  Kristine|   Mccann|Female|lindsay55@example...|+1-607-333-9911x5...|     27-07-78|Multimedia specia...|\n",
            "|    5|     Bobby|  Pittman|Female|blevinsmorgan@exa...|          3739847538|     17-11-89|Planning and deve...|\n",
            "+-----+----------+---------+------+--------------------+--------------------+-------------+--------------------+\n",
            "only showing top 5 rows\n",
            "\n",
            "root\n",
            " |-- Index: string (nullable = true)\n",
            " |-- First Name: string (nullable = true)\n",
            " |-- Last Name: string (nullable = true)\n",
            " |-- Sex: string (nullable = true)\n",
            " |-- Email: string (nullable = true)\n",
            " |-- Phone: string (nullable = true)\n",
            " |-- Date of birth: string (nullable = true)\n",
            " |-- Job Title: string (nullable = true)\n",
            "\n",
            "********************  ********************\n",
            "NUmber of Columns: 8\n",
            "Column Names: ['Index', 'First Name', 'Last Name', 'Sex', 'Email', 'Phone', 'Date of birth', 'Job Title']\n",
            "Number of Rows: 10000\n",
            "Number of Distinct Rows: 10000\n",
            "Number of Rows with Null Values: 10000\n",
            "Number of Rows with Duplicate Values: 10000\n",
            "Number of Rows with Missing Values: 10000\n"
          ]
        }
      ]
    },
    {
      "cell_type": "code",
      "source": [
        "from google.colab import drive\n",
        "drive.mount('/content/drive')\n",
        "\n",
        "file_path='/content/drive/My Drive/data/employee_data.csv'\n",
        "\n",
        "write_df=df.repartition(1).write.mode('overwrite').csv(file_path, header=True)\n",
        "\n"
      ],
      "metadata": {
        "colab": {
          "base_uri": "https://localhost:8080/"
        },
        "id": "TvZg_6vu3EpF",
        "outputId": "7dc70330-97a7-487c-c75c-44a51e064d63"
      },
      "execution_count": 6,
      "outputs": [
        {
          "output_type": "stream",
          "name": "stdout",
          "text": [
            "Drive already mounted at /content/drive; to attempt to forcibly remount, call drive.mount(\"/content/drive\", force_remount=True).\n"
          ]
        }
      ]
    },
    {
      "cell_type": "code",
      "source": [
        "from pyspark.sql import SparkSession\n",
        "from pyspark import SparkContext\n",
        "from pyspark.sql.functions import col\n",
        "from pyspark.sql.types import StructType, StructField, StringType, IntegerType\n",
        "\n",
        "\n",
        "# Create or get a SparkSession\n",
        "spark = SparkSession.builder.appName(\"Employee-Data\").getOrCreate() # Initialize SparkSession\n",
        "\n",
        "#read csv file\n",
        "from google.colab import drive\n",
        "drive.mount('/content/drive')\n",
        "\n",
        "csv_path='/content/drive/My Drive/data/employee_data/*.csv'\n",
        "\n",
        "# Define the schema with the desired type for \"Phone\" (e.g., IntegerType)\n",
        "desired_schema = StructType([\n",
        "    StructField(\"Index\", IntegerType(), True),\n",
        "    StructField(\"First_Name\", StringType(), True),\n",
        "    StructField(\"Last_Name\", StringType(), True),\n",
        "    StructField(\"sex\", StringType(), True),\n",
        "    StructField(\"Email\", StringType(), True),\n",
        "    StructField(\"Phone\", StringType(), True),  # Desired type is IntegerType\n",
        "    StructField(\"DOB\", StringType(), True),\n",
        "    StructField(\"Job_Tittle\", StringType(), True)\n",
        "])\n",
        "\n",
        "\n",
        "read_df = spark.read.csv(csv_path, header=True, schema=desired_schema, mode='PERMISSIVE')\n",
        "\n",
        "read_df.show(5) # Use df.head() to print the first row of the DataFrame\n",
        "\n",
        "read_df.printSchema() # Print the schema of the DataFrame\n",
        "\n",
        "\n"
      ],
      "metadata": {
        "colab": {
          "base_uri": "https://localhost:8080/"
        },
        "id": "pXUPUqVGo9Ei",
        "outputId": "7509678f-59d9-4745-b09c-3a85c8ba8b41"
      },
      "execution_count": 25,
      "outputs": [
        {
          "output_type": "stream",
          "name": "stdout",
          "text": [
            "Drive already mounted at /content/drive; to attempt to forcibly remount, call drive.mount(\"/content/drive\", force_remount=True).\n",
            "+-----+----------+---------+------+--------------------+--------------------+--------+--------------------+\n",
            "|Index|First_Name|Last_Name|   sex|               Email|               Phone|     DOB|          Job_Tittle|\n",
            "+-----+----------+---------+------+--------------------+--------------------+--------+--------------------+\n",
            "|    1|      Sara|  Mcguire|Female|  tsharp@example.net|  (971)643-6089x9160|17-08-21|Editor, commissio...|\n",
            "|    2|    Alisha|   Hebert|  Male|vincentgarrett@ex...|+1-114-355-1841x7...|28-06-69|  Broadcast engineer|\n",
            "|    3| Gwendolyn| Sheppard|  Male|mercadojonathan@e...|          9017807728|25-09-15|    Industrial buyer|\n",
            "|    4|  Kristine|   Mccann|Female|lindsay55@example...|+1-607-333-9911x5...|27-07-78|Multimedia specia...|\n",
            "|    5|     Bobby|  Pittman|Female|blevinsmorgan@exa...|          3739847538|17-11-89|Planning and deve...|\n",
            "+-----+----------+---------+------+--------------------+--------------------+--------+--------------------+\n",
            "only showing top 5 rows\n",
            "\n",
            "root\n",
            " |-- Index: integer (nullable = true)\n",
            " |-- First_Name: string (nullable = true)\n",
            " |-- Last_Name: string (nullable = true)\n",
            " |-- sex: string (nullable = true)\n",
            " |-- Email: string (nullable = true)\n",
            " |-- Phone: string (nullable = true)\n",
            " |-- DOB: string (nullable = true)\n",
            " |-- Job_Tittle: string (nullable = true)\n",
            "\n"
          ]
        }
      ]
    },
    {
      "cell_type": "code",
      "source": [
        "read_df.head()"
      ],
      "metadata": {
        "colab": {
          "base_uri": "https://localhost:8080/"
        },
        "id": "KkxrVYzYxTZ0",
        "outputId": "660a20b0-2b9a-4ce2-b7fb-0c1d6b1d29bc"
      },
      "execution_count": 27,
      "outputs": [
        {
          "output_type": "execute_result",
          "data": {
            "text/plain": [
              "Row(Index=1, First_Name='Sara', Last_Name='Mcguire', sex='Female', Email='tsharp@example.net', Phone='(971)643-6089x9160', DOB='17-08-21', Job_Tittle='Editor, commissioning')"
            ]
          },
          "metadata": {},
          "execution_count": 27
        }
      ]
    },
    {
      "source": [
        "\n",
        "read_df.select(\"Phone\").distinct().show(5, truncate=False)"
      ],
      "cell_type": "code",
      "metadata": {
        "colab": {
          "base_uri": "https://localhost:8080/"
        },
        "id": "sDI7EzBhx4n2",
        "outputId": "de31cf2c-e01a-449d-8ca1-d700730dca95"
      },
      "execution_count": 26,
      "outputs": [
        {
          "output_type": "stream",
          "name": "stdout",
          "text": [
            "+--------------------+\n",
            "|Phone               |\n",
            "+--------------------+\n",
            "|990-171-6132x616    |\n",
            "|(762)661-6527x2462  |\n",
            "|817-428-3298x58491  |\n",
            "|+1-208-844-9128x5240|\n",
            "|(757)115-2133x506   |\n",
            "+--------------------+\n",
            "only showing top 5 rows\n",
            "\n"
          ]
        }
      ]
    },
    {
      "source": [
        "from pyspark.sql.functions import regexp_extract # Import regexp_extract function\n",
        "from pyspark.sql.functions import col # Import col function\n",
        "\n",
        "read_df.show(10)\n",
        "read_df.withColumn(\"Phone\", regexp_extract(read_df[\"Phone\"], r\"[^\\d]\", '')).show(20)"
      ],
      "cell_type": "code",
      "metadata": {
        "colab": {
          "base_uri": "https://localhost:8080/",
          "height": 758
        },
        "id": "UioKGWUG0Ofe",
        "outputId": "0426c570-620b-414e-890f-a3db20210a77"
      },
      "execution_count": 35,
      "outputs": [
        {
          "output_type": "stream",
          "name": "stdout",
          "text": [
            "+-----+----------+---------+------+--------------------+--------------------+--------+--------------------+\n",
            "|Index|First_Name|Last_Name|   sex|               Email|               Phone|     DOB|          Job_Tittle|\n",
            "+-----+----------+---------+------+--------------------+--------------------+--------+--------------------+\n",
            "|    1|      Sara|  Mcguire|Female|  tsharp@example.net|  (971)643-6089x9160|17-08-21|Editor, commissio...|\n",
            "|    2|    Alisha|   Hebert|  Male|vincentgarrett@ex...|+1-114-355-1841x7...|28-06-69|  Broadcast engineer|\n",
            "|    3| Gwendolyn| Sheppard|  Male|mercadojonathan@e...|          9017807728|25-09-15|    Industrial buyer|\n",
            "|    4|  Kristine|   Mccann|Female|lindsay55@example...|+1-607-333-9911x5...|27-07-78|Multimedia specia...|\n",
            "|    5|     Bobby|  Pittman|Female|blevinsmorgan@exa...|          3739847538|17-11-89|Planning and deve...|\n",
            "|    6|    Calvin|   Ramsey|Female|loretta85@example...|001-314-829-5014x...|31-08-17|Therapeutic radio...|\n",
            "|    7|    Collin|  Allison|  Male| yvaughn@example.net|       (314)591-7413|21-11-79|       Administrator|\n",
            "|    8|  Nicholas|   Branch|  Male|greerjimmy@exampl...|               -7199|21-01-06|   Fisheries officer|\n",
            "|    9|      Emma| Robinson|Female|charleshiggins@ex...|   166-234-6882x7457|19-03-09|       Haematologist|\n",
            "|   10|     Pedro|  Cordova|  Male|leslie08@example.com|  (389)824-3204x8287|17-06-08|      Phytotherapist|\n",
            "+-----+----------+---------+------+--------------------+--------------------+--------+--------------------+\n",
            "only showing top 10 rows\n",
            "\n"
          ]
        },
        {
          "output_type": "error",
          "ename": "Py4JError",
          "evalue": "An error occurred while calling z:org.apache.spark.sql.functions.regexp_extract. Trace:\npy4j.Py4JException: Method regexp_extract([class org.apache.spark.sql.Column, class java.lang.String, class java.lang.String]) does not exist\n\tat py4j.reflection.ReflectionEngine.getMethod(ReflectionEngine.java:321)\n\tat py4j.reflection.ReflectionEngine.getMethod(ReflectionEngine.java:342)\n\tat py4j.Gateway.invoke(Gateway.java:276)\n\tat py4j.commands.AbstractCommand.invokeMethod(AbstractCommand.java:132)\n\tat py4j.commands.CallCommand.execute(CallCommand.java:79)\n\tat py4j.ClientServerConnection.waitForCommands(ClientServerConnection.java:182)\n\tat py4j.ClientServerConnection.run(ClientServerConnection.java:106)\n\tat java.base/java.lang.Thread.run(Thread.java:829)\n\n",
          "traceback": [
            "\u001b[0;31m---------------------------------------------------------------------------\u001b[0m",
            "\u001b[0;31mPy4JError\u001b[0m                                 Traceback (most recent call last)",
            "\u001b[0;32m<ipython-input-35-a5d36748fa38>\u001b[0m in \u001b[0;36m<cell line: 0>\u001b[0;34m()\u001b[0m\n\u001b[1;32m      3\u001b[0m \u001b[0;34m\u001b[0m\u001b[0m\n\u001b[1;32m      4\u001b[0m \u001b[0mread_df\u001b[0m\u001b[0;34m.\u001b[0m\u001b[0mshow\u001b[0m\u001b[0;34m(\u001b[0m\u001b[0;36m10\u001b[0m\u001b[0;34m)\u001b[0m\u001b[0;34m\u001b[0m\u001b[0;34m\u001b[0m\u001b[0m\n\u001b[0;32m----> 5\u001b[0;31m \u001b[0mread_df\u001b[0m\u001b[0;34m.\u001b[0m\u001b[0mwithColumn\u001b[0m\u001b[0;34m(\u001b[0m\u001b[0;34m\"Phone\"\u001b[0m\u001b[0;34m,\u001b[0m \u001b[0mregexp_extract\u001b[0m\u001b[0;34m(\u001b[0m\u001b[0mread_df\u001b[0m\u001b[0;34m[\u001b[0m\u001b[0;34m\"Phone\"\u001b[0m\u001b[0;34m]\u001b[0m\u001b[0;34m,\u001b[0m \u001b[0;34mr\"[^\\d]\"\u001b[0m\u001b[0;34m,\u001b[0m \u001b[0;34m''\u001b[0m\u001b[0;34m)\u001b[0m\u001b[0;34m)\u001b[0m\u001b[0;34m.\u001b[0m\u001b[0mshow\u001b[0m\u001b[0;34m(\u001b[0m\u001b[0;36m20\u001b[0m\u001b[0;34m)\u001b[0m\u001b[0;34m\u001b[0m\u001b[0;34m\u001b[0m\u001b[0m\n\u001b[0m",
            "\u001b[0;32m/usr/local/lib/python3.11/dist-packages/pyspark/sql/utils.py\u001b[0m in \u001b[0;36mwrapped\u001b[0;34m(*args, **kwargs)\u001b[0m\n\u001b[1;32m    172\u001b[0m             \u001b[0;32mreturn\u001b[0m \u001b[0mgetattr\u001b[0m\u001b[0;34m(\u001b[0m\u001b[0mfunctions\u001b[0m\u001b[0;34m,\u001b[0m \u001b[0mf\u001b[0m\u001b[0;34m.\u001b[0m\u001b[0m__name__\u001b[0m\u001b[0;34m)\u001b[0m\u001b[0;34m(\u001b[0m\u001b[0;34m*\u001b[0m\u001b[0margs\u001b[0m\u001b[0;34m,\u001b[0m \u001b[0;34m**\u001b[0m\u001b[0mkwargs\u001b[0m\u001b[0;34m)\u001b[0m\u001b[0;34m\u001b[0m\u001b[0;34m\u001b[0m\u001b[0m\n\u001b[1;32m    173\u001b[0m         \u001b[0;32melse\u001b[0m\u001b[0;34m:\u001b[0m\u001b[0;34m\u001b[0m\u001b[0;34m\u001b[0m\u001b[0m\n\u001b[0;32m--> 174\u001b[0;31m             \u001b[0;32mreturn\u001b[0m \u001b[0mf\u001b[0m\u001b[0;34m(\u001b[0m\u001b[0;34m*\u001b[0m\u001b[0margs\u001b[0m\u001b[0;34m,\u001b[0m \u001b[0;34m**\u001b[0m\u001b[0mkwargs\u001b[0m\u001b[0;34m)\u001b[0m\u001b[0;34m\u001b[0m\u001b[0;34m\u001b[0m\u001b[0m\n\u001b[0m\u001b[1;32m    175\u001b[0m \u001b[0;34m\u001b[0m\u001b[0m\n\u001b[1;32m    176\u001b[0m     \u001b[0;32mreturn\u001b[0m \u001b[0mcast\u001b[0m\u001b[0;34m(\u001b[0m\u001b[0mFuncT\u001b[0m\u001b[0;34m,\u001b[0m \u001b[0mwrapped\u001b[0m\u001b[0;34m)\u001b[0m\u001b[0;34m\u001b[0m\u001b[0;34m\u001b[0m\u001b[0m\n",
            "\u001b[0;32m/usr/local/lib/python3.11/dist-packages/pyspark/sql/functions.py\u001b[0m in \u001b[0;36mregexp_extract\u001b[0;34m(str, pattern, idx)\u001b[0m\n\u001b[1;32m   9561\u001b[0m     \u001b[0;34m[\u001b[0m\u001b[0mRow\u001b[0m\u001b[0;34m(\u001b[0m\u001b[0md\u001b[0m\u001b[0;34m=\u001b[0m\u001b[0;34m''\u001b[0m\u001b[0;34m)\u001b[0m\u001b[0;34m]\u001b[0m\u001b[0;34m\u001b[0m\u001b[0;34m\u001b[0m\u001b[0m\n\u001b[1;32m   9562\u001b[0m     \"\"\"\n\u001b[0;32m-> 9563\u001b[0;31m     \u001b[0;32mreturn\u001b[0m \u001b[0m_invoke_function\u001b[0m\u001b[0;34m(\u001b[0m\u001b[0;34m\"regexp_extract\"\u001b[0m\u001b[0;34m,\u001b[0m \u001b[0m_to_java_column\u001b[0m\u001b[0;34m(\u001b[0m\u001b[0mstr\u001b[0m\u001b[0;34m)\u001b[0m\u001b[0;34m,\u001b[0m \u001b[0mpattern\u001b[0m\u001b[0;34m,\u001b[0m \u001b[0midx\u001b[0m\u001b[0;34m)\u001b[0m\u001b[0;34m\u001b[0m\u001b[0;34m\u001b[0m\u001b[0m\n\u001b[0m\u001b[1;32m   9564\u001b[0m \u001b[0;34m\u001b[0m\u001b[0m\n\u001b[1;32m   9565\u001b[0m \u001b[0;34m\u001b[0m\u001b[0m\n",
            "\u001b[0;32m/usr/local/lib/python3.11/dist-packages/pyspark/sql/functions.py\u001b[0m in \u001b[0;36m_invoke_function\u001b[0;34m(name, *args)\u001b[0m\n\u001b[1;32m     95\u001b[0m     \u001b[0;32massert\u001b[0m \u001b[0mSparkContext\u001b[0m\u001b[0;34m.\u001b[0m\u001b[0m_active_spark_context\u001b[0m \u001b[0;32mis\u001b[0m \u001b[0;32mnot\u001b[0m \u001b[0;32mNone\u001b[0m\u001b[0;34m\u001b[0m\u001b[0;34m\u001b[0m\u001b[0m\n\u001b[1;32m     96\u001b[0m     \u001b[0mjf\u001b[0m \u001b[0;34m=\u001b[0m \u001b[0m_get_jvm_function\u001b[0m\u001b[0;34m(\u001b[0m\u001b[0mname\u001b[0m\u001b[0;34m,\u001b[0m \u001b[0mSparkContext\u001b[0m\u001b[0;34m.\u001b[0m\u001b[0m_active_spark_context\u001b[0m\u001b[0;34m)\u001b[0m\u001b[0;34m\u001b[0m\u001b[0;34m\u001b[0m\u001b[0m\n\u001b[0;32m---> 97\u001b[0;31m     \u001b[0;32mreturn\u001b[0m \u001b[0mColumn\u001b[0m\u001b[0;34m(\u001b[0m\u001b[0mjf\u001b[0m\u001b[0;34m(\u001b[0m\u001b[0;34m*\u001b[0m\u001b[0margs\u001b[0m\u001b[0;34m)\u001b[0m\u001b[0;34m)\u001b[0m\u001b[0;34m\u001b[0m\u001b[0;34m\u001b[0m\u001b[0m\n\u001b[0m\u001b[1;32m     98\u001b[0m \u001b[0;34m\u001b[0m\u001b[0m\n\u001b[1;32m     99\u001b[0m \u001b[0;34m\u001b[0m\u001b[0m\n",
            "\u001b[0;32m/usr/local/lib/python3.11/dist-packages/py4j/java_gateway.py\u001b[0m in \u001b[0;36m__call__\u001b[0;34m(self, *args)\u001b[0m\n\u001b[1;32m   1320\u001b[0m \u001b[0;34m\u001b[0m\u001b[0m\n\u001b[1;32m   1321\u001b[0m         \u001b[0manswer\u001b[0m \u001b[0;34m=\u001b[0m \u001b[0mself\u001b[0m\u001b[0;34m.\u001b[0m\u001b[0mgateway_client\u001b[0m\u001b[0;34m.\u001b[0m\u001b[0msend_command\u001b[0m\u001b[0;34m(\u001b[0m\u001b[0mcommand\u001b[0m\u001b[0;34m)\u001b[0m\u001b[0;34m\u001b[0m\u001b[0;34m\u001b[0m\u001b[0m\n\u001b[0;32m-> 1322\u001b[0;31m         return_value = get_return_value(\n\u001b[0m\u001b[1;32m   1323\u001b[0m             answer, self.gateway_client, self.target_id, self.name)\n\u001b[1;32m   1324\u001b[0m \u001b[0;34m\u001b[0m\u001b[0m\n",
            "\u001b[0;32m/usr/local/lib/python3.11/dist-packages/pyspark/errors/exceptions/captured.py\u001b[0m in \u001b[0;36mdeco\u001b[0;34m(*a, **kw)\u001b[0m\n\u001b[1;32m    177\u001b[0m     \u001b[0;32mdef\u001b[0m \u001b[0mdeco\u001b[0m\u001b[0;34m(\u001b[0m\u001b[0;34m*\u001b[0m\u001b[0ma\u001b[0m\u001b[0;34m:\u001b[0m \u001b[0mAny\u001b[0m\u001b[0;34m,\u001b[0m \u001b[0;34m**\u001b[0m\u001b[0mkw\u001b[0m\u001b[0;34m:\u001b[0m \u001b[0mAny\u001b[0m\u001b[0;34m)\u001b[0m \u001b[0;34m->\u001b[0m \u001b[0mAny\u001b[0m\u001b[0;34m:\u001b[0m\u001b[0;34m\u001b[0m\u001b[0;34m\u001b[0m\u001b[0m\n\u001b[1;32m    178\u001b[0m         \u001b[0;32mtry\u001b[0m\u001b[0;34m:\u001b[0m\u001b[0;34m\u001b[0m\u001b[0;34m\u001b[0m\u001b[0m\n\u001b[0;32m--> 179\u001b[0;31m             \u001b[0;32mreturn\u001b[0m \u001b[0mf\u001b[0m\u001b[0;34m(\u001b[0m\u001b[0;34m*\u001b[0m\u001b[0ma\u001b[0m\u001b[0;34m,\u001b[0m \u001b[0;34m**\u001b[0m\u001b[0mkw\u001b[0m\u001b[0;34m)\u001b[0m\u001b[0;34m\u001b[0m\u001b[0;34m\u001b[0m\u001b[0m\n\u001b[0m\u001b[1;32m    180\u001b[0m         \u001b[0;32mexcept\u001b[0m \u001b[0mPy4JJavaError\u001b[0m \u001b[0;32mas\u001b[0m \u001b[0me\u001b[0m\u001b[0;34m:\u001b[0m\u001b[0;34m\u001b[0m\u001b[0;34m\u001b[0m\u001b[0m\n\u001b[1;32m    181\u001b[0m             \u001b[0mconverted\u001b[0m \u001b[0;34m=\u001b[0m \u001b[0mconvert_exception\u001b[0m\u001b[0;34m(\u001b[0m\u001b[0me\u001b[0m\u001b[0;34m.\u001b[0m\u001b[0mjava_exception\u001b[0m\u001b[0;34m)\u001b[0m\u001b[0;34m\u001b[0m\u001b[0;34m\u001b[0m\u001b[0m\n",
            "\u001b[0;32m/usr/local/lib/python3.11/dist-packages/py4j/protocol.py\u001b[0m in \u001b[0;36mget_return_value\u001b[0;34m(answer, gateway_client, target_id, name)\u001b[0m\n\u001b[1;32m    328\u001b[0m                     format(target_id, \".\", name), value)\n\u001b[1;32m    329\u001b[0m             \u001b[0;32melse\u001b[0m\u001b[0;34m:\u001b[0m\u001b[0;34m\u001b[0m\u001b[0;34m\u001b[0m\u001b[0m\n\u001b[0;32m--> 330\u001b[0;31m                 raise Py4JError(\n\u001b[0m\u001b[1;32m    331\u001b[0m                     \u001b[0;34m\"An error occurred while calling {0}{1}{2}. Trace:\\n{3}\\n\"\u001b[0m\u001b[0;34m.\u001b[0m\u001b[0;34m\u001b[0m\u001b[0;34m\u001b[0m\u001b[0m\n\u001b[1;32m    332\u001b[0m                     format(target_id, \".\", name, value))\n",
            "\u001b[0;31mPy4JError\u001b[0m: An error occurred while calling z:org.apache.spark.sql.functions.regexp_extract. Trace:\npy4j.Py4JException: Method regexp_extract([class org.apache.spark.sql.Column, class java.lang.String, class java.lang.String]) does not exist\n\tat py4j.reflection.ReflectionEngine.getMethod(ReflectionEngine.java:321)\n\tat py4j.reflection.ReflectionEngine.getMethod(ReflectionEngine.java:342)\n\tat py4j.Gateway.invoke(Gateway.java:276)\n\tat py4j.commands.AbstractCommand.invokeMethod(AbstractCommand.java:132)\n\tat py4j.commands.CallCommand.execute(CallCommand.java:79)\n\tat py4j.ClientServerConnection.waitForCommands(ClientServerConnection.java:182)\n\tat py4j.ClientServerConnection.run(ClientServerConnection.java:106)\n\tat java.base/java.lang.Thread.run(Thread.java:829)\n\n"
          ]
        }
      ]
    },
    {
      "source": [
        "from pyspark.sql.functions import regexp_replace # Import regexp_replace function\n",
        "from pyspark.sql.functions import col # Import col function\n",
        "\n",
        "read_df.show(10)\n",
        "# Use regexp_replace to remove non-digit characters from the \"Phone\" column\n",
        "read_df.withColumn(\"ext_Phone\", regexp_replace(col(\"Phone\"), r\"[^\\d]\", '')).show(20)"
      ],
      "cell_type": "code",
      "metadata": {
        "colab": {
          "base_uri": "https://localhost:8080/"
        },
        "id": "6Z-imtaT1MzO",
        "outputId": "ea1ad33b-d7f9-4b89-b8b5-4046c00d9b02"
      },
      "execution_count": 36,
      "outputs": [
        {
          "output_type": "stream",
          "name": "stdout",
          "text": [
            "+-----+----------+---------+------+--------------------+--------------------+--------+--------------------+\n",
            "|Index|First_Name|Last_Name|   sex|               Email|               Phone|     DOB|          Job_Tittle|\n",
            "+-----+----------+---------+------+--------------------+--------------------+--------+--------------------+\n",
            "|    1|      Sara|  Mcguire|Female|  tsharp@example.net|  (971)643-6089x9160|17-08-21|Editor, commissio...|\n",
            "|    2|    Alisha|   Hebert|  Male|vincentgarrett@ex...|+1-114-355-1841x7...|28-06-69|  Broadcast engineer|\n",
            "|    3| Gwendolyn| Sheppard|  Male|mercadojonathan@e...|          9017807728|25-09-15|    Industrial buyer|\n",
            "|    4|  Kristine|   Mccann|Female|lindsay55@example...|+1-607-333-9911x5...|27-07-78|Multimedia specia...|\n",
            "|    5|     Bobby|  Pittman|Female|blevinsmorgan@exa...|          3739847538|17-11-89|Planning and deve...|\n",
            "|    6|    Calvin|   Ramsey|Female|loretta85@example...|001-314-829-5014x...|31-08-17|Therapeutic radio...|\n",
            "|    7|    Collin|  Allison|  Male| yvaughn@example.net|       (314)591-7413|21-11-79|       Administrator|\n",
            "|    8|  Nicholas|   Branch|  Male|greerjimmy@exampl...|               -7199|21-01-06|   Fisheries officer|\n",
            "|    9|      Emma| Robinson|Female|charleshiggins@ex...|   166-234-6882x7457|19-03-09|       Haematologist|\n",
            "|   10|     Pedro|  Cordova|  Male|leslie08@example.com|  (389)824-3204x8287|17-06-08|      Phytotherapist|\n",
            "+-----+----------+---------+------+--------------------+--------------------+--------+--------------------+\n",
            "only showing top 10 rows\n",
            "\n",
            "+-----+----------+----------+------+--------------------+--------------------+--------+--------------------+-----------------+\n",
            "|Index|First_Name| Last_Name|   sex|               Email|               Phone|     DOB|          Job_Tittle|        ext_Phone|\n",
            "+-----+----------+----------+------+--------------------+--------------------+--------+--------------------+-----------------+\n",
            "|    1|      Sara|   Mcguire|Female|  tsharp@example.net|  (971)643-6089x9160|17-08-21|Editor, commissio...|   97164360899160|\n",
            "|    2|    Alisha|    Hebert|  Male|vincentgarrett@ex...|+1-114-355-1841x7...|28-06-69|  Broadcast engineer| 1114355184178347|\n",
            "|    3| Gwendolyn|  Sheppard|  Male|mercadojonathan@e...|          9017807728|25-09-15|    Industrial buyer|       9017807728|\n",
            "|    4|  Kristine|    Mccann|Female|lindsay55@example...|+1-607-333-9911x5...|27-07-78|Multimedia specia...| 1607333991159088|\n",
            "|    5|     Bobby|   Pittman|Female|blevinsmorgan@exa...|          3739847538|17-11-89|Planning and deve...|       3739847538|\n",
            "|    6|    Calvin|    Ramsey|Female|loretta85@example...|001-314-829-5014x...|31-08-17|Therapeutic radio...|00131482950141792|\n",
            "|    7|    Collin|   Allison|  Male| yvaughn@example.net|       (314)591-7413|21-11-79|       Administrator|       3145917413|\n",
            "|    8|  Nicholas|    Branch|  Male|greerjimmy@exampl...|               -7199|21-01-06|   Fisheries officer|             7199|\n",
            "|    9|      Emma|  Robinson|Female|charleshiggins@ex...|   166-234-6882x7457|19-03-09|       Haematologist|   16623468827457|\n",
            "|   10|     Pedro|   Cordova|  Male|leslie08@example.com|  (389)824-3204x8287|17-06-08|      Phytotherapist|   38982432048287|\n",
            "|   11|      Jean|   Aguilar|  Male|raymond24@example...|  (285)029-1604x5466|28-10-78|Engineer, control...|   28502916045466|\n",
            "|   12|    Dwayne|Hutchinson|Female|preston28@example...|   (233)811-1749x417|22-06-14|Teacher, early ye...|    2338111749417|\n",
            "|   13|   Bradley| Velazquez|  Male|joycejay@example.net|       (831)049-2030|23-12-06|       Airline pilot|       8310492030|\n",
            "|   14|  Samantha|      Moon|  Male|wesleymullins@exa...|          7788378816|21-06-78|Intelligence analyst|       7788378816|\n",
            "|   15|   Clayton|  Erickson|  Male|  nterry@example.net|  990-374-0521x33156|07-02-59|    Paediatric nurse|  990374052133156|\n",
            "|   16|   Bradley|    Bright|Female|devinherman@examp...|          2534420151|27-01-92|Fitness centre ma...|       2534420151|\n",
            "|   17|    Ernest|   Maynard|  Male|tommywoodard@exam...|   355-863-2311x6315|23-11-17|Accountant, chart...|   35586323116315|\n",
            "|   18|       Joe|    Larsen|Female|brianna43@example...|   (566)667-8566x109|18-06-09|Geographical info...|    5666678566109|\n",
            "|   19|    Alfred|   Barrera|Female|kristina40@exampl...|          4735530004|13-11-24|Administrator, ch...|       4735530004|\n",
            "|   20|       Jon|    Wagner|Female|meagan99@example.org|001-940-671-0693x345|06-01-34|Engineer, aeronau...| 0019406710693345|\n",
            "+-----+----------+----------+------+--------------------+--------------------+--------+--------------------+-----------------+\n",
            "only showing top 20 rows\n",
            "\n"
          ]
        }
      ]
    },
    {
      "cell_type": "code",
      "source": [],
      "metadata": {
        "id": "oMLgT-mhCUp_"
      },
      "execution_count": null,
      "outputs": []
    },
    {
      "source": [
        "from os import read\n",
        "from pyspark.sql.functions import col # Ensure col is imported\n",
        "from pyspark.sql.functions import count # Import count function\n",
        "\n",
        "# Create a DataFrame with counts of combinations of First_Name, Last_Name, and sex\n",
        "# Identify combinations that appear more than once\n",
        "duplicate_combinations = read_df.groupBy(\"First_Name\", \"Last_Name\", \"sex\").count().where(col(\"count\") > 1)\n",
        "\n",
        "# Join the original DataFrame with the duplicate combinations to get the full duplicate records\n",
        "duplicate_records = read_df.join(duplicate_combinations, on=[\"First_Name\", \"Last_Name\", \"sex\"], how=\"inner\")\n",
        "\n",
        "# Show the duplicate records\n",
        "print(\"Duplicate records based on First_Name, Last_Name, sex:\")\n",
        "duplicate_records.show(5, truncate=False)\n",
        "\n",
        "# Get the count of rows in the original DataFrame\n",
        "read_df_count = read_df.count()\n",
        "\n",
        "# Get the count of duplicate records\n",
        "duplicate_records_count = duplicate_records.count()\n",
        "\n",
        "# Compare the counts to check for duplicates based on First_Name, Last_Name, and sex\n",
        "if duplicate_records_count > 0:\n",
        "  print(\"Duplicates found based on First_Name, Last_Name, and sex.\")\n",
        "else:\n",
        "  print(\"No duplicates found based on First_Name, Last_Name, and sex.\")\n",
        "\n",
        "print(f\"Original DataFrame row count: {read_df_count}\")\n",
        "print(f\"Number of duplicate records (based on First_Name, Last_Name, sex): {duplicate_records_count}\")\n",
        "\n",
        "# The print statements for hardcoded numbers can remain or be removed based on need\n",
        "print(5053+4906)"
      ],
      "cell_type": "code",
      "metadata": {
        "colab": {
          "base_uri": "https://localhost:8080/"
        },
        "id": "kxtKJkHRDPPv",
        "outputId": "71e19e67-edcc-45d6-90bf-5359b6fa4822"
      },
      "execution_count": 57,
      "outputs": [
        {
          "output_type": "stream",
          "name": "stdout",
          "text": [
            "Duplicate records based on First_Name, Last_Name, sex:\n",
            "+----------+---------+------+-----+----------------------+---------------------+--------+-----------------------------+-----+\n",
            "|First_Name|Last_Name|sex   |Index|Email                 |Phone                |DOB     |Job_Tittle                   |count|\n",
            "+----------+---------+------+-----+----------------------+---------------------+--------+-----------------------------+-----+\n",
            "|Carly     |Terrell  |Female|229  |wwalker@example.org   |(730)913-5344x06134  |26-11-08|Therapist, music             |2    |\n",
            "|Cesar     |Newton   |Male  |274  |madeline19@example.net|919-419-5076x892     |10-07-36|Chemical engineer            |2    |\n",
            "|Tasha     |Madden   |Female|284  |vconley@example.org   |(267)422-6598x96138  |04-09-81|Occupational hygienist       |2    |\n",
            "|Warren    |Huber    |Male  |293  |angela64@example.com  |752.003.9047x5083    |07-08-09|Engineer, civil (contracting)|2    |\n",
            "|Alejandra |Petersen |Male  |387  |kentroth@example.net  |+1-947-087-4756x18065|04-08-10|Hydrographic surveyor        |2    |\n",
            "+----------+---------+------+-----+----------------------+---------------------+--------+-----------------------------+-----+\n",
            "only showing top 5 rows\n",
            "\n",
            "Duplicates found based on First_Name, Last_Name, and sex.\n",
            "Original DataFrame row count: 10000\n",
            "Number of duplicate records (based on First_Name, Last_Name, sex): 81\n",
            "9959\n"
          ]
        }
      ]
    },
    {
      "source": [
        "read_df.select(\"First_Name\", \"Last_Name\").where((col(\"First_Name\") == \"Carly\") & (col(\"Last_name\") == \"Terrell\")).count()"
      ],
      "cell_type": "code",
      "metadata": {
        "colab": {
          "base_uri": "https://localhost:8080/"
        },
        "id": "fYOeM21kE1II",
        "outputId": "3eb3dbb5-bbbe-4027-d590-bc15b91f50db"
      },
      "execution_count": 63,
      "outputs": [
        {
          "output_type": "execute_result",
          "data": {
            "text/plain": [
              "2"
            ]
          },
          "metadata": {},
          "execution_count": 63
        }
      ]
    },
    {
      "cell_type": "code",
      "source": [],
      "metadata": {
        "id": "ixxCCCX-E3MJ"
      },
      "execution_count": null,
      "outputs": []
    }
  ]
}