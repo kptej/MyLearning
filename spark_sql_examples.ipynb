{
  "nbformat": 4,
  "nbformat_minor": 0,
  "metadata": {
    "colab": {
      "provenance": [],
      "authorship_tag": "ABX9TyNFxP4deG3cYTkHgHNh74rs",
      "include_colab_link": true
    },
    "kernelspec": {
      "name": "python3",
      "display_name": "Python 3"
    },
    "language_info": {
      "name": "python"
    }
  },
  "cells": [
    {
      "cell_type": "markdown",
      "metadata": {
        "id": "view-in-github",
        "colab_type": "text"
      },
      "source": [
        "<a href=\"https://colab.research.google.com/github/kptej/MyLearning/blob/main/spark_sql_examples.ipynb\" target=\"_parent\"><img src=\"https://colab.research.google.com/assets/colab-badge.svg\" alt=\"Open In Colab\"/></a>"
      ]
    },
    {
      "cell_type": "markdown",
      "source": [],
      "metadata": {
        "id": "A1jscXU6Kx2L"
      }
    },
    {
      "cell_type": "markdown",
      "source": [
        "# SPARK SQL\n",
        "\n",
        "\n"
      ],
      "metadata": {
        "id": "fRgVHqYnKzUU"
      }
    },
    {
      "cell_type": "code",
      "source": [
        "!pip install pyspark"
      ],
      "metadata": {
        "colab": {
          "base_uri": "https://localhost:8080/"
        },
        "id": "GwZvAVJqaZTW",
        "outputId": "da3a6b16-f5f2-4403-ebb9-af93ba20f944"
      },
      "execution_count": 2,
      "outputs": [
        {
          "output_type": "stream",
          "name": "stdout",
          "text": [
            "Requirement already satisfied: pyspark in /usr/local/lib/python3.11/dist-packages (3.5.1)\n",
            "Requirement already satisfied: py4j==0.10.9.7 in /usr/local/lib/python3.11/dist-packages (from pyspark) (0.10.9.7)\n"
          ]
        }
      ]
    },
    {
      "cell_type": "code",
      "source": [
        "from pyspark.sql import SparkSession\n",
        "\n",
        "spark = SparkSession.builder.appName(\"DataFrameExample\").getOrCreate()\n",
        "\n",
        "data = [(\"Alice\", 25),\n",
        "        (\"Bob\", 30),\n",
        "        (\"Charlie\", 22),\n",
        "        (\"David\", 35),\n",
        "        (\"Eve\", 28),\n",
        "        (\"Frank\", 40),\n",
        "        (\"Grace\", 23),\n",
        "        (\"Heidi\", 31),\n",
        "        (\"Ivan\", 27),\n",
        "        (\"Judy\", 29)]\n",
        "\n",
        "columns = [\"Name\", \"Age\"]\n",
        "\n",
        "\n"
      ],
      "metadata": {
        "id": "0getfJCKa0zE"
      },
      "execution_count": 3,
      "outputs": []
    },
    {
      "cell_type": "code",
      "source": [
        "#todf create df using todf\n",
        "df = spark.sparkContext.parallelize(data).toDF() #no clolumns it takes by default\n",
        "df.show()\n",
        "\n",
        "df1 = spark.sparkContext.parallelize(data).toDF(columns)#coloumns assgigned\n",
        "df1.show()\n"
      ],
      "metadata": {
        "colab": {
          "base_uri": "https://localhost:8080/"
        },
        "id": "Yi0kTQ_hcH9q",
        "outputId": "ec717239-f795-4338-d006-743f53c6209f"
      },
      "execution_count": 4,
      "outputs": [
        {
          "output_type": "stream",
          "name": "stdout",
          "text": [
            "+-------+---+\n",
            "|     _1| _2|\n",
            "+-------+---+\n",
            "|  Alice| 25|\n",
            "|    Bob| 30|\n",
            "|Charlie| 22|\n",
            "|  David| 35|\n",
            "|    Eve| 28|\n",
            "|  Frank| 40|\n",
            "|  Grace| 23|\n",
            "|  Heidi| 31|\n",
            "|   Ivan| 27|\n",
            "|   Judy| 29|\n",
            "+-------+---+\n",
            "\n",
            "+-------+---+\n",
            "|   Name|Age|\n",
            "+-------+---+\n",
            "|  Alice| 25|\n",
            "|    Bob| 30|\n",
            "|Charlie| 22|\n",
            "|  David| 35|\n",
            "|    Eve| 28|\n",
            "|  Frank| 40|\n",
            "|  Grace| 23|\n",
            "|  Heidi| 31|\n",
            "|   Ivan| 27|\n",
            "|   Judy| 29|\n",
            "+-------+---+\n",
            "\n"
          ]
        }
      ]
    },
    {
      "cell_type": "code",
      "source": [
        "from_df = df.toDF(\"names\", \"age\")#column names passed\n",
        "\n",
        "df.show()#default columns\n",
        "from_df.show()\n",
        "\n"
      ],
      "metadata": {
        "colab": {
          "base_uri": "https://localhost:8080/"
        },
        "id": "uvopR32gc3Y0",
        "outputId": "99a17571-f6ad-4dd6-f2dc-e86a3fbebdb9"
      },
      "execution_count": 5,
      "outputs": [
        {
          "output_type": "stream",
          "name": "stdout",
          "text": [
            "+-------+---+\n",
            "|     _1| _2|\n",
            "+-------+---+\n",
            "|  Alice| 25|\n",
            "|    Bob| 30|\n",
            "|Charlie| 22|\n",
            "|  David| 35|\n",
            "|    Eve| 28|\n",
            "|  Frank| 40|\n",
            "|  Grace| 23|\n",
            "|  Heidi| 31|\n",
            "|   Ivan| 27|\n",
            "|   Judy| 29|\n",
            "+-------+---+\n",
            "\n",
            "+-------+---+\n",
            "|  names|age|\n",
            "+-------+---+\n",
            "|  Alice| 25|\n",
            "|    Bob| 30|\n",
            "|Charlie| 22|\n",
            "|  David| 35|\n",
            "|    Eve| 28|\n",
            "|  Frank| 40|\n",
            "|  Grace| 23|\n",
            "|  Heidi| 31|\n",
            "|   Ivan| 27|\n",
            "|   Judy| 29|\n",
            "+-------+---+\n",
            "\n"
          ]
        }
      ]
    },
    {
      "cell_type": "code",
      "source": [],
      "metadata": {
        "id": "T5F-2Yvwdgjo"
      },
      "execution_count": 5,
      "outputs": []
    },
    {
      "source": [
        "employee_data = [\n",
        "    (\"Alice\", 25, \"Engineering\", 60000),\n",
        "    (\"Bob\", 30, \"Sales\", 70000),\n",
        "    (\"Charlie\", 22, \"Marketing\", 55000),\n",
        "    (\"David\", 35, \"Engineering\", 75000),\n",
        "    (\"Eve\", 28, \"Sales\", 65000),\n",
        "    (\"Frank\", 40, \"Human Resources\", 80000),\n",
        "    (\"Grace\", 23, \"Marketing\", 58000),\n",
        "    (\"Heidi\", 31, \"Engineering\", 72000),\n",
        "    (\"Ivan\", 27, \"Sales\", 68000),\n",
        "    (\"Judy\", 29, \"Human Resources\", 78000),\n",
        "    (\"Kevin\", 26, \"Engineering\", 62000),\n",
        "    (\"Liam\", 33, \"Marketing\", 60000),\n",
        "    (\"Mia\", 24, \"Sales\", 63000),\n",
        "    (\"Noah\", 38, \"Engineering\", 85000),\n",
        "    (\"Olivia\", 32, \"Human Resources\", 82000),\n",
        "    (\"Peter\", 21, \"Marketing\", 52000),\n",
        "    (\"Quinn\", 36, \"Sales\", 72000),\n",
        "    (\"Riley\", 29, \"Engineering\", 70000),\n",
        "    (\"Sophia\", 27, \"Human Resources\", 75000),\n",
        "    (\"Thomas\", 34, \"Marketing\", 65000)\n",
        "]\n",
        "\n",
        "employee_table = [\"Name\", \"Age\", \"Department\", \"Salary\"]\n",
        "\n",
        "#create dataframe\n",
        "employee_df_with_salary = spark.createDataFrame(employee_data, employee_table)\n",
        "employee_df_with_salary.show()"
      ],
      "cell_type": "code",
      "metadata": {
        "colab": {
          "base_uri": "https://localhost:8080/"
        },
        "id": "eTtvOBZ4d-6G",
        "outputId": "36174204-f643-473d-e452-015a7b92b4f3"
      },
      "execution_count": 6,
      "outputs": [
        {
          "output_type": "stream",
          "name": "stdout",
          "text": [
            "+-------+---+---------------+------+\n",
            "|   Name|Age|     Department|Salary|\n",
            "+-------+---+---------------+------+\n",
            "|  Alice| 25|    Engineering| 60000|\n",
            "|    Bob| 30|          Sales| 70000|\n",
            "|Charlie| 22|      Marketing| 55000|\n",
            "|  David| 35|    Engineering| 75000|\n",
            "|    Eve| 28|          Sales| 65000|\n",
            "|  Frank| 40|Human Resources| 80000|\n",
            "|  Grace| 23|      Marketing| 58000|\n",
            "|  Heidi| 31|    Engineering| 72000|\n",
            "|   Ivan| 27|          Sales| 68000|\n",
            "|   Judy| 29|Human Resources| 78000|\n",
            "|  Kevin| 26|    Engineering| 62000|\n",
            "|   Liam| 33|      Marketing| 60000|\n",
            "|    Mia| 24|          Sales| 63000|\n",
            "|   Noah| 38|    Engineering| 85000|\n",
            "| Olivia| 32|Human Resources| 82000|\n",
            "|  Peter| 21|      Marketing| 52000|\n",
            "|  Quinn| 36|          Sales| 72000|\n",
            "|  Riley| 29|    Engineering| 70000|\n",
            "| Sophia| 27|Human Resources| 75000|\n",
            "| Thomas| 34|      Marketing| 65000|\n",
            "+-------+---+---------------+------+\n",
            "\n"
          ]
        }
      ]
    },
    {
      "cell_type": "code",
      "source": [
        "#print schema\n",
        "employee_df_with_salary.printSchema()"
      ],
      "metadata": {
        "colab": {
          "base_uri": "https://localhost:8080/"
        },
        "id": "F-SZDUa1eqS4",
        "outputId": "43381101-a14b-45cf-c615-ccabfaa09afc"
      },
      "execution_count": 7,
      "outputs": [
        {
          "output_type": "stream",
          "name": "stdout",
          "text": [
            "root\n",
            " |-- Name: string (nullable = true)\n",
            " |-- Age: long (nullable = true)\n",
            " |-- Department: string (nullable = true)\n",
            " |-- Salary: long (nullable = true)\n",
            "\n"
          ]
        }
      ]
    },
    {
      "cell_type": "code",
      "source": [
        "print(employee_df_with_salary.count())\n",
        "len(employee_df_with_salary.columns)"
      ],
      "metadata": {
        "colab": {
          "base_uri": "https://localhost:8080/"
        },
        "id": "WGV0coZ8rOB7",
        "outputId": "e40ca23e-1129-4cf5-985a-95a7ce3a3f16"
      },
      "execution_count": 8,
      "outputs": [
        {
          "output_type": "stream",
          "name": "stdout",
          "text": [
            "20\n"
          ]
        },
        {
          "output_type": "execute_result",
          "data": {
            "text/plain": [
              "4"
            ]
          },
          "metadata": {},
          "execution_count": 8
        }
      ]
    },
    {
      "cell_type": "code",
      "source": [
        "#print type of rdd\n",
        "print(type(employee_df_with_salary))"
      ],
      "metadata": {
        "colab": {
          "base_uri": "https://localhost:8080/"
        },
        "id": "0-ih88Qbe6rM",
        "outputId": "818f271d-7adb-4500-8f00-fe18032e5e70"
      },
      "execution_count": 9,
      "outputs": [
        {
          "output_type": "stream",
          "name": "stdout",
          "text": [
            "<class 'pyspark.sql.dataframe.DataFrame'>\n"
          ]
        }
      ]
    },
    {
      "cell_type": "code",
      "source": [
        "employee_df_with_salary.first()\n",
        "employee_df_with_salary.take(5)"
      ],
      "metadata": {
        "colab": {
          "base_uri": "https://localhost:8080/"
        },
        "id": "AwJ0Uae4fH9Q",
        "outputId": "61d4696f-c2db-426c-9d8b-432f83bb2377"
      },
      "execution_count": 10,
      "outputs": [
        {
          "output_type": "execute_result",
          "data": {
            "text/plain": [
              "[Row(Name='Alice', Age=25, Department='Engineering', Salary=60000),\n",
              " Row(Name='Bob', Age=30, Department='Sales', Salary=70000),\n",
              " Row(Name='Charlie', Age=22, Department='Marketing', Salary=55000),\n",
              " Row(Name='David', Age=35, Department='Engineering', Salary=75000),\n",
              " Row(Name='Eve', Age=28, Department='Sales', Salary=65000)]"
            ]
          },
          "metadata": {},
          "execution_count": 10
        }
      ]
    },
    {
      "cell_type": "markdown",
      "source": [
        "# **importing data from kaggle**\n",
        "\n",
        "https://www.kaggle.com/datasets/baiqi301/employee-details/data\n",
        "\n",
        "download any kind of data set from kaggle and mount the dataset from kaggle to spark API to fetch the dataset."
      ],
      "metadata": {
        "id": "9KmcWJK8klB1"
      }
    },
    {
      "cell_type": "code",
      "source": [
        "#importing data from kaggle by mounting the dataset.\n",
        "\n",
        "# Install dependencies as needed:\n",
        "# pip install kagglehub[pandas-datasets]\n",
        "import kagglehub\n",
        "from kagglehub import KaggleDatasetAdapter\n",
        "\n",
        "# Set the path to the file you'd like to load\n",
        "file_path = \"employee_data.csv\"\n",
        "\n",
        "# Load the latest version\n",
        "df = kagglehub.load_dataset(\n",
        "  KaggleDatasetAdapter.PANDAS,\n",
        "  \"baiqi301/employee-details\",\n",
        "  file_path,\n",
        "  # Provide any additional arguments like\n",
        "  # sql_query or pandas_kwargs. See the\n",
        "  # documenation for more information:\n",
        "  # https://github.com/Kaggle/kagglehub/blob/main/README.md#kaggledatasetadapterpandas\n",
        ")\n",
        "\n",
        "print(\"First 5 records:\", df.head())\n",
        "\n"
      ],
      "metadata": {
        "colab": {
          "base_uri": "https://localhost:8080/"
        },
        "id": "VNvmzJ4GgGB3",
        "outputId": "329c0f08-560c-4eab-ccb1-da44b090a48c"
      },
      "execution_count": 11,
      "outputs": [
        {
          "output_type": "stream",
          "name": "stderr",
          "text": [
            "<ipython-input-11-0fac7ee7b3e2>:12: DeprecationWarning: load_dataset is deprecated and will be removed in a future version.\n",
            "  df = kagglehub.load_dataset(\n"
          ]
        },
        {
          "output_type": "stream",
          "name": "stdout",
          "text": [
            "Downloading from https://www.kaggle.com/api/v1/datasets/download/baiqi301/employee-details?dataset_version_number=1&file_name=employee_data.csv...\n"
          ]
        },
        {
          "output_type": "stream",
          "name": "stderr",
          "text": [
            "100%|██████████| 767k/767k [00:01<00:00, 737kB/s]"
          ]
        },
        {
          "output_type": "stream",
          "name": "stdout",
          "text": [
            "First 5 records:    Employee_ID              Name  Age  Gender                      Email  \\\n",
            "0            1     Brian Garrett   35    Male    montestammy@example.net   \n",
            "1            2      Isaac Walker   48  Female  crystalmolina@example.com   \n",
            "2            3  Kristin Friedman   27  Female      rachael41@example.net   \n",
            "3            4   Clinton Serrano   24  Female         john42@example.net   \n",
            "4            5   Tammy Armstrong   35  Female        qfuller@example.com   \n",
            "\n",
            "                                             Address Department  \\\n",
            "0  8977 Reid Crescent Apt. 086, West Coryport, GA...         HR   \n",
            "1         160 Williams Ridge, East Garrett, FL 61869         HR   \n",
            "2    50862 Chavez Burg Suite 488, Cruzbury, MA 65054  Marketing   \n",
            "3  96485 Brittany Roads Suite 604, Stacybury, SC ...  Marketing   \n",
            "4     497 Sabrina Club Suite 544, Tranberg, GU 03620  Marketing   \n",
            "\n",
            "   Years_at_Company  Annual_Salary  Satisfaction_Level  \\\n",
            "0             10.69       70448.68                4.79   \n",
            "1              7.32      107131.11                4.90   \n",
            "2             16.89      108398.00                4.20   \n",
            "3              8.15      132910.63                3.38   \n",
            "4             23.15       79724.66                1.68   \n",
            "\n",
            "   Last_Promotion_Years_Ago  Projects_Completed  Work_Hours_Per_Week  \\\n",
            "0                         3                  15                   48   \n",
            "1                         7                   9                   47   \n",
            "2                         7                  18                   58   \n",
            "3                         4                   8                   40   \n",
            "4                         1                   6                   23   \n",
            "\n",
            "   Remote_Work_Days_Per_Week Education_Level Performance_Rating  \n",
            "0                          4        Master's               Good  \n",
            "1                          0       Associate               Good  \n",
            "2                          0      Bachelor's      Below Average  \n",
            "3                          2             PhD      Below Average  \n",
            "4                          0      Bachelor's          Excellent  \n"
          ]
        },
        {
          "output_type": "stream",
          "name": "stderr",
          "text": [
            "\n"
          ]
        }
      ]
    },
    {
      "cell_type": "code",
      "source": [
        "#read the data set form pyspark\n",
        "\n",
        "employee_data = spark.createDataFrame(df)\n",
        "\n",
        "employee_data.show()"
      ],
      "metadata": {
        "colab": {
          "base_uri": "https://localhost:8080/"
        },
        "id": "3Bz-gjz4lho_",
        "outputId": "ff98ee06-9a65-43ee-f702-9d239ba0ac44"
      },
      "execution_count": 12,
      "outputs": [
        {
          "output_type": "stream",
          "name": "stdout",
          "text": [
            "+-----------+------------------+---+----------+--------------------+--------------------+-----------+----------------+-------------+------------------+------------------------+------------------+-------------------+-------------------------+---------------+------------------+\n",
            "|Employee_ID|              Name|Age|    Gender|               Email|             Address| Department|Years_at_Company|Annual_Salary|Satisfaction_Level|Last_Promotion_Years_Ago|Projects_Completed|Work_Hours_Per_Week|Remote_Work_Days_Per_Week|Education_Level|Performance_Rating|\n",
            "+-----------+------------------+---+----------+--------------------+--------------------+-----------+----------------+-------------+------------------+------------------------+------------------+-------------------+-------------------------+---------------+------------------+\n",
            "|          1|     Brian Garrett| 35|      Male|montestammy@examp...|8977 Reid Crescen...|         HR|           10.69|     70448.68|              4.79|                       3|                15|                 48|                        4|       Master's|              Good|\n",
            "|          2|      Isaac Walker| 48|    Female|crystalmolina@exa...|160 Williams Ridg...|         HR|            7.32|    107131.11|               4.9|                       7|                 9|                 47|                        0|      Associate|              Good|\n",
            "|          3|  Kristin Friedman| 27|    Female|rachael41@example...|50862 Chavez Burg...|  Marketing|           16.89|     108398.0|               4.2|                       7|                18|                 58|                        0|     Bachelor's|     Below Average|\n",
            "|          4|   Clinton Serrano| 24|    Female|  john42@example.net|96485 Brittany Ro...|  Marketing|            8.15|    132910.63|              3.38|                       4|                 8|                 40|                        2|            PhD|     Below Average|\n",
            "|          5|   Tammy Armstrong| 35|    Female| qfuller@example.com|497 Sabrina Club ...|  Marketing|           23.15|     79724.66|              1.68|                       1|                 6|                 23|                        0|     Bachelor's|         Excellent|\n",
            "|          6|   Taylor Ayala MD| 50|      Male|  vgomez@example.com|14349 Joseph Lane...|Engineering|           10.78|     63607.61|              7.27|                       9|                 8|                 54|                        4|    High School|     Below Average|\n",
            "|          7|    Stacey Freeman| 55|    Female| ymurphy@example.com|3988 Christopher ...|    Finance|           28.02|    111763.39|              3.74|                      10|                13|                 41|                        5|       Master's|              Good|\n",
            "|          8|         Erin Dunn| 57|    Female|kennethparker@exa...|64991 Mark Meadow...|Engineering|           13.92|    149556.87|              1.67|                       1|                18|                 35|                        1|     Bachelor's|     Below Average|\n",
            "|          9|      Kayla Harvey| 63|Non-Binary|simselizabeth@exa...|19337 Gray Bridge...|         HR|            2.66|    108721.47|              3.63|                       8|                 3|                 50|                        5|     Bachelor's|     Below Average|\n",
            "|         10|      Ronald Smith| 30|Non-Binary|dhumphrey@example...|6974 Megan Falls ...|  Marketing|           25.07|     107202.0|              3.06|                       9|                17|                 30|                        1|       Master's|              Good|\n",
            "|         11|    Sally Trujillo| 28|      Male|rachel25@example.com|9417 Ramsey Prair...|         HR|            4.19|    114880.87|              0.55|                       2|                10|                 22|                        3|      Associate|              Good|\n",
            "|         12|      Robert Brown| 53|Non-Binary|bonnie18@example.net|2708 Mark Coves, ...|Engineering|           19.19|     91437.37|              5.11|                       6|                 6|                 40|                        5|     Bachelor's|     Below Average|\n",
            "|         13|Christopher Foster| 31|    Female|  htyler@example.org|86773 Joseph Ligh...|    Finance|           27.81|     75546.58|              2.93|                       1|                12|                 22|                        1|     Bachelor's|         Excellent|\n",
            "|         14|     Tamara Farmer| 32|      Male|eramirez@example.org|721 Sarah Mission...|      Sales|           11.51|     65754.69|              8.24|                       0|                 2|                 26|                        3|     Bachelor's|     Below Average|\n",
            "|         15|      Denise Ortiz| 32|Non-Binary|margaret07@exampl...|407 Barber Center...|    Finance|           19.65|    137333.95|              4.87|                       1|                17|                 48|                        3|    High School|         Excellent|\n",
            "|         16|   Jordan Hall Jr.| 21|    Female| vdudley@example.org|USS Middleton, FP...|  Marketing|           21.77|    147638.16|              5.28|                       7|                 4|                 20|                        4|       Master's|              Good|\n",
            "|         17|       David Myers| 30|      Male| ksparks@example.com|Unit 5231 Box 652...|  Marketing|           11.37|     59190.38|              1.78|                       5|                11|                 37|                        1|     Bachelor's|     Below Average|\n",
            "|         18|  Rebecca Marshall| 33|Non-Binary|   breid@example.org|067 Jessica Vista...|Engineering|           24.97|     96658.36|              1.85|                      10|                20|                 40|                        0|      Associate|     Below Average|\n",
            "|         19| Gregory Velazquez| 60|      Male|christopher80@exa...|PSC 3135, Box 937...|         HR|           24.52|     57325.78|              1.24|                       6|                 2|                 56|                        5|      Associate|           Average|\n",
            "|         20|        Marc Jones| 48|    Female|  alan25@example.com|186 Moyer Skyway,...|    Finance|            29.4|    128631.28|              3.13|                       8|                17|                 35|                        3|      Associate|           Average|\n",
            "+-----------+------------------+---+----------+--------------------+--------------------+-----------+----------------+-------------+------------------+------------------------+------------------+-------------------+-------------------------+---------------+------------------+\n",
            "only showing top 20 rows\n",
            "\n"
          ]
        }
      ]
    },
    {
      "cell_type": "code",
      "source": [
        "from ast import mod\n",
        "#store the datset to localfile.\n",
        "save_data = employee_data.coalesce(1).write.csv(\"/content/sample_data/employee_data.csv\", mode=\"overwrite\", header=True)\n"
      ],
      "metadata": {
        "id": "gsfPiEh_l_IK"
      },
      "execution_count": 13,
      "outputs": []
    },
    {
      "cell_type": "code",
      "source": [
        "#read the datset from localfile and store it in data frame\n",
        "\n",
        "df = spark.read.csv(\"/content/sample_data/employee_data.csv\", header=True, inferSchema=True)\n",
        "df.show()"
      ],
      "metadata": {
        "colab": {
          "base_uri": "https://localhost:8080/"
        },
        "id": "mIAPcMwunRNg",
        "outputId": "ff9edb42-f9db-4e58-d453-d3eee1d0e45d"
      },
      "execution_count": 14,
      "outputs": [
        {
          "output_type": "stream",
          "name": "stdout",
          "text": [
            "+-----------+------------------+---+----------+--------------------+--------------------+-----------+----------------+-------------+------------------+------------------------+------------------+-------------------+-------------------------+---------------+------------------+\n",
            "|Employee_ID|              Name|Age|    Gender|               Email|             Address| Department|Years_at_Company|Annual_Salary|Satisfaction_Level|Last_Promotion_Years_Ago|Projects_Completed|Work_Hours_Per_Week|Remote_Work_Days_Per_Week|Education_Level|Performance_Rating|\n",
            "+-----------+------------------+---+----------+--------------------+--------------------+-----------+----------------+-------------+------------------+------------------------+------------------+-------------------+-------------------------+---------------+------------------+\n",
            "|          1|     Brian Garrett| 35|      Male|montestammy@examp...|8977 Reid Crescen...|         HR|           10.69|     70448.68|              4.79|                       3|                15|                 48|                        4|       Master's|              Good|\n",
            "|          2|      Isaac Walker| 48|    Female|crystalmolina@exa...|160 Williams Ridg...|         HR|            7.32|    107131.11|               4.9|                       7|                 9|                 47|                        0|      Associate|              Good|\n",
            "|          3|  Kristin Friedman| 27|    Female|rachael41@example...|50862 Chavez Burg...|  Marketing|           16.89|     108398.0|               4.2|                       7|                18|                 58|                        0|     Bachelor's|     Below Average|\n",
            "|          4|   Clinton Serrano| 24|    Female|  john42@example.net|96485 Brittany Ro...|  Marketing|            8.15|    132910.63|              3.38|                       4|                 8|                 40|                        2|            PhD|     Below Average|\n",
            "|          5|   Tammy Armstrong| 35|    Female| qfuller@example.com|497 Sabrina Club ...|  Marketing|           23.15|     79724.66|              1.68|                       1|                 6|                 23|                        0|     Bachelor's|         Excellent|\n",
            "|          6|   Taylor Ayala MD| 50|      Male|  vgomez@example.com|14349 Joseph Lane...|Engineering|           10.78|     63607.61|              7.27|                       9|                 8|                 54|                        4|    High School|     Below Average|\n",
            "|          7|    Stacey Freeman| 55|    Female| ymurphy@example.com|3988 Christopher ...|    Finance|           28.02|    111763.39|              3.74|                      10|                13|                 41|                        5|       Master's|              Good|\n",
            "|          8|         Erin Dunn| 57|    Female|kennethparker@exa...|64991 Mark Meadow...|Engineering|           13.92|    149556.87|              1.67|                       1|                18|                 35|                        1|     Bachelor's|     Below Average|\n",
            "|          9|      Kayla Harvey| 63|Non-Binary|simselizabeth@exa...|19337 Gray Bridge...|         HR|            2.66|    108721.47|              3.63|                       8|                 3|                 50|                        5|     Bachelor's|     Below Average|\n",
            "|         10|      Ronald Smith| 30|Non-Binary|dhumphrey@example...|6974 Megan Falls ...|  Marketing|           25.07|     107202.0|              3.06|                       9|                17|                 30|                        1|       Master's|              Good|\n",
            "|         11|    Sally Trujillo| 28|      Male|rachel25@example.com|9417 Ramsey Prair...|         HR|            4.19|    114880.87|              0.55|                       2|                10|                 22|                        3|      Associate|              Good|\n",
            "|         12|      Robert Brown| 53|Non-Binary|bonnie18@example.net|2708 Mark Coves, ...|Engineering|           19.19|     91437.37|              5.11|                       6|                 6|                 40|                        5|     Bachelor's|     Below Average|\n",
            "|         13|Christopher Foster| 31|    Female|  htyler@example.org|86773 Joseph Ligh...|    Finance|           27.81|     75546.58|              2.93|                       1|                12|                 22|                        1|     Bachelor's|         Excellent|\n",
            "|         14|     Tamara Farmer| 32|      Male|eramirez@example.org|721 Sarah Mission...|      Sales|           11.51|     65754.69|              8.24|                       0|                 2|                 26|                        3|     Bachelor's|     Below Average|\n",
            "|         15|      Denise Ortiz| 32|Non-Binary|margaret07@exampl...|407 Barber Center...|    Finance|           19.65|    137333.95|              4.87|                       1|                17|                 48|                        3|    High School|         Excellent|\n",
            "|         16|   Jordan Hall Jr.| 21|    Female| vdudley@example.org|USS Middleton, FP...|  Marketing|           21.77|    147638.16|              5.28|                       7|                 4|                 20|                        4|       Master's|              Good|\n",
            "|         17|       David Myers| 30|      Male| ksparks@example.com|Unit 5231 Box 652...|  Marketing|           11.37|     59190.38|              1.78|                       5|                11|                 37|                        1|     Bachelor's|     Below Average|\n",
            "|         18|  Rebecca Marshall| 33|Non-Binary|   breid@example.org|067 Jessica Vista...|Engineering|           24.97|     96658.36|              1.85|                      10|                20|                 40|                        0|      Associate|     Below Average|\n",
            "|         19| Gregory Velazquez| 60|      Male|christopher80@exa...|PSC 3135, Box 937...|         HR|           24.52|     57325.78|              1.24|                       6|                 2|                 56|                        5|      Associate|           Average|\n",
            "|         20|        Marc Jones| 48|    Female|  alan25@example.com|186 Moyer Skyway,...|    Finance|            29.4|    128631.28|              3.13|                       8|                17|                 35|                        3|      Associate|           Average|\n",
            "+-----------+------------------+---+----------+--------------------+--------------------+-----------+----------------+-------------+------------------+------------------------+------------------+-------------------+-------------------------+---------------+------------------+\n",
            "only showing top 20 rows\n",
            "\n"
          ]
        }
      ]
    },
    {
      "cell_type": "code",
      "source": [
        "df.printSchema()"
      ],
      "metadata": {
        "colab": {
          "base_uri": "https://localhost:8080/"
        },
        "id": "kF7-T3eKqJb1",
        "outputId": "3b70aced-1227-4cb5-c76f-17614dae5d5d"
      },
      "execution_count": 15,
      "outputs": [
        {
          "output_type": "stream",
          "name": "stdout",
          "text": [
            "root\n",
            " |-- Employee_ID: integer (nullable = true)\n",
            " |-- Name: string (nullable = true)\n",
            " |-- Age: integer (nullable = true)\n",
            " |-- Gender: string (nullable = true)\n",
            " |-- Email: string (nullable = true)\n",
            " |-- Address: string (nullable = true)\n",
            " |-- Department: string (nullable = true)\n",
            " |-- Years_at_Company: double (nullable = true)\n",
            " |-- Annual_Salary: double (nullable = true)\n",
            " |-- Satisfaction_Level: double (nullable = true)\n",
            " |-- Last_Promotion_Years_Ago: integer (nullable = true)\n",
            " |-- Projects_Completed: integer (nullable = true)\n",
            " |-- Work_Hours_Per_Week: integer (nullable = true)\n",
            " |-- Remote_Work_Days_Per_Week: integer (nullable = true)\n",
            " |-- Education_Level: string (nullable = true)\n",
            " |-- Performance_Rating: string (nullable = true)\n",
            "\n"
          ]
        }
      ]
    },
    {
      "cell_type": "code",
      "source": [
        "df.first()"
      ],
      "metadata": {
        "colab": {
          "base_uri": "https://localhost:8080/"
        },
        "id": "BTayycfEqM4H",
        "outputId": "9820ee44-5ee6-49f9-d44d-c785a2b12488"
      },
      "execution_count": 16,
      "outputs": [
        {
          "output_type": "execute_result",
          "data": {
            "text/plain": [
              "Row(Employee_ID=1, Name='Brian Garrett', Age=35, Gender='Male', Email='montestammy@example.net', Address='8977 Reid Crescent Apt. 086, West Coryport, GA 43877', Department='HR', Years_at_Company=10.69, Annual_Salary=70448.68, Satisfaction_Level=4.79, Last_Promotion_Years_Ago=3, Projects_Completed=15, Work_Hours_Per_Week=48, Remote_Work_Days_Per_Week=4, Education_Level=\"Master's\", Performance_Rating='Good')"
            ]
          },
          "metadata": {},
          "execution_count": 16
        }
      ]
    },
    {
      "cell_type": "code",
      "source": [
        "df.count()"
      ],
      "metadata": {
        "colab": {
          "base_uri": "https://localhost:8080/"
        },
        "id": "TndkKj6fqQtd",
        "outputId": "070af970-0d74-478a-91d4-264a460637b5"
      },
      "execution_count": 17,
      "outputs": [
        {
          "output_type": "execute_result",
          "data": {
            "text/plain": [
              "5000"
            ]
          },
          "metadata": {},
          "execution_count": 17
        }
      ]
    },
    {
      "source": [
        "# Get the number of columns in the DataFrame\n",
        "num_columns = len(df.columns)\n",
        "\n",
        "# You can then print or use the num_columns variable\n",
        "print(num_columns)"
      ],
      "cell_type": "code",
      "metadata": {
        "colab": {
          "base_uri": "https://localhost:8080/"
        },
        "id": "M91Td5iVq7D_",
        "outputId": "4c6b7b97-c3e7-4d59-ed41-3ad78b21d8e6"
      },
      "execution_count": 18,
      "outputs": [
        {
          "output_type": "stream",
          "name": "stdout",
          "text": [
            "16\n"
          ]
        }
      ]
    },
    {
      "source": [
        "# Use the logical AND operator (&) with parentheses around each condition\n",
        "df.select(\"Name\", \"Age\").filter((df[\"Age\"] > 30) & (df[\"Age\"] < 35)).count()"
      ],
      "cell_type": "code",
      "metadata": {
        "colab": {
          "base_uri": "https://localhost:8080/"
        },
        "id": "VZJ5EXdvygDa",
        "outputId": "47321b3e-cf74-4482-d62b-77c89ada8139"
      },
      "execution_count": 19,
      "outputs": [
        {
          "output_type": "execute_result",
          "data": {
            "text/plain": [
              "396"
            ]
          },
          "metadata": {},
          "execution_count": 19
        }
      ]
    },
    {
      "cell_type": "code",
      "source": [
        "#select\n",
        "\n",
        "df.select(\"Name\", \"Age\").show()"
      ],
      "metadata": {
        "colab": {
          "base_uri": "https://localhost:8080/"
        },
        "id": "0leJBaugFOfL",
        "outputId": "71a15c69-c544-4a26-a877-e298aa45e4c9"
      },
      "execution_count": 20,
      "outputs": [
        {
          "output_type": "stream",
          "name": "stdout",
          "text": [
            "+------------------+---+\n",
            "|              Name|Age|\n",
            "+------------------+---+\n",
            "|     Brian Garrett| 35|\n",
            "|      Isaac Walker| 48|\n",
            "|  Kristin Friedman| 27|\n",
            "|   Clinton Serrano| 24|\n",
            "|   Tammy Armstrong| 35|\n",
            "|   Taylor Ayala MD| 50|\n",
            "|    Stacey Freeman| 55|\n",
            "|         Erin Dunn| 57|\n",
            "|      Kayla Harvey| 63|\n",
            "|      Ronald Smith| 30|\n",
            "|    Sally Trujillo| 28|\n",
            "|      Robert Brown| 53|\n",
            "|Christopher Foster| 31|\n",
            "|     Tamara Farmer| 32|\n",
            "|      Denise Ortiz| 32|\n",
            "|   Jordan Hall Jr.| 21|\n",
            "|       David Myers| 30|\n",
            "|  Rebecca Marshall| 33|\n",
            "| Gregory Velazquez| 60|\n",
            "|        Marc Jones| 48|\n",
            "+------------------+---+\n",
            "only showing top 20 rows\n",
            "\n"
          ]
        }
      ]
    },
    {
      "cell_type": "code",
      "source": [
        "#where\n",
        "df.where(df[\"Age\"] > 30).show()"
      ],
      "metadata": {
        "colab": {
          "base_uri": "https://localhost:8080/"
        },
        "id": "Byw_EZdKFUQb",
        "outputId": "065d517a-0aa9-4790-f307-cea2c7dfec9c"
      },
      "execution_count": 21,
      "outputs": [
        {
          "output_type": "stream",
          "name": "stdout",
          "text": [
            "+-----------+------------------+---+----------+--------------------+--------------------+-----------+----------------+-------------+------------------+------------------------+------------------+-------------------+-------------------------+---------------+------------------+\n",
            "|Employee_ID|              Name|Age|    Gender|               Email|             Address| Department|Years_at_Company|Annual_Salary|Satisfaction_Level|Last_Promotion_Years_Ago|Projects_Completed|Work_Hours_Per_Week|Remote_Work_Days_Per_Week|Education_Level|Performance_Rating|\n",
            "+-----------+------------------+---+----------+--------------------+--------------------+-----------+----------------+-------------+------------------+------------------------+------------------+-------------------+-------------------------+---------------+------------------+\n",
            "|          1|     Brian Garrett| 35|      Male|montestammy@examp...|8977 Reid Crescen...|         HR|           10.69|     70448.68|              4.79|                       3|                15|                 48|                        4|       Master's|              Good|\n",
            "|          2|      Isaac Walker| 48|    Female|crystalmolina@exa...|160 Williams Ridg...|         HR|            7.32|    107131.11|               4.9|                       7|                 9|                 47|                        0|      Associate|              Good|\n",
            "|          5|   Tammy Armstrong| 35|    Female| qfuller@example.com|497 Sabrina Club ...|  Marketing|           23.15|     79724.66|              1.68|                       1|                 6|                 23|                        0|     Bachelor's|         Excellent|\n",
            "|          6|   Taylor Ayala MD| 50|      Male|  vgomez@example.com|14349 Joseph Lane...|Engineering|           10.78|     63607.61|              7.27|                       9|                 8|                 54|                        4|    High School|     Below Average|\n",
            "|          7|    Stacey Freeman| 55|    Female| ymurphy@example.com|3988 Christopher ...|    Finance|           28.02|    111763.39|              3.74|                      10|                13|                 41|                        5|       Master's|              Good|\n",
            "|          8|         Erin Dunn| 57|    Female|kennethparker@exa...|64991 Mark Meadow...|Engineering|           13.92|    149556.87|              1.67|                       1|                18|                 35|                        1|     Bachelor's|     Below Average|\n",
            "|          9|      Kayla Harvey| 63|Non-Binary|simselizabeth@exa...|19337 Gray Bridge...|         HR|            2.66|    108721.47|              3.63|                       8|                 3|                 50|                        5|     Bachelor's|     Below Average|\n",
            "|         12|      Robert Brown| 53|Non-Binary|bonnie18@example.net|2708 Mark Coves, ...|Engineering|           19.19|     91437.37|              5.11|                       6|                 6|                 40|                        5|     Bachelor's|     Below Average|\n",
            "|         13|Christopher Foster| 31|    Female|  htyler@example.org|86773 Joseph Ligh...|    Finance|           27.81|     75546.58|              2.93|                       1|                12|                 22|                        1|     Bachelor's|         Excellent|\n",
            "|         14|     Tamara Farmer| 32|      Male|eramirez@example.org|721 Sarah Mission...|      Sales|           11.51|     65754.69|              8.24|                       0|                 2|                 26|                        3|     Bachelor's|     Below Average|\n",
            "|         15|      Denise Ortiz| 32|Non-Binary|margaret07@exampl...|407 Barber Center...|    Finance|           19.65|    137333.95|              4.87|                       1|                17|                 48|                        3|    High School|         Excellent|\n",
            "|         18|  Rebecca Marshall| 33|Non-Binary|   breid@example.org|067 Jessica Vista...|Engineering|           24.97|     96658.36|              1.85|                      10|                20|                 40|                        0|      Associate|     Below Average|\n",
            "|         19| Gregory Velazquez| 60|      Male|christopher80@exa...|PSC 3135, Box 937...|         HR|           24.52|     57325.78|              1.24|                       6|                 2|                 56|                        5|      Associate|           Average|\n",
            "|         20|        Marc Jones| 48|    Female|  alan25@example.com|186 Moyer Skyway,...|    Finance|            29.4|    128631.28|              3.13|                       8|                17|                 35|                        3|      Associate|           Average|\n",
            "|         23|    Joshua Gardner| 61|Non-Binary|bishopmichael@exa...|486 Michael Coves...|      Sales|           22.34|     54639.18|              3.63|                       4|                 8|                 60|                        3|       Master's|         Excellent|\n",
            "|         24|    Anthony Wilcox| 39|      Male|manningjane@examp...|4342 Kristi Viadu...|      Sales|           29.56|     53355.37|              0.46|                      10|                12|                 47|                        2|       Master's|           Average|\n",
            "|         25|    Antonio Bryant| 37|    Female|  carl79@example.net|9307 Henderson Vi...|  Marketing|            9.23|     65250.82|              7.52|                       9|                12|                 48|                        5|     Bachelor's|         Excellent|\n",
            "|         27| Stephen Contreras| 34|      Male|mwilliams@example...|66695 Courtney La...|    Finance|            4.34|     99179.48|              9.34|                       8|                20|                 39|                        4|       Master's|              Good|\n",
            "|         28|      Erica Holmes| 52|      Male|hebertmichael@exa...|9067 Williams Isl...|         HR|           18.86|    103171.47|              2.27|                       8|                 5|                 52|                        0|      Associate|         Excellent|\n",
            "|         29|  Jessica Williams| 40|Non-Binary|watkinsjamie@exam...|460 Jeffrey Radia...|  Marketing|           29.08|    123483.81|              1.44|                       3|                 1|                 39|                        5|    High School|           Average|\n",
            "+-----------+------------------+---+----------+--------------------+--------------------+-----------+----------------+-------------+------------------+------------------------+------------------+-------------------+-------------------------+---------------+------------------+\n",
            "only showing top 20 rows\n",
            "\n"
          ]
        }
      ]
    },
    {
      "cell_type": "code",
      "source": [
        "#filter\n",
        "df.filter(df[\"Gender\"] == 'Male' ).show()\n",
        "df.filter((df[\"Gender\"] == 'Female') & (df['Age']==30)).show()"
      ],
      "metadata": {
        "colab": {
          "base_uri": "https://localhost:8080/"
        },
        "id": "EY5DpK2AFbJl",
        "outputId": "e57a8e05-75fa-48b5-d5b6-dd8d9ac8cc97"
      },
      "execution_count": 22,
      "outputs": [
        {
          "output_type": "stream",
          "name": "stdout",
          "text": [
            "+-----------+-----------------+---+------+--------------------+--------------------+-----------+----------------+-------------+------------------+------------------------+------------------+-------------------+-------------------------+---------------+------------------+\n",
            "|Employee_ID|             Name|Age|Gender|               Email|             Address| Department|Years_at_Company|Annual_Salary|Satisfaction_Level|Last_Promotion_Years_Ago|Projects_Completed|Work_Hours_Per_Week|Remote_Work_Days_Per_Week|Education_Level|Performance_Rating|\n",
            "+-----------+-----------------+---+------+--------------------+--------------------+-----------+----------------+-------------+------------------+------------------------+------------------+-------------------+-------------------------+---------------+------------------+\n",
            "|          1|    Brian Garrett| 35|  Male|montestammy@examp...|8977 Reid Crescen...|         HR|           10.69|     70448.68|              4.79|                       3|                15|                 48|                        4|       Master's|              Good|\n",
            "|          6|  Taylor Ayala MD| 50|  Male|  vgomez@example.com|14349 Joseph Lane...|Engineering|           10.78|     63607.61|              7.27|                       9|                 8|                 54|                        4|    High School|     Below Average|\n",
            "|         11|   Sally Trujillo| 28|  Male|rachel25@example.com|9417 Ramsey Prair...|         HR|            4.19|    114880.87|              0.55|                       2|                10|                 22|                        3|      Associate|              Good|\n",
            "|         14|    Tamara Farmer| 32|  Male|eramirez@example.org|721 Sarah Mission...|      Sales|           11.51|     65754.69|              8.24|                       0|                 2|                 26|                        3|     Bachelor's|     Below Average|\n",
            "|         17|      David Myers| 30|  Male| ksparks@example.com|Unit 5231 Box 652...|  Marketing|           11.37|     59190.38|              1.78|                       5|                11|                 37|                        1|     Bachelor's|     Below Average|\n",
            "|         19|Gregory Velazquez| 60|  Male|christopher80@exa...|PSC 3135, Box 937...|         HR|           24.52|     57325.78|              1.24|                       6|                 2|                 56|                        5|      Associate|           Average|\n",
            "|         24|   Anthony Wilcox| 39|  Male|manningjane@examp...|4342 Kristi Viadu...|      Sales|           29.56|     53355.37|              0.46|                      10|                12|                 47|                        2|       Master's|           Average|\n",
            "|         26|Brandon Hendricks| 27|  Male|rnichols@example.net|7944 Kelly River ...|         HR|           26.54|    147479.39|               0.7|                       6|                 3|                 53|                        3|            PhD|         Excellent|\n",
            "|         27|Stephen Contreras| 34|  Male|mwilliams@example...|66695 Courtney La...|    Finance|            4.34|     99179.48|              9.34|                       8|                20|                 39|                        4|       Master's|              Good|\n",
            "|         28|     Erica Holmes| 52|  Male|hebertmichael@exa...|9067 Williams Isl...|         HR|           18.86|    103171.47|              2.27|                       8|                 5|                 52|                        0|      Associate|         Excellent|\n",
            "|         31|      Stacy Price| 43|  Male|michael99@example...|77192 Charles Fal...|Engineering|            0.43|     80875.19|              3.45|                       1|                 4|                 27|                        3|       Master's|              Good|\n",
            "|         33|   Annette Holmes| 55|  Male| ihughes@example.com|789 Tiffany Isle ...|  Marketing|           17.08|    103362.19|              8.73|                       8|                 7|                 32|                        3|       Master's|     Below Average|\n",
            "|         49|         Gina Cox| 35|  Male| brady74@example.com|1054 Alison Cente...|Engineering|           13.86|    146237.71|              3.46|                       0|                13|                 60|                        5|       Master's|         Excellent|\n",
            "|         52| Alexander Turner| 23|  Male|cmerritt@example.com|54905 Melinda Pik...|         HR|           18.67|     50786.08|              1.71|                       4|                14|                 39|                        4|      Associate|     Below Average|\n",
            "|         53|    Kylie Manning| 55|  Male| awright@example.org|4909 Moore Pines,...|Engineering|           11.38|    139081.42|               6.4|                       2|                19|                 39|                        5|       Master's|           Average|\n",
            "|         55|   Jessica Wilson| 44|  Male|dfreeman@example.net|4522 Harris Glen ...|  Marketing|            5.02|      54319.9|              9.38|                       5|                 7|                 38|                        0|     Bachelor's|         Excellent|\n",
            "|         56|     Robert Smith| 59|  Male|emilysalinas@exam...|24024 Steven Isla...|         HR|            3.42|     77930.73|              5.96|                       2|                 9|                 21|                        1|      Associate|           Average|\n",
            "|         60|     Karen Powell| 56|  Male|changstephen@exam...|17080 Angela Exte...|  Marketing|           20.93|     94107.77|              8.38|                       0|                18|                 59|                        5|     Bachelor's|     Below Average|\n",
            "|         62|    Angela Lawson| 20|  Male|  rstone@example.com|044 Christine Poi...|Engineering|            9.77|    131545.36|              4.06|                      10|                 7|                 48|                        2|       Master's|              Good|\n",
            "|         65|    Beverly Brown| 56|  Male|barnettcarl@examp...|733 King Mount, J...|    Finance|           24.68|    130149.48|               5.5|                       6|                13|                 50|                        3|     Bachelor's|         Excellent|\n",
            "+-----------+-----------------+---+------+--------------------+--------------------+-----------+----------------+-------------+------------------+------------------------+------------------+-------------------+-------------------------+---------------+------------------+\n",
            "only showing top 20 rows\n",
            "\n",
            "+-----------+-----------------+---+------+--------------------+--------------------+-----------+----------------+-------------+------------------+------------------------+------------------+-------------------+-------------------------+---------------+------------------+\n",
            "|Employee_ID|             Name|Age|Gender|               Email|             Address| Department|Years_at_Company|Annual_Salary|Satisfaction_Level|Last_Promotion_Years_Ago|Projects_Completed|Work_Hours_Per_Week|Remote_Work_Days_Per_Week|Education_Level|Performance_Rating|\n",
            "+-----------+-----------------+---+------+--------------------+--------------------+-----------+----------------+-------------+------------------+------------------------+------------------+-------------------+-------------------------+---------------+------------------+\n",
            "|         21|       Ryan Grant| 30|Female|miguelschneider@e...|081 Elizabeth Mou...|         HR|           13.73|    114081.59|              0.86|                      10|                 5|                 26|                        2|       Master's|     Below Average|\n",
            "|        102|    Caitlin Olson| 30|Female|wardchristopher@e...|310 Walter Dam Ap...|         HR|           19.97|     62168.51|              8.23|                       5|                 4|                 22|                        2|      Associate|         Excellent|\n",
            "|        105|Tiffany Rodriguez| 30|Female|caitlin22@example...|USCGC Williamson,...|      Sales|           26.39|    112334.44|              9.87|                       5|                 5|                 41|                        4|    High School|           Average|\n",
            "|        269|      Rachel Tran| 30|Female|  mary81@example.org|44700 Grant Strea...|  Marketing|           13.25|      94914.2|              0.66|                       8|                16|                 54|                        2|       Master's|         Excellent|\n",
            "|        359|       Mary Moore| 30|Female|zflowers@example.com|74361 Dunn Island...|      Sales|            5.16|    110129.94|              8.15|                       2|                 6|                 53|                        5|     Bachelor's|              Good|\n",
            "|        524|        Kyle Chan| 30|Female|derrick94@example...|1718 Smith Plains...|  Marketing|           10.68|     71160.51|              4.12|                       7|                 5|                 57|                        4|            PhD|              Good|\n",
            "|        628|     Hailey Brown| 30|Female|jamesweaver@examp...|29995 Irwin Valle...|         HR|            1.92|    139963.86|              5.59|                       8|                 0|                 46|                        3|     Bachelor's|     Below Average|\n",
            "|        667|      Maria Brown| 30|Female|christopherrobins...|96681 Myers Harbo...|    Finance|            0.04|    107197.81|              4.02|                       7|                11|                 21|                        4|       Master's|           Average|\n",
            "|        677|   Deanna Vazquez| 30|Female|michael49@example...|570 Jennifer Row ...|    Finance|            0.33|     60421.47|              4.79|                       0|                 6|                 51|                        2|      Associate|     Below Average|\n",
            "|       1064|    Nicole Fisher| 30|Female|  vlewis@example.org|2980 Sabrina Esta...|      Sales|           28.69|     77272.11|              7.38|                       7|                16|                 35|                        0|            PhD|              Good|\n",
            "|       1390|    Shannon Moran| 30|Female|crawfordjoseph@ex...|394 Michael Summi...|    Finance|           20.18|      68997.5|              1.95|                      10|                 2|                 26|                        1|     Bachelor's|           Average|\n",
            "|       1441|Benjamin Mcdonald| 30|Female|mariareyes@exampl...|90797 Washington ...|    Finance|            21.2|     85603.62|              6.63|                       8|                 6|                 27|                        4|            PhD|           Average|\n",
            "|       1450| Brittany Walters| 30|Female| atucker@example.net|5294 Brown Grove ...|      Sales|           18.73|     71857.73|              4.65|                       0|                 9|                 48|                        5|     Bachelor's|           Average|\n",
            "|       2005| Cassandra Martin| 30|Female|  lisa65@example.com|771 Tate Ridge, P...|      Sales|           27.05|     68556.18|              2.88|                      10|                 7|                 23|                        3|     Bachelor's|     Below Average|\n",
            "|       2198|     Kathy Harris| 30|Female|tristangreer@exam...|89323 Berry Circl...|Engineering|           29.01|     67857.66|              0.99|                       8|                 7|                 20|                        0|      Associate|         Excellent|\n",
            "|       2248|       Janet Shaw| 30|Female| amber92@example.net|64655 Lauren Pass...|Engineering|            0.65|    111416.74|              1.92|                       4|                 7|                 48|                        0|      Associate|           Average|\n",
            "|       2412|   Angela Johnson| 30|Female|mcintoshdarryl@ex...|USNS Heath, FPO A...|    Finance|            7.63|    112518.26|              4.63|                      10|                15|                 52|                        3|     Bachelor's|         Excellent|\n",
            "|       2415|  Joseph Shepherd| 30|Female|daviesanthony@exa...|909 Jessica Plain...|      Sales|            1.43|    148416.93|              6.12|                       5|                 9|                 35|                        5|     Bachelor's|           Average|\n",
            "|       2465|      Jared Yoder| 30|Female|gherrera@example.net|10587 Andrew Driv...|  Marketing|           29.87|    148498.42|              0.72|                       7|                 7|                 46|                        3|    High School|           Average|\n",
            "|       2638|     Jack Jimenez| 30|Female|williamsmith@exam...|USNV Johnson, FPO...|    Finance|           21.08|    135516.63|              9.12|                       3|                14|                 20|                        2|      Associate|     Below Average|\n",
            "+-----------+-----------------+---+------+--------------------+--------------------+-----------+----------------+-------------+------------------+------------------------+------------------+-------------------+-------------------------+---------------+------------------+\n",
            "only showing top 20 rows\n",
            "\n"
          ]
        }
      ]
    },
    {
      "cell_type": "code",
      "source": [
        "df.where(\"Department == 'HR' AND age == 30\").show()"
      ],
      "metadata": {
        "colab": {
          "base_uri": "https://localhost:8080/"
        },
        "id": "tbWZ0hKcF_BL",
        "outputId": "0b832b40-03de-4fc8-a065-5d6ec57a36e3"
      },
      "execution_count": 23,
      "outputs": [
        {
          "output_type": "stream",
          "name": "stdout",
          "text": [
            "+-----------+-------------------+---+----------+--------------------+--------------------+----------+----------------+-------------+------------------+------------------------+------------------+-------------------+-------------------------+---------------+------------------+\n",
            "|Employee_ID|               Name|Age|    Gender|               Email|             Address|Department|Years_at_Company|Annual_Salary|Satisfaction_Level|Last_Promotion_Years_Ago|Projects_Completed|Work_Hours_Per_Week|Remote_Work_Days_Per_Week|Education_Level|Performance_Rating|\n",
            "+-----------+-------------------+---+----------+--------------------+--------------------+----------+----------------+-------------+------------------+------------------------+------------------+-------------------+-------------------------+---------------+------------------+\n",
            "|         21|         Ryan Grant| 30|    Female|miguelschneider@e...|081 Elizabeth Mou...|        HR|           13.73|    114081.59|              0.86|                      10|                 5|                 26|                        2|       Master's|     Below Average|\n",
            "|         37|       James Tucker| 30|Non-Binary|morgancasey@examp...|842 White Drives,...|        HR|           10.48|    117290.36|              3.09|                       7|                 4|                 47|                        5|      Associate|              Good|\n",
            "|        102|      Caitlin Olson| 30|    Female|wardchristopher@e...|310 Walter Dam Ap...|        HR|           19.97|     62168.51|              8.23|                       5|                 4|                 22|                        2|      Associate|         Excellent|\n",
            "|        366|      Michael Henry| 30|      Male|nancyadams@exampl...|USNV Marshall, FP...|        HR|           12.14|    109273.77|              5.41|                       2|                 6|                 48|                        3|            PhD|         Excellent|\n",
            "|        457|        Maria Burns| 30|      Male| pnguyen@example.com|4422 Ward Roads A...|        HR|            0.04|    105502.16|              5.01|                       4|                20|                 52|                        5|    High School|              Good|\n",
            "|        531|         Erin Ramos| 30|Non-Binary|yvonne31@example.net|457 Nelson Mounta...|        HR|            9.49|      98353.3|              6.62|                       4|                19|                 30|                        3|      Associate|     Below Average|\n",
            "|        628|       Hailey Brown| 30|    Female|jamesweaver@examp...|29995 Irwin Valle...|        HR|            1.92|    139963.86|              5.59|                       8|                 0|                 46|                        3|     Bachelor's|     Below Average|\n",
            "|       1193|       Sean Jackson| 30|      Male|olsenkevin@exampl...|89504 Tyler Throu...|        HR|           11.57|    102514.28|              2.48|                       6|                10|                 27|                        3|       Master's|         Excellent|\n",
            "|       1606|    Jeremy Williams| 30|      Male|  msmith@example.net|70930 Saunders Ci...|        HR|            1.41|    100935.57|              2.11|                       4|                 7|                 37|                        3|      Associate|           Average|\n",
            "|       2853|         John Olsen| 30|Non-Binary|mallory38@example...|37249 Shannon Sta...|        HR|           13.16|     91074.91|              2.74|                       7|                10|                 54|                        2|     Bachelor's|           Average|\n",
            "|       2868|Christopher Simpson| 30|      Male|tiffanyallen@exam...|4516 Clark Ports,...|        HR|            1.92|     80714.69|              5.35|                       1|                20|                 50|                        4|       Master's|     Below Average|\n",
            "|       3046|     Jessica Harris| 30|      Male|christopher76@exa...|01244 Chavez Broo...|        HR|            0.24|    144204.34|              2.06|                       3|                14|                 34|                        4|     Bachelor's|         Excellent|\n",
            "|       3154|    Alyssa Jones MD| 30|Non-Binary|connor79@example.org|93933 Billy Circl...|        HR|           22.92|    124016.92|              3.17|                       5|                 7|                 29|                        5|       Master's|              Good|\n",
            "|       3294|     Marcus Edwards| 30|    Female| lpowers@example.com|33393 Paula Manor...|        HR|            2.36|     69994.25|              0.29|                       4|                 8|                 35|                        4|     Bachelor's|              Good|\n",
            "|       3816|         Mary Ramos| 30|    Female| skeller@example.net|7751 Garcia Sprin...|        HR|            17.4|    106157.65|              9.63|                       9|                14|                 24|                        2|      Associate|              Good|\n",
            "|       4039|     Mr. Jesus King| 30|      Male|kimberly68@exampl...|68466 Ebony Path,...|        HR|           23.74|     97689.16|              4.63|                       2|                 2|                 47|                        4|            PhD|         Excellent|\n",
            "|       4129|      Ashley Archer| 30|    Female|clarkjennifer@exa...|1874 Gabriel Terr...|        HR|           11.32|     59067.85|              4.54|                      10|                 9|                 32|                        1|      Associate|              Good|\n",
            "|       4537|   Katherine Glover| 30|Non-Binary|  vcolon@example.net|09774 Walker Mall...|        HR|           12.34|    124861.42|              6.59|                       4|                14|                 30|                        2|     Bachelor's|           Average|\n",
            "+-----------+-------------------+---+----------+--------------------+--------------------+----------+----------------+-------------+------------------+------------------------+------------------+-------------------+-------------------------+---------------+------------------+\n",
            "\n"
          ]
        }
      ]
    },
    {
      "cell_type": "markdown",
      "source": [
        "WITH COLOUMN"
      ],
      "metadata": {
        "id": "6JJcHDpzKEIq"
      }
    },
    {
      "cell_type": "code",
      "source": [
        "employee_data = [\n",
        "    (\"Alice\", 25, \"Engineering\", 60000),\n",
        "    (\"Bob\", 30, \"Sales\", 70000),\n",
        "    (\"Charlie\", 22, \"Marketing\", 55000),\n",
        "    (\"David\", 35, \"Engineering\", 75000),\n",
        "    (\"Eve\", 28, \"Sales\", 65000),\n",
        "    (\"Frank\", 40, \"Human Resources\", 80000),\n",
        "    (\"Grace\", 23, \"Marketing\", 58000),\n",
        "    (\"Heidi\", 31, \"Engineering\", 72000),\n",
        "    (\"Ivan\", 27, \"Sales\", 68000),\n",
        "    (\"Judy\", 29, \"Human Resources\", 78000),\n",
        "    (\"Kevin\", 26, \"Engineering\", 62000),\n",
        "    (\"Liam\", 33, \"Marketing\", 60000),\n",
        "    (\"Mia\", 24, \"Sales\", 63000),\n",
        "    (\"Noah\", 38, \"Engineering\", 85000),\n",
        "    (\"Olivia\", 32, \"Human Resources\", 82000),\n",
        "    (\"Peter\", 21, \"Marketing\", 52000),\n",
        "    (\"Quinn\", 36, \"Sales\", 72000),\n",
        "    (\"Riley\", 29, \"Engineering\", 70000),\n",
        "    (\"Sophia\", 27, \"Human Resources\", 75000),\n",
        "    (\"Thomas\", 34, \"Marketing\", 65000)\n",
        "]\n",
        "\n",
        "employee_table = [\"Name\", \"Age\", \"Department\", \"Salary\"]\n",
        "\n",
        "#create dataframe\n",
        "df = spark.createDataFrame(employee_data, employee_table)\n",
        "df.show()\n",
        "\n"
      ],
      "metadata": {
        "colab": {
          "base_uri": "https://localhost:8080/"
        },
        "id": "qNhHGTwoKTLI",
        "outputId": "6ae2ee5f-42cc-4972-e08c-e9ecc9588026"
      },
      "execution_count": 24,
      "outputs": [
        {
          "output_type": "stream",
          "name": "stdout",
          "text": [
            "+-------+---+---------------+------+\n",
            "|   Name|Age|     Department|Salary|\n",
            "+-------+---+---------------+------+\n",
            "|  Alice| 25|    Engineering| 60000|\n",
            "|    Bob| 30|          Sales| 70000|\n",
            "|Charlie| 22|      Marketing| 55000|\n",
            "|  David| 35|    Engineering| 75000|\n",
            "|    Eve| 28|          Sales| 65000|\n",
            "|  Frank| 40|Human Resources| 80000|\n",
            "|  Grace| 23|      Marketing| 58000|\n",
            "|  Heidi| 31|    Engineering| 72000|\n",
            "|   Ivan| 27|          Sales| 68000|\n",
            "|   Judy| 29|Human Resources| 78000|\n",
            "|  Kevin| 26|    Engineering| 62000|\n",
            "|   Liam| 33|      Marketing| 60000|\n",
            "|    Mia| 24|          Sales| 63000|\n",
            "|   Noah| 38|    Engineering| 85000|\n",
            "| Olivia| 32|Human Resources| 82000|\n",
            "|  Peter| 21|      Marketing| 52000|\n",
            "|  Quinn| 36|          Sales| 72000|\n",
            "|  Riley| 29|    Engineering| 70000|\n",
            "| Sophia| 27|Human Resources| 75000|\n",
            "| Thomas| 34|      Marketing| 65000|\n",
            "+-------+---+---------------+------+\n",
            "\n"
          ]
        }
      ]
    },
    {
      "cell_type": "code",
      "source": [
        "#add newcoloumn using withcoloum\n",
        "with_df = df.withColumn(\"Salary_increment\", df[\"Salary\"] * 1.05)\n",
        "with_df.show()\n"
      ],
      "metadata": {
        "colab": {
          "base_uri": "https://localhost:8080/"
        },
        "id": "8aa2fV1cMaVi",
        "outputId": "0989f3da-2db2-454b-9584-9e57637a773b"
      },
      "execution_count": 25,
      "outputs": [
        {
          "output_type": "stream",
          "name": "stdout",
          "text": [
            "+-------+---+---------------+------+----------------+\n",
            "|   Name|Age|     Department|Salary|Salary_increment|\n",
            "+-------+---+---------------+------+----------------+\n",
            "|  Alice| 25|    Engineering| 60000|         63000.0|\n",
            "|    Bob| 30|          Sales| 70000|         73500.0|\n",
            "|Charlie| 22|      Marketing| 55000|         57750.0|\n",
            "|  David| 35|    Engineering| 75000|         78750.0|\n",
            "|    Eve| 28|          Sales| 65000|         68250.0|\n",
            "|  Frank| 40|Human Resources| 80000|         84000.0|\n",
            "|  Grace| 23|      Marketing| 58000|         60900.0|\n",
            "|  Heidi| 31|    Engineering| 72000|         75600.0|\n",
            "|   Ivan| 27|          Sales| 68000|         71400.0|\n",
            "|   Judy| 29|Human Resources| 78000|         81900.0|\n",
            "|  Kevin| 26|    Engineering| 62000|         65100.0|\n",
            "|   Liam| 33|      Marketing| 60000|         63000.0|\n",
            "|    Mia| 24|          Sales| 63000|         66150.0|\n",
            "|   Noah| 38|    Engineering| 85000|         89250.0|\n",
            "| Olivia| 32|Human Resources| 82000|         86100.0|\n",
            "|  Peter| 21|      Marketing| 52000|         54600.0|\n",
            "|  Quinn| 36|          Sales| 72000|         75600.0|\n",
            "|  Riley| 29|    Engineering| 70000|         73500.0|\n",
            "| Sophia| 27|Human Resources| 75000|         78750.0|\n",
            "| Thomas| 34|      Marketing| 65000|         68250.0|\n",
            "+-------+---+---------------+------+----------------+\n",
            "\n"
          ]
        }
      ]
    },
    {
      "cell_type": "code",
      "source": [
        "#change a new value to the exesting coloumn\n",
        "df.withColumn(\"Age\", df[\"Age\"] + 1).show() #compare with above table"
      ],
      "metadata": {
        "colab": {
          "base_uri": "https://localhost:8080/"
        },
        "id": "JADjCjcxMg-Q",
        "outputId": "c16f9427-581f-4f62-ffe2-2f7d006a3c9c"
      },
      "execution_count": 26,
      "outputs": [
        {
          "output_type": "stream",
          "name": "stdout",
          "text": [
            "+-------+---+---------------+------+\n",
            "|   Name|Age|     Department|Salary|\n",
            "+-------+---+---------------+------+\n",
            "|  Alice| 26|    Engineering| 60000|\n",
            "|    Bob| 31|          Sales| 70000|\n",
            "|Charlie| 23|      Marketing| 55000|\n",
            "|  David| 36|    Engineering| 75000|\n",
            "|    Eve| 29|          Sales| 65000|\n",
            "|  Frank| 41|Human Resources| 80000|\n",
            "|  Grace| 24|      Marketing| 58000|\n",
            "|  Heidi| 32|    Engineering| 72000|\n",
            "|   Ivan| 28|          Sales| 68000|\n",
            "|   Judy| 30|Human Resources| 78000|\n",
            "|  Kevin| 27|    Engineering| 62000|\n",
            "|   Liam| 34|      Marketing| 60000|\n",
            "|    Mia| 25|          Sales| 63000|\n",
            "|   Noah| 39|    Engineering| 85000|\n",
            "| Olivia| 33|Human Resources| 82000|\n",
            "|  Peter| 22|      Marketing| 52000|\n",
            "|  Quinn| 37|          Sales| 72000|\n",
            "|  Riley| 30|    Engineering| 70000|\n",
            "| Sophia| 28|Human Resources| 75000|\n",
            "| Thomas| 35|      Marketing| 65000|\n",
            "+-------+---+---------------+------+\n",
            "\n"
          ]
        }
      ]
    },
    {
      "cell_type": "code",
      "source": [
        "#using lit\n",
        "\n",
        "from pyspark.sql.functions import lit\n",
        "\n",
        "df.withColumn(\"Country\", lit(\"IND\")).show()\n"
      ],
      "metadata": {
        "colab": {
          "base_uri": "https://localhost:8080/"
        },
        "id": "A-lUsPEDM6xh",
        "outputId": "49652897-5f2f-483f-d542-3c9b0efaae7f"
      },
      "execution_count": 27,
      "outputs": [
        {
          "output_type": "stream",
          "name": "stdout",
          "text": [
            "+-------+---+---------------+------+-------+\n",
            "|   Name|Age|     Department|Salary|Country|\n",
            "+-------+---+---------------+------+-------+\n",
            "|  Alice| 25|    Engineering| 60000|    IND|\n",
            "|    Bob| 30|          Sales| 70000|    IND|\n",
            "|Charlie| 22|      Marketing| 55000|    IND|\n",
            "|  David| 35|    Engineering| 75000|    IND|\n",
            "|    Eve| 28|          Sales| 65000|    IND|\n",
            "|  Frank| 40|Human Resources| 80000|    IND|\n",
            "|  Grace| 23|      Marketing| 58000|    IND|\n",
            "|  Heidi| 31|    Engineering| 72000|    IND|\n",
            "|   Ivan| 27|          Sales| 68000|    IND|\n",
            "|   Judy| 29|Human Resources| 78000|    IND|\n",
            "|  Kevin| 26|    Engineering| 62000|    IND|\n",
            "|   Liam| 33|      Marketing| 60000|    IND|\n",
            "|    Mia| 24|          Sales| 63000|    IND|\n",
            "|   Noah| 38|    Engineering| 85000|    IND|\n",
            "| Olivia| 32|Human Resources| 82000|    IND|\n",
            "|  Peter| 21|      Marketing| 52000|    IND|\n",
            "|  Quinn| 36|          Sales| 72000|    IND|\n",
            "|  Riley| 29|    Engineering| 70000|    IND|\n",
            "| Sophia| 27|Human Resources| 75000|    IND|\n",
            "| Thomas| 34|      Marketing| 65000|    IND|\n",
            "+-------+---+---------------+------+-------+\n",
            "\n"
          ]
        }
      ]
    },
    {
      "source": [
        "from pyspark.sql.functions import when, lit\n",
        "\n",
        "# Assuming 'df' is your DataFrame with a column named 'Age'\n",
        "# Add a new column 'Age_Category' based on the 'Age' column\n",
        "df_with_category = df.withColumn(\n",
        "    \"Age_Category\",\n",
        "    when(df[\"Age\"] > 30, lit(\"Older than 30\"))\n",
        "    .otherwise(lit(\"30 or younger\"))\n",
        ")\n",
        "\n",
        "df_with_category.show()\n",
        "\n",
        "df_with_city = df.withColumn(\n",
        "    \"City\",\n",
        "    when (df[\"Age\"] > 30, lit(\"Banglore\"))\n",
        "    .otherwise(lit(\"Delhi\"))\n",
        ")\n",
        "\n",
        "\n",
        "df_with_city.show()"
      ],
      "cell_type": "code",
      "metadata": {
        "colab": {
          "base_uri": "https://localhost:8080/"
        },
        "id": "8Eo5b_D4NVyQ",
        "outputId": "d319d6fa-c017-4ada-89ee-030e62f38853"
      },
      "execution_count": 28,
      "outputs": [
        {
          "output_type": "stream",
          "name": "stdout",
          "text": [
            "+-------+---+---------------+------+-------------+\n",
            "|   Name|Age|     Department|Salary| Age_Category|\n",
            "+-------+---+---------------+------+-------------+\n",
            "|  Alice| 25|    Engineering| 60000|30 or younger|\n",
            "|    Bob| 30|          Sales| 70000|30 or younger|\n",
            "|Charlie| 22|      Marketing| 55000|30 or younger|\n",
            "|  David| 35|    Engineering| 75000|Older than 30|\n",
            "|    Eve| 28|          Sales| 65000|30 or younger|\n",
            "|  Frank| 40|Human Resources| 80000|Older than 30|\n",
            "|  Grace| 23|      Marketing| 58000|30 or younger|\n",
            "|  Heidi| 31|    Engineering| 72000|Older than 30|\n",
            "|   Ivan| 27|          Sales| 68000|30 or younger|\n",
            "|   Judy| 29|Human Resources| 78000|30 or younger|\n",
            "|  Kevin| 26|    Engineering| 62000|30 or younger|\n",
            "|   Liam| 33|      Marketing| 60000|Older than 30|\n",
            "|    Mia| 24|          Sales| 63000|30 or younger|\n",
            "|   Noah| 38|    Engineering| 85000|Older than 30|\n",
            "| Olivia| 32|Human Resources| 82000|Older than 30|\n",
            "|  Peter| 21|      Marketing| 52000|30 or younger|\n",
            "|  Quinn| 36|          Sales| 72000|Older than 30|\n",
            "|  Riley| 29|    Engineering| 70000|30 or younger|\n",
            "| Sophia| 27|Human Resources| 75000|30 or younger|\n",
            "| Thomas| 34|      Marketing| 65000|Older than 30|\n",
            "+-------+---+---------------+------+-------------+\n",
            "\n",
            "+-------+---+---------------+------+--------+\n",
            "|   Name|Age|     Department|Salary|    City|\n",
            "+-------+---+---------------+------+--------+\n",
            "|  Alice| 25|    Engineering| 60000|   Delhi|\n",
            "|    Bob| 30|          Sales| 70000|   Delhi|\n",
            "|Charlie| 22|      Marketing| 55000|   Delhi|\n",
            "|  David| 35|    Engineering| 75000|Banglore|\n",
            "|    Eve| 28|          Sales| 65000|   Delhi|\n",
            "|  Frank| 40|Human Resources| 80000|Banglore|\n",
            "|  Grace| 23|      Marketing| 58000|   Delhi|\n",
            "|  Heidi| 31|    Engineering| 72000|Banglore|\n",
            "|   Ivan| 27|          Sales| 68000|   Delhi|\n",
            "|   Judy| 29|Human Resources| 78000|   Delhi|\n",
            "|  Kevin| 26|    Engineering| 62000|   Delhi|\n",
            "|   Liam| 33|      Marketing| 60000|Banglore|\n",
            "|    Mia| 24|          Sales| 63000|   Delhi|\n",
            "|   Noah| 38|    Engineering| 85000|Banglore|\n",
            "| Olivia| 32|Human Resources| 82000|Banglore|\n",
            "|  Peter| 21|      Marketing| 52000|   Delhi|\n",
            "|  Quinn| 36|          Sales| 72000|Banglore|\n",
            "|  Riley| 29|    Engineering| 70000|   Delhi|\n",
            "| Sophia| 27|Human Resources| 75000|   Delhi|\n",
            "| Thomas| 34|      Marketing| 65000|Banglore|\n",
            "+-------+---+---------------+------+--------+\n",
            "\n"
          ]
        }
      ]
    },
    {
      "cell_type": "code",
      "source": [
        "#new coloum from existing coloumn\n",
        "df.withColumn(\"Salary_increment\", df[\"Salary\"] * 1.05).show()"
      ],
      "metadata": {
        "colab": {
          "base_uri": "https://localhost:8080/"
        },
        "id": "L-VDvZgpOX6m",
        "outputId": "55835a30-fe63-49f5-bd45-bb61750794db"
      },
      "execution_count": 29,
      "outputs": [
        {
          "output_type": "stream",
          "name": "stdout",
          "text": [
            "+-------+---+---------------+------+----------------+\n",
            "|   Name|Age|     Department|Salary|Salary_increment|\n",
            "+-------+---+---------------+------+----------------+\n",
            "|  Alice| 25|    Engineering| 60000|         63000.0|\n",
            "|    Bob| 30|          Sales| 70000|         73500.0|\n",
            "|Charlie| 22|      Marketing| 55000|         57750.0|\n",
            "|  David| 35|    Engineering| 75000|         78750.0|\n",
            "|    Eve| 28|          Sales| 65000|         68250.0|\n",
            "|  Frank| 40|Human Resources| 80000|         84000.0|\n",
            "|  Grace| 23|      Marketing| 58000|         60900.0|\n",
            "|  Heidi| 31|    Engineering| 72000|         75600.0|\n",
            "|   Ivan| 27|          Sales| 68000|         71400.0|\n",
            "|   Judy| 29|Human Resources| 78000|         81900.0|\n",
            "|  Kevin| 26|    Engineering| 62000|         65100.0|\n",
            "|   Liam| 33|      Marketing| 60000|         63000.0|\n",
            "|    Mia| 24|          Sales| 63000|         66150.0|\n",
            "|   Noah| 38|    Engineering| 85000|         89250.0|\n",
            "| Olivia| 32|Human Resources| 82000|         86100.0|\n",
            "|  Peter| 21|      Marketing| 52000|         54600.0|\n",
            "|  Quinn| 36|          Sales| 72000|         75600.0|\n",
            "|  Riley| 29|    Engineering| 70000|         73500.0|\n",
            "| Sophia| 27|Human Resources| 75000|         78750.0|\n",
            "| Thomas| 34|      Marketing| 65000|         68250.0|\n",
            "+-------+---+---------------+------+----------------+\n",
            "\n"
          ]
        }
      ]
    },
    {
      "cell_type": "code",
      "source": [
        "#change coloumn data type\n",
        "df.printSchema() #salary is long\n",
        "df.withColumn(\"Salary\", df[\"Salary\"].cast(\"int\")).printSchema()#sal is int\n"
      ],
      "metadata": {
        "colab": {
          "base_uri": "https://localhost:8080/"
        },
        "id": "H4DKkvEmO5KT",
        "outputId": "dfbef6f6-8fbb-4e5b-f959-c1bbeba35824"
      },
      "execution_count": 30,
      "outputs": [
        {
          "output_type": "stream",
          "name": "stdout",
          "text": [
            "root\n",
            " |-- Name: string (nullable = true)\n",
            " |-- Age: long (nullable = true)\n",
            " |-- Department: string (nullable = true)\n",
            " |-- Salary: long (nullable = true)\n",
            "\n",
            "root\n",
            " |-- Name: string (nullable = true)\n",
            " |-- Age: long (nullable = true)\n",
            " |-- Department: string (nullable = true)\n",
            " |-- Salary: integer (nullable = true)\n",
            "\n"
          ]
        }
      ]
    },
    {
      "cell_type": "code",
      "source": [
        "df.withColumnRenamed(\"Name\", \"Employee_Name\").show()"
      ],
      "metadata": {
        "colab": {
          "base_uri": "https://localhost:8080/"
        },
        "id": "kLdJ_dkZPLtC",
        "outputId": "1bcdc69a-196b-418a-960f-defb59123289"
      },
      "execution_count": 31,
      "outputs": [
        {
          "output_type": "stream",
          "name": "stdout",
          "text": [
            "+-------------+---+---------------+------+\n",
            "|Employee_Name|Age|     Department|Salary|\n",
            "+-------------+---+---------------+------+\n",
            "|        Alice| 25|    Engineering| 60000|\n",
            "|          Bob| 30|          Sales| 70000|\n",
            "|      Charlie| 22|      Marketing| 55000|\n",
            "|        David| 35|    Engineering| 75000|\n",
            "|          Eve| 28|          Sales| 65000|\n",
            "|        Frank| 40|Human Resources| 80000|\n",
            "|        Grace| 23|      Marketing| 58000|\n",
            "|        Heidi| 31|    Engineering| 72000|\n",
            "|         Ivan| 27|          Sales| 68000|\n",
            "|         Judy| 29|Human Resources| 78000|\n",
            "|        Kevin| 26|    Engineering| 62000|\n",
            "|         Liam| 33|      Marketing| 60000|\n",
            "|          Mia| 24|          Sales| 63000|\n",
            "|         Noah| 38|    Engineering| 85000|\n",
            "|       Olivia| 32|Human Resources| 82000|\n",
            "|        Peter| 21|      Marketing| 52000|\n",
            "|        Quinn| 36|          Sales| 72000|\n",
            "|        Riley| 29|    Engineering| 70000|\n",
            "|       Sophia| 27|Human Resources| 75000|\n",
            "|       Thomas| 34|      Marketing| 65000|\n",
            "+-------------+---+---------------+------+\n",
            "\n"
          ]
        }
      ]
    },
    {
      "cell_type": "code",
      "source": [
        "#drop coloumn\n",
        "df.drop(\"Age\").show()"
      ],
      "metadata": {
        "colab": {
          "base_uri": "https://localhost:8080/"
        },
        "id": "XrMYf2flPx0o",
        "outputId": "5aee9e4e-a2ac-4618-af0c-b4e8051b2cc0"
      },
      "execution_count": 32,
      "outputs": [
        {
          "output_type": "stream",
          "name": "stdout",
          "text": [
            "+-------+---------------+------+\n",
            "|   Name|     Department|Salary|\n",
            "+-------+---------------+------+\n",
            "|  Alice|    Engineering| 60000|\n",
            "|    Bob|          Sales| 70000|\n",
            "|Charlie|      Marketing| 55000|\n",
            "|  David|    Engineering| 75000|\n",
            "|    Eve|          Sales| 65000|\n",
            "|  Frank|Human Resources| 80000|\n",
            "|  Grace|      Marketing| 58000|\n",
            "|  Heidi|    Engineering| 72000|\n",
            "|   Ivan|          Sales| 68000|\n",
            "|   Judy|Human Resources| 78000|\n",
            "|  Kevin|    Engineering| 62000|\n",
            "|   Liam|      Marketing| 60000|\n",
            "|    Mia|          Sales| 63000|\n",
            "|   Noah|    Engineering| 85000|\n",
            "| Olivia|Human Resources| 82000|\n",
            "|  Peter|      Marketing| 52000|\n",
            "|  Quinn|          Sales| 72000|\n",
            "|  Riley|    Engineering| 70000|\n",
            "| Sophia|Human Resources| 75000|\n",
            "| Thomas|      Marketing| 65000|\n",
            "+-------+---------------+------+\n",
            "\n"
          ]
        }
      ]
    },
    {
      "cell_type": "code",
      "source": [
        "\"\"\"\n",
        "🔧 Function: split()\n",
        "\n",
        "✅ Purpose:\n",
        "Splits a string column into an array of substrings, which can then be extracted using indexing.\n",
        "\n",
        "🧪 Syntax:\n",
        "split(str_col, pattern)\n",
        "\"\"\"\n",
        "from pyspark.sql import SparkSession\n",
        "from pyspark.sql.functions import split\n",
        "\n",
        "# Initialize Spark session\n",
        "spark = SparkSession.builder.appName(\"SplitColumnExample\").getOrCreate()\n",
        "\n",
        "# Sample data\n",
        "data = [(\"Alice Smith\",), (\"Bob Johnson\",), (\"John Doe\",), (\"Jane Smith\",), (\"Peter Jones\",), (\"Mary Williams\",), (\"David Brown\",)]\n",
        "df1 = spark.createDataFrame(data, [\"full_name\"])\n",
        "\n",
        "# Split 'full_name' into two columns: 'first_name' and 'last_name'\n",
        "df_split = df1.withColumn(\"first_name\", split(df1[\"full_name\"], \" \").getItem(0)) \\\n",
        "             .withColumn(\"last_name\", split(df1[\"full_name\"], \" \").getItem(1))\n",
        "\n",
        "df_split.show()\n"
      ],
      "metadata": {
        "colab": {
          "base_uri": "https://localhost:8080/"
        },
        "id": "H-sCrem5Q0y1",
        "outputId": "e08718cd-2ef5-49c3-e9ef-879f818f4a4f"
      },
      "execution_count": 33,
      "outputs": [
        {
          "output_type": "stream",
          "name": "stdout",
          "text": [
            "+-------------+----------+---------+\n",
            "|    full_name|first_name|last_name|\n",
            "+-------------+----------+---------+\n",
            "|  Alice Smith|     Alice|    Smith|\n",
            "|  Bob Johnson|       Bob|  Johnson|\n",
            "|     John Doe|      John|      Doe|\n",
            "|   Jane Smith|      Jane|    Smith|\n",
            "|  Peter Jones|     Peter|    Jones|\n",
            "|Mary Williams|      Mary| Williams|\n",
            "|  David Brown|     David|    Brown|\n",
            "+-------------+----------+---------+\n",
            "\n"
          ]
        }
      ]
    },
    {
      "cell_type": "code",
      "source": [
        "#rename multiplecloumns\n",
        "df.withColumnRenamed(\"Name\", \"Employee_Name\").withColumnRenamed(\"Age\", \"Employee_Age\").show()"
      ],
      "metadata": {
        "colab": {
          "base_uri": "https://localhost:8080/"
        },
        "id": "Bjo19_ImVJ49",
        "outputId": "6382d056-c679-495b-b72d-75c62079e4b9"
      },
      "execution_count": 34,
      "outputs": [
        {
          "output_type": "stream",
          "name": "stdout",
          "text": [
            "+-------------+------------+---------------+------+\n",
            "|Employee_Name|Employee_Age|     Department|Salary|\n",
            "+-------------+------------+---------------+------+\n",
            "|        Alice|          25|    Engineering| 60000|\n",
            "|          Bob|          30|          Sales| 70000|\n",
            "|      Charlie|          22|      Marketing| 55000|\n",
            "|        David|          35|    Engineering| 75000|\n",
            "|          Eve|          28|          Sales| 65000|\n",
            "|        Frank|          40|Human Resources| 80000|\n",
            "|        Grace|          23|      Marketing| 58000|\n",
            "|        Heidi|          31|    Engineering| 72000|\n",
            "|         Ivan|          27|          Sales| 68000|\n",
            "|         Judy|          29|Human Resources| 78000|\n",
            "|        Kevin|          26|    Engineering| 62000|\n",
            "|         Liam|          33|      Marketing| 60000|\n",
            "|          Mia|          24|          Sales| 63000|\n",
            "|         Noah|          38|    Engineering| 85000|\n",
            "|       Olivia|          32|Human Resources| 82000|\n",
            "|        Peter|          21|      Marketing| 52000|\n",
            "|        Quinn|          36|          Sales| 72000|\n",
            "|        Riley|          29|    Engineering| 70000|\n",
            "|       Sophia|          27|Human Resources| 75000|\n",
            "|       Thomas|          34|      Marketing| 65000|\n",
            "+-------------+------------+---------------+------+\n",
            "\n"
          ]
        }
      ]
    },
    {
      "cell_type": "code",
      "source": [
        "#drop coloumns\n",
        "\n",
        "df.drop(\"Age\", \"Department\").show()\n",
        "\n",
        "drop_col = (\"Age\", \"Department\")\n",
        "df.drop(*drop_col).show()\n"
      ],
      "metadata": {
        "colab": {
          "base_uri": "https://localhost:8080/"
        },
        "id": "y7sd8X_dW6xq",
        "outputId": "3592da72-187e-4dbe-cede-3e3a5fbd2893"
      },
      "execution_count": 35,
      "outputs": [
        {
          "output_type": "stream",
          "name": "stdout",
          "text": [
            "+-------+------+\n",
            "|   Name|Salary|\n",
            "+-------+------+\n",
            "|  Alice| 60000|\n",
            "|    Bob| 70000|\n",
            "|Charlie| 55000|\n",
            "|  David| 75000|\n",
            "|    Eve| 65000|\n",
            "|  Frank| 80000|\n",
            "|  Grace| 58000|\n",
            "|  Heidi| 72000|\n",
            "|   Ivan| 68000|\n",
            "|   Judy| 78000|\n",
            "|  Kevin| 62000|\n",
            "|   Liam| 60000|\n",
            "|    Mia| 63000|\n",
            "|   Noah| 85000|\n",
            "| Olivia| 82000|\n",
            "|  Peter| 52000|\n",
            "|  Quinn| 72000|\n",
            "|  Riley| 70000|\n",
            "| Sophia| 75000|\n",
            "| Thomas| 65000|\n",
            "+-------+------+\n",
            "\n",
            "+-------+------+\n",
            "|   Name|Salary|\n",
            "+-------+------+\n",
            "|  Alice| 60000|\n",
            "|    Bob| 70000|\n",
            "|Charlie| 55000|\n",
            "|  David| 75000|\n",
            "|    Eve| 65000|\n",
            "|  Frank| 80000|\n",
            "|  Grace| 58000|\n",
            "|  Heidi| 72000|\n",
            "|   Ivan| 68000|\n",
            "|   Judy| 78000|\n",
            "|  Kevin| 62000|\n",
            "|   Liam| 60000|\n",
            "|    Mia| 63000|\n",
            "|   Noah| 85000|\n",
            "| Olivia| 82000|\n",
            "|  Peter| 52000|\n",
            "|  Quinn| 72000|\n",
            "|  Riley| 70000|\n",
            "| Sophia| 75000|\n",
            "| Thomas| 65000|\n",
            "+-------+------+\n",
            "\n"
          ]
        }
      ]
    },
    {
      "cell_type": "markdown",
      "source": [
        "GROUPBY"
      ],
      "metadata": {
        "id": "KnLNABqXXi8D"
      }
    },
    {
      "cell_type": "code",
      "source": [
        "#groupby\n",
        "\n",
        "df.groupBy(\"Department\").count().show()\n",
        "\n",
        "df.groupBy(\"Department\").sum(\"Salary\").show()\n",
        "\n",
        "df.groupBy(\"Department\").avg(\"Salary\").show()\n",
        "\n",
        "df.groupBy(\"Department\").min(\"Salary\").show()\n",
        "\n",
        "df.groupBy(\"Department\").max(\"Salary\").show()"
      ],
      "metadata": {
        "colab": {
          "base_uri": "https://localhost:8080/"
        },
        "id": "H1WSl6zjXc2M",
        "outputId": "22559412-8007-4ef7-dceb-a34b34fd1ca9"
      },
      "execution_count": 36,
      "outputs": [
        {
          "output_type": "stream",
          "name": "stdout",
          "text": [
            "+---------------+-----+\n",
            "|     Department|count|\n",
            "+---------------+-----+\n",
            "|          Sales|    5|\n",
            "|    Engineering|    6|\n",
            "|      Marketing|    5|\n",
            "|Human Resources|    4|\n",
            "+---------------+-----+\n",
            "\n",
            "+---------------+-----------+\n",
            "|     Department|sum(Salary)|\n",
            "+---------------+-----------+\n",
            "|          Sales|     338000|\n",
            "|    Engineering|     424000|\n",
            "|      Marketing|     290000|\n",
            "|Human Resources|     315000|\n",
            "+---------------+-----------+\n",
            "\n",
            "+---------------+-----------------+\n",
            "|     Department|      avg(Salary)|\n",
            "+---------------+-----------------+\n",
            "|          Sales|          67600.0|\n",
            "|    Engineering|70666.66666666667|\n",
            "|      Marketing|          58000.0|\n",
            "|Human Resources|          78750.0|\n",
            "+---------------+-----------------+\n",
            "\n",
            "+---------------+-----------+\n",
            "|     Department|min(Salary)|\n",
            "+---------------+-----------+\n",
            "|          Sales|      63000|\n",
            "|    Engineering|      60000|\n",
            "|      Marketing|      52000|\n",
            "|Human Resources|      75000|\n",
            "+---------------+-----------+\n",
            "\n",
            "+---------------+-----------+\n",
            "|     Department|max(Salary)|\n",
            "+---------------+-----------+\n",
            "|          Sales|      72000|\n",
            "|    Engineering|      85000|\n",
            "|      Marketing|      65000|\n",
            "|Human Resources|      82000|\n",
            "+---------------+-----------+\n",
            "\n"
          ]
        }
      ]
    },
    {
      "cell_type": "code",
      "source": [
        "#sum of salary with bounus\n",
        "from pyspark.sql.functions import round\n",
        "df.withColumn(\"Salary_increment\", df[\"Salary\"] * 1.05).groupBy(\"Department\").sum(\"Salary_increment\").show()\n",
        "df.withColumn(\"Salary_increment\", df[\"Salary\"] * 1.05).show()\n",
        "df.withColumn(\"Salary_diff\", round(df[\"Salary\"] * 1.05) - df[\"Salary\"]).show()\n",
        "\n"
      ],
      "metadata": {
        "colab": {
          "base_uri": "https://localhost:8080/"
        },
        "id": "_LmZ-t-dX7Eh",
        "outputId": "68012090-e252-436b-e966-2a8dbcd62dc9"
      },
      "execution_count": 37,
      "outputs": [
        {
          "output_type": "stream",
          "name": "stdout",
          "text": [
            "+---------------+---------------------+\n",
            "|     Department|sum(Salary_increment)|\n",
            "+---------------+---------------------+\n",
            "|          Sales|             354900.0|\n",
            "|    Engineering|             445200.0|\n",
            "|      Marketing|             304500.0|\n",
            "|Human Resources|             330750.0|\n",
            "+---------------+---------------------+\n",
            "\n",
            "+-------+---+---------------+------+----------------+\n",
            "|   Name|Age|     Department|Salary|Salary_increment|\n",
            "+-------+---+---------------+------+----------------+\n",
            "|  Alice| 25|    Engineering| 60000|         63000.0|\n",
            "|    Bob| 30|          Sales| 70000|         73500.0|\n",
            "|Charlie| 22|      Marketing| 55000|         57750.0|\n",
            "|  David| 35|    Engineering| 75000|         78750.0|\n",
            "|    Eve| 28|          Sales| 65000|         68250.0|\n",
            "|  Frank| 40|Human Resources| 80000|         84000.0|\n",
            "|  Grace| 23|      Marketing| 58000|         60900.0|\n",
            "|  Heidi| 31|    Engineering| 72000|         75600.0|\n",
            "|   Ivan| 27|          Sales| 68000|         71400.0|\n",
            "|   Judy| 29|Human Resources| 78000|         81900.0|\n",
            "|  Kevin| 26|    Engineering| 62000|         65100.0|\n",
            "|   Liam| 33|      Marketing| 60000|         63000.0|\n",
            "|    Mia| 24|          Sales| 63000|         66150.0|\n",
            "|   Noah| 38|    Engineering| 85000|         89250.0|\n",
            "| Olivia| 32|Human Resources| 82000|         86100.0|\n",
            "|  Peter| 21|      Marketing| 52000|         54600.0|\n",
            "|  Quinn| 36|          Sales| 72000|         75600.0|\n",
            "|  Riley| 29|    Engineering| 70000|         73500.0|\n",
            "| Sophia| 27|Human Resources| 75000|         78750.0|\n",
            "| Thomas| 34|      Marketing| 65000|         68250.0|\n",
            "+-------+---+---------------+------+----------------+\n",
            "\n",
            "+-------+---+---------------+------+-----------+\n",
            "|   Name|Age|     Department|Salary|Salary_diff|\n",
            "+-------+---+---------------+------+-----------+\n",
            "|  Alice| 25|    Engineering| 60000|     3000.0|\n",
            "|    Bob| 30|          Sales| 70000|     3500.0|\n",
            "|Charlie| 22|      Marketing| 55000|     2750.0|\n",
            "|  David| 35|    Engineering| 75000|     3750.0|\n",
            "|    Eve| 28|          Sales| 65000|     3250.0|\n",
            "|  Frank| 40|Human Resources| 80000|     4000.0|\n",
            "|  Grace| 23|      Marketing| 58000|     2900.0|\n",
            "|  Heidi| 31|    Engineering| 72000|     3600.0|\n",
            "|   Ivan| 27|          Sales| 68000|     3400.0|\n",
            "|   Judy| 29|Human Resources| 78000|     3900.0|\n",
            "|  Kevin| 26|    Engineering| 62000|     3100.0|\n",
            "|   Liam| 33|      Marketing| 60000|     3000.0|\n",
            "|    Mia| 24|          Sales| 63000|     3150.0|\n",
            "|   Noah| 38|    Engineering| 85000|     4250.0|\n",
            "| Olivia| 32|Human Resources| 82000|     4100.0|\n",
            "|  Peter| 21|      Marketing| 52000|     2600.0|\n",
            "|  Quinn| 36|          Sales| 72000|     3600.0|\n",
            "|  Riley| 29|    Engineering| 70000|     3500.0|\n",
            "| Sophia| 27|Human Resources| 75000|     3750.0|\n",
            "| Thomas| 34|      Marketing| 65000|     3250.0|\n",
            "+-------+---+---------------+------+-----------+\n",
            "\n"
          ]
        }
      ]
    },
    {
      "source": [
        "from pyspark.sql.functions import col, round, lit\n",
        "\n",
        "# select and group by, then aggregate, filter, and show\n",
        "df.groupBy(\"Department\").agg({\"Age\": \"avg\", \"Salary\": \"sum\"}) \\\n",
        "    .where(col(\"Department\") == \"Engineering\").show()"
      ],
      "cell_type": "code",
      "metadata": {
        "colab": {
          "base_uri": "https://localhost:8080/"
        },
        "id": "s2HW9zfDelGx",
        "outputId": "5cde5f90-a50b-4d10-d24a-b0f3fe68e4cf"
      },
      "execution_count": 38,
      "outputs": [
        {
          "output_type": "stream",
          "name": "stdout",
          "text": [
            "+-----------+-----------+------------------+\n",
            "| Department|sum(Salary)|          avg(Age)|\n",
            "+-----------+-----------+------------------+\n",
            "|Engineering|     424000|30.666666666666668|\n",
            "+-----------+-----------+------------------+\n",
            "\n"
          ]
        }
      ]
    },
    {
      "cell_type": "markdown",
      "source": [
        "JOINS\n",
        "\n",
        "\n",
        "\n"
      ],
      "metadata": {
        "id": "MufOmHf-fRAG"
      }
    },
    {
      "cell_type": "code",
      "source": [
        "\"\"\"\n",
        "PySpark JOIN TYPES\n",
        "├── 1. Inner Join\n",
        "│   ├── Aliases: \"inner\"\n",
        "│   └── Description: Returns matching rows from both DataFrames\n",
        "│\n",
        "├── 2. Outer Joins\n",
        "│   ├── 2.1 Full Outer Join\n",
        "│   │   ├── Aliases: \"outer\", \"full\", \"fullouter\", \"full_outer\"\n",
        "│   │   └── Description: Returns all rows, matching rows where available, else NULLs\n",
        "│   │\n",
        "│   ├── 2.2 Left Outer Join\n",
        "│   │   ├── Aliases: \"left\", \"leftouter\", \"left_outer\"\n",
        "│   │   └── Description: All rows from left DataFrame, matching rows from right\n",
        "│   │\n",
        "│   └── 2.3 Right Outer Join\n",
        "│       ├── Aliases: \"right\", \"rightouter\", \"right_outer\"\n",
        "│       └── Description: All rows from right DataFrame, matching rows from left\n",
        "│\n",
        "├── 3. Cross Join\n",
        "│   ├── Alias: \"cross\"\n",
        "│   └── Description: Cartesian product (every row with every other row)\n",
        "│\n",
        "├── 4. Left Semi Join\n",
        "│   ├── Aliases: \"semi\", \"leftsemi\", \"left_semi\"\n",
        "│   └── Description: Returns rows from left where a match exists in right (only left columns)\n",
        "│\n",
        "└── 5. Left Anti Join\n",
        "    ├── Aliases: \"anti\", \"leftanti\", \"left_anti\"\n",
        "    └── Description: Returns rows from left where NO match exists in right\n",
        "\n",
        "    \"\"\"\n"
      ],
      "metadata": {
        "id": "lIxEolFUhc12",
        "colab": {
          "base_uri": "https://localhost:8080/",
          "height": 137
        },
        "outputId": "803ef068-6842-4c3a-cbf5-9213053df6f4"
      },
      "execution_count": 39,
      "outputs": [
        {
          "output_type": "execute_result",
          "data": {
            "text/plain": [
              "'\\nPySpark JOIN TYPES\\n├── 1. Inner Join\\n│   ├── Aliases: \"inner\"\\n│   └── Description: Returns matching rows from both DataFrames\\n│\\n├── 2. Outer Joins\\n│   ├── 2.1 Full Outer Join\\n│   │   ├── Aliases: \"outer\", \"full\", \"fullouter\", \"full_outer\"\\n│   │   └── Description: Returns all rows, matching rows where available, else NULLs\\n│   │\\n│   ├── 2.2 Left Outer Join\\n│   │   ├── Aliases: \"left\", \"leftouter\", \"left_outer\"\\n│   │   └── Description: All rows from left DataFrame, matching rows from right\\n│   │\\n│   └── 2.3 Right Outer Join\\n│       ├── Aliases: \"right\", \"rightouter\", \"right_outer\"\\n│       └── Description: All rows from right DataFrame, matching rows from left\\n│\\n├── 3. Cross Join\\n│   ├── Alias: \"cross\"\\n│   └── Description: Cartesian product (every row with every other row)\\n│\\n├── 4. Left Semi Join\\n│   ├── Aliases: \"semi\", \"leftsemi\", \"left_semi\"\\n│   └── Description: Returns rows from left where a match exists in right (only left columns)\\n│\\n└── 5. Left Anti Join\\n    ├── Aliases: \"anti\", \"leftanti\", \"left_anti\"\\n    └── Description: Returns rows from left where NO match exists in right\\n\\n    '"
            ],
            "application/vnd.google.colaboratory.intrinsic+json": {
              "type": "string"
            }
          },
          "metadata": {},
          "execution_count": 39
        }
      ]
    },
    {
      "cell_type": "code",
      "source": [],
      "metadata": {
        "id": "9zcyigdkhhcv"
      },
      "execution_count": 39,
      "outputs": []
    },
    {
      "source": [
        "employee_data = [\n",
        "    (1, \"Alice\", 25, 101),\n",
        "    (2, \"Bob\", 30, 102),\n",
        "    (3, \"Charlie\", 22, 103),\n",
        "    (4, \"David\", 35, 101),\n",
        "    (5, \"Eve\", 28, 102),\n",
        "    (6, \"Frank\", 40, 104),\n",
        "    (7, \"Grace\", 23, 103),\n",
        "    (8, \"Heidi\", 31, 101),\n",
        "    (9, \"Ivan\", 27, 102),\n",
        "    (10, \"Judy\", 29, 104)\n",
        "]\n",
        "\n",
        "employee_columns = [\"EmployeeID\", \"Name\", \"Age\", \"DepartmentID\"]\n",
        "\n",
        "employee_df = spark.createDataFrame(employee_data, employee_columns)\n",
        "\n",
        "department_data = [\n",
        "    (101, \"Engineering\"),\n",
        "    (102, \"Sales\"),\n",
        "    (103, \"Marketing\"),\n",
        "    (104, \"Human Resources\"),\n",
        "    (105, \"Finance\")\n",
        "]\n",
        "\n",
        "department_columns = [\"DepartmentID\", \"DepartmentName\"]\n",
        "\n",
        "department_df = spark.createDataFrame(department_data, department_columns)\n",
        "\n",
        "employee_df.show()\n",
        "department_df.show()\n"
      ],
      "cell_type": "code",
      "metadata": {
        "colab": {
          "base_uri": "https://localhost:8080/"
        },
        "id": "PYk-ZCSoh8p0",
        "outputId": "095da13f-a9c0-4261-f99a-d809432a5d50"
      },
      "execution_count": 40,
      "outputs": [
        {
          "output_type": "stream",
          "name": "stdout",
          "text": [
            "+----------+-------+---+------------+\n",
            "|EmployeeID|   Name|Age|DepartmentID|\n",
            "+----------+-------+---+------------+\n",
            "|         1|  Alice| 25|         101|\n",
            "|         2|    Bob| 30|         102|\n",
            "|         3|Charlie| 22|         103|\n",
            "|         4|  David| 35|         101|\n",
            "|         5|    Eve| 28|         102|\n",
            "|         6|  Frank| 40|         104|\n",
            "|         7|  Grace| 23|         103|\n",
            "|         8|  Heidi| 31|         101|\n",
            "|         9|   Ivan| 27|         102|\n",
            "|        10|   Judy| 29|         104|\n",
            "+----------+-------+---+------------+\n",
            "\n",
            "+------------+---------------+\n",
            "|DepartmentID| DepartmentName|\n",
            "+------------+---------------+\n",
            "|         101|    Engineering|\n",
            "|         102|          Sales|\n",
            "|         103|      Marketing|\n",
            "|         104|Human Resources|\n",
            "|         105|        Finance|\n",
            "+------------+---------------+\n",
            "\n"
          ]
        }
      ]
    },
    {
      "cell_type": "code",
      "source": [
        "#INNER-JION\n",
        "employee_df.join(department_df, employee_df[\"DepartmentID\"] == department_df[\"DepartmentID\"], \"inner\").show()"
      ],
      "metadata": {
        "colab": {
          "base_uri": "https://localhost:8080/"
        },
        "id": "iBX4OALQiGOa",
        "outputId": "74aa2108-6ccd-4d34-eeee-596514999840"
      },
      "execution_count": 41,
      "outputs": [
        {
          "output_type": "stream",
          "name": "stdout",
          "text": [
            "+----------+-------+---+------------+------------+---------------+\n",
            "|EmployeeID|   Name|Age|DepartmentID|DepartmentID| DepartmentName|\n",
            "+----------+-------+---+------------+------------+---------------+\n",
            "|         1|  Alice| 25|         101|         101|    Engineering|\n",
            "|         4|  David| 35|         101|         101|    Engineering|\n",
            "|         8|  Heidi| 31|         101|         101|    Engineering|\n",
            "|         2|    Bob| 30|         102|         102|          Sales|\n",
            "|         5|    Eve| 28|         102|         102|          Sales|\n",
            "|         9|   Ivan| 27|         102|         102|          Sales|\n",
            "|         3|Charlie| 22|         103|         103|      Marketing|\n",
            "|         7|  Grace| 23|         103|         103|      Marketing|\n",
            "|         6|  Frank| 40|         104|         104|Human Resources|\n",
            "|        10|   Judy| 29|         104|         104|Human Resources|\n",
            "+----------+-------+---+------------+------------+---------------+\n",
            "\n"
          ]
        }
      ]
    },
    {
      "cell_type": "code",
      "source": [
        "#fullouter-join\n",
        "employee_df.join(department_df, employee_df[\"DepartmentID\"] == department_df[\"DepartmentID\"], \"fullouter\").show()\n"
      ],
      "metadata": {
        "colab": {
          "base_uri": "https://localhost:8080/"
        },
        "id": "05GKJFSYimBg",
        "outputId": "bc99bf0f-6bb0-48cc-db0e-e024b49f8b25"
      },
      "execution_count": 42,
      "outputs": [
        {
          "output_type": "stream",
          "name": "stdout",
          "text": [
            "+----------+-------+----+------------+------------+---------------+\n",
            "|EmployeeID|   Name| Age|DepartmentID|DepartmentID| DepartmentName|\n",
            "+----------+-------+----+------------+------------+---------------+\n",
            "|         1|  Alice|  25|         101|         101|    Engineering|\n",
            "|         4|  David|  35|         101|         101|    Engineering|\n",
            "|         8|  Heidi|  31|         101|         101|    Engineering|\n",
            "|         2|    Bob|  30|         102|         102|          Sales|\n",
            "|         5|    Eve|  28|         102|         102|          Sales|\n",
            "|         9|   Ivan|  27|         102|         102|          Sales|\n",
            "|         3|Charlie|  22|         103|         103|      Marketing|\n",
            "|         7|  Grace|  23|         103|         103|      Marketing|\n",
            "|         6|  Frank|  40|         104|         104|Human Resources|\n",
            "|        10|   Judy|  29|         104|         104|Human Resources|\n",
            "|      NULL|   NULL|NULL|        NULL|         105|        Finance|\n",
            "+----------+-------+----+------------+------------+---------------+\n",
            "\n"
          ]
        }
      ]
    },
    {
      "cell_type": "code",
      "source": [
        "#leftouter-join\n",
        "employee_df.join(department_df, employee_df[\"DepartmentID\"] == department_df[\"DepartmentID\"], \"leftouter\").show()\n",
        "department_df.join(employee_df, employee_df[\"DepartmentID\"] == department_df[\"DepartmentID\"], \"leftouter\").show()"
      ],
      "metadata": {
        "colab": {
          "base_uri": "https://localhost:8080/"
        },
        "id": "LD7zwnDLkK-M",
        "outputId": "32b5c4bf-6dbb-46a6-c28b-f73e66fcaece"
      },
      "execution_count": 43,
      "outputs": [
        {
          "output_type": "stream",
          "name": "stdout",
          "text": [
            "+----------+-------+---+------------+------------+---------------+\n",
            "|EmployeeID|   Name|Age|DepartmentID|DepartmentID| DepartmentName|\n",
            "+----------+-------+---+------------+------------+---------------+\n",
            "|         3|Charlie| 22|         103|         103|      Marketing|\n",
            "|         1|  Alice| 25|         101|         101|    Engineering|\n",
            "|         4|  David| 35|         101|         101|    Engineering|\n",
            "|         2|    Bob| 30|         102|         102|          Sales|\n",
            "|         5|    Eve| 28|         102|         102|          Sales|\n",
            "|         7|  Grace| 23|         103|         103|      Marketing|\n",
            "|         6|  Frank| 40|         104|         104|Human Resources|\n",
            "|        10|   Judy| 29|         104|         104|Human Resources|\n",
            "|         8|  Heidi| 31|         101|         101|    Engineering|\n",
            "|         9|   Ivan| 27|         102|         102|          Sales|\n",
            "+----------+-------+---+------------+------------+---------------+\n",
            "\n",
            "+------------+---------------+----------+-------+----+------------+\n",
            "|DepartmentID| DepartmentName|EmployeeID|   Name| Age|DepartmentID|\n",
            "+------------+---------------+----------+-------+----+------------+\n",
            "|         101|    Engineering|         8|  Heidi|  31|         101|\n",
            "|         101|    Engineering|         4|  David|  35|         101|\n",
            "|         101|    Engineering|         1|  Alice|  25|         101|\n",
            "|         102|          Sales|         9|   Ivan|  27|         102|\n",
            "|         102|          Sales|         5|    Eve|  28|         102|\n",
            "|         102|          Sales|         2|    Bob|  30|         102|\n",
            "|         103|      Marketing|         7|  Grace|  23|         103|\n",
            "|         103|      Marketing|         3|Charlie|  22|         103|\n",
            "|         104|Human Resources|        10|   Judy|  29|         104|\n",
            "|         104|Human Resources|         6|  Frank|  40|         104|\n",
            "|         105|        Finance|      NULL|   NULL|NULL|        NULL|\n",
            "+------------+---------------+----------+-------+----+------------+\n",
            "\n"
          ]
        }
      ]
    },
    {
      "cell_type": "code",
      "source": [
        "\n",
        "# Corrected join using \"DepartmentID\" which exists in both dataframes\n",
        "# Corrected join using \"DepartmentID\" which exists in both dataframes\n",
        "left_data=employee_df.join(department_df, on=\"DepartmentID\", how=\"left\")\n",
        "left_data.show()\n",
        "left_data.groupBy(\"DepartmentName\").count().show()\n",
        "left_data.orderBy(\"Age\", \"DepartmentID\").show()"
      ],
      "metadata": {
        "colab": {
          "base_uri": "https://localhost:8080/"
        },
        "id": "i4hdm2n2l_D1",
        "outputId": "1733b8e0-1e72-47e5-ca2b-9022149a1d6f"
      },
      "execution_count": 44,
      "outputs": [
        {
          "output_type": "stream",
          "name": "stdout",
          "text": [
            "+------------+----------+-------+---+---------------+\n",
            "|DepartmentID|EmployeeID|   Name|Age| DepartmentName|\n",
            "+------------+----------+-------+---+---------------+\n",
            "|         103|         3|Charlie| 22|      Marketing|\n",
            "|         101|         1|  Alice| 25|    Engineering|\n",
            "|         101|         4|  David| 35|    Engineering|\n",
            "|         102|         2|    Bob| 30|          Sales|\n",
            "|         102|         5|    Eve| 28|          Sales|\n",
            "|         103|         7|  Grace| 23|      Marketing|\n",
            "|         104|         6|  Frank| 40|Human Resources|\n",
            "|         104|        10|   Judy| 29|Human Resources|\n",
            "|         101|         8|  Heidi| 31|    Engineering|\n",
            "|         102|         9|   Ivan| 27|          Sales|\n",
            "+------------+----------+-------+---+---------------+\n",
            "\n",
            "+---------------+-----+\n",
            "| DepartmentName|count|\n",
            "+---------------+-----+\n",
            "|          Sales|    3|\n",
            "|    Engineering|    3|\n",
            "|      Marketing|    2|\n",
            "|Human Resources|    2|\n",
            "+---------------+-----+\n",
            "\n",
            "+------------+----------+-------+---+---------------+\n",
            "|DepartmentID|EmployeeID|   Name|Age| DepartmentName|\n",
            "+------------+----------+-------+---+---------------+\n",
            "|         103|         3|Charlie| 22|      Marketing|\n",
            "|         103|         7|  Grace| 23|      Marketing|\n",
            "|         101|         1|  Alice| 25|    Engineering|\n",
            "|         102|         9|   Ivan| 27|          Sales|\n",
            "|         102|         5|    Eve| 28|          Sales|\n",
            "|         104|        10|   Judy| 29|Human Resources|\n",
            "|         102|         2|    Bob| 30|          Sales|\n",
            "|         101|         8|  Heidi| 31|    Engineering|\n",
            "|         101|         4|  David| 35|    Engineering|\n",
            "|         104|         6|  Frank| 40|Human Resources|\n",
            "+------------+----------+-------+---+---------------+\n",
            "\n"
          ]
        }
      ]
    },
    {
      "cell_type": "code",
      "source": [
        "#right outer join\n",
        "\n",
        "employee_df.join(department_df, employee_df[\"DepartmentID\"] == department_df[\"DepartmentID\"], \"rightouter\").show()\n",
        "\n",
        "right_df=employee_df.join(department_df, on=\"DepartmentID\", how=\"right\")\n",
        "right_df.show()\n",
        "right_df.groupBy(\"DepartmentName\").count().show()"
      ],
      "metadata": {
        "colab": {
          "base_uri": "https://localhost:8080/"
        },
        "id": "d1I2cmUz8Pz7",
        "outputId": "f0da5ee2-9d4c-4591-9fa3-ecd757f61fc1"
      },
      "execution_count": 45,
      "outputs": [
        {
          "output_type": "stream",
          "name": "stdout",
          "text": [
            "+----------+-------+----+------------+------------+---------------+\n",
            "|EmployeeID|   Name| Age|DepartmentID|DepartmentID| DepartmentName|\n",
            "+----------+-------+----+------------+------------+---------------+\n",
            "|         8|  Heidi|  31|         101|         101|    Engineering|\n",
            "|         4|  David|  35|         101|         101|    Engineering|\n",
            "|         1|  Alice|  25|         101|         101|    Engineering|\n",
            "|         9|   Ivan|  27|         102|         102|          Sales|\n",
            "|         5|    Eve|  28|         102|         102|          Sales|\n",
            "|         2|    Bob|  30|         102|         102|          Sales|\n",
            "|         7|  Grace|  23|         103|         103|      Marketing|\n",
            "|         3|Charlie|  22|         103|         103|      Marketing|\n",
            "|        10|   Judy|  29|         104|         104|Human Resources|\n",
            "|         6|  Frank|  40|         104|         104|Human Resources|\n",
            "|      NULL|   NULL|NULL|        NULL|         105|        Finance|\n",
            "+----------+-------+----+------------+------------+---------------+\n",
            "\n",
            "+------------+----------+-------+----+---------------+\n",
            "|DepartmentID|EmployeeID|   Name| Age| DepartmentName|\n",
            "+------------+----------+-------+----+---------------+\n",
            "|         101|         8|  Heidi|  31|    Engineering|\n",
            "|         101|         4|  David|  35|    Engineering|\n",
            "|         101|         1|  Alice|  25|    Engineering|\n",
            "|         102|         9|   Ivan|  27|          Sales|\n",
            "|         102|         5|    Eve|  28|          Sales|\n",
            "|         102|         2|    Bob|  30|          Sales|\n",
            "|         103|         7|  Grace|  23|      Marketing|\n",
            "|         103|         3|Charlie|  22|      Marketing|\n",
            "|         104|        10|   Judy|  29|Human Resources|\n",
            "|         104|         6|  Frank|  40|Human Resources|\n",
            "|         105|      NULL|   NULL|NULL|        Finance|\n",
            "+------------+----------+-------+----+---------------+\n",
            "\n",
            "+---------------+-----+\n",
            "| DepartmentName|count|\n",
            "+---------------+-----+\n",
            "|          Sales|    3|\n",
            "|    Engineering|    3|\n",
            "|        Finance|    1|\n",
            "|      Marketing|    2|\n",
            "|Human Resources|    2|\n",
            "+---------------+-----+\n",
            "\n"
          ]
        }
      ]
    },
    {
      "cell_type": "code",
      "source": [
        "#cross jion\n",
        "\n",
        "employee_df.crossJoin(department_df).show()\n",
        "\n",
        "cross_df=employee_df.join(department_df, on=\"DepartmentID\", how=\"cross\")\n",
        "cross_df.show()\n",
        "cross_df.groupBy(\"DepartmentName\").count().show()"
      ],
      "metadata": {
        "colab": {
          "base_uri": "https://localhost:8080/"
        },
        "id": "oSR6QV4P8tR5",
        "outputId": "c9caa2c9-9b57-4b0e-8411-305d92a78dc4"
      },
      "execution_count": 46,
      "outputs": [
        {
          "output_type": "stream",
          "name": "stdout",
          "text": [
            "+----------+-------+---+------------+------------+---------------+\n",
            "|EmployeeID|   Name|Age|DepartmentID|DepartmentID| DepartmentName|\n",
            "+----------+-------+---+------------+------------+---------------+\n",
            "|         1|  Alice| 25|         101|         101|    Engineering|\n",
            "|         1|  Alice| 25|         101|         102|          Sales|\n",
            "|         2|    Bob| 30|         102|         101|    Engineering|\n",
            "|         2|    Bob| 30|         102|         102|          Sales|\n",
            "|         3|Charlie| 22|         103|         101|    Engineering|\n",
            "|         3|Charlie| 22|         103|         102|          Sales|\n",
            "|         4|  David| 35|         101|         101|    Engineering|\n",
            "|         4|  David| 35|         101|         102|          Sales|\n",
            "|         5|    Eve| 28|         102|         101|    Engineering|\n",
            "|         5|    Eve| 28|         102|         102|          Sales|\n",
            "|         1|  Alice| 25|         101|         103|      Marketing|\n",
            "|         1|  Alice| 25|         101|         104|Human Resources|\n",
            "|         1|  Alice| 25|         101|         105|        Finance|\n",
            "|         2|    Bob| 30|         102|         103|      Marketing|\n",
            "|         2|    Bob| 30|         102|         104|Human Resources|\n",
            "|         2|    Bob| 30|         102|         105|        Finance|\n",
            "|         3|Charlie| 22|         103|         103|      Marketing|\n",
            "|         3|Charlie| 22|         103|         104|Human Resources|\n",
            "|         3|Charlie| 22|         103|         105|        Finance|\n",
            "|         4|  David| 35|         101|         103|      Marketing|\n",
            "+----------+-------+---+------------+------------+---------------+\n",
            "only showing top 20 rows\n",
            "\n",
            "+------------+----------+-------+---+---------------+\n",
            "|DepartmentID|EmployeeID|   Name|Age| DepartmentName|\n",
            "+------------+----------+-------+---+---------------+\n",
            "|         101|         1|  Alice| 25|    Engineering|\n",
            "|         101|         4|  David| 35|    Engineering|\n",
            "|         101|         8|  Heidi| 31|    Engineering|\n",
            "|         102|         2|    Bob| 30|          Sales|\n",
            "|         102|         5|    Eve| 28|          Sales|\n",
            "|         102|         9|   Ivan| 27|          Sales|\n",
            "|         103|         3|Charlie| 22|      Marketing|\n",
            "|         103|         7|  Grace| 23|      Marketing|\n",
            "|         104|         6|  Frank| 40|Human Resources|\n",
            "|         104|        10|   Judy| 29|Human Resources|\n",
            "+------------+----------+-------+---+---------------+\n",
            "\n",
            "+---------------+-----+\n",
            "| DepartmentName|count|\n",
            "+---------------+-----+\n",
            "|          Sales|    3|\n",
            "|    Engineering|    3|\n",
            "|      Marketing|    2|\n",
            "|Human Resources|    2|\n",
            "+---------------+-----+\n",
            "\n"
          ]
        }
      ]
    },
    {
      "cell_type": "code",
      "source": [
        "#left semi\n",
        "\n",
        "employee_df.join(department_df, employee_df[\"DepartmentID\"] == department_df[\"DepartmentID\"], \"leftsemi\").show()\n",
        "\n",
        "left_semi = employee_df.join(department_df, on=\"DepartmentID\", how=\"leftsemi\")\n",
        "left_semi.show()\n",
        "left_semi.groupBy(\"Age\").count().show()\n",
        "#"
      ],
      "metadata": {
        "colab": {
          "base_uri": "https://localhost:8080/"
        },
        "id": "NMPLgENd9e-l",
        "outputId": "5b1278ae-0883-444b-a062-63f86631c4c1"
      },
      "execution_count": 47,
      "outputs": [
        {
          "output_type": "stream",
          "name": "stdout",
          "text": [
            "+----------+-------+---+------------+\n",
            "|EmployeeID|   Name|Age|DepartmentID|\n",
            "+----------+-------+---+------------+\n",
            "|         1|  Alice| 25|         101|\n",
            "|         4|  David| 35|         101|\n",
            "|         8|  Heidi| 31|         101|\n",
            "|         2|    Bob| 30|         102|\n",
            "|         5|    Eve| 28|         102|\n",
            "|         9|   Ivan| 27|         102|\n",
            "|         3|Charlie| 22|         103|\n",
            "|         7|  Grace| 23|         103|\n",
            "|         6|  Frank| 40|         104|\n",
            "|        10|   Judy| 29|         104|\n",
            "+----------+-------+---+------------+\n",
            "\n",
            "+------------+----------+-------+---+\n",
            "|DepartmentID|EmployeeID|   Name|Age|\n",
            "+------------+----------+-------+---+\n",
            "|         101|         1|  Alice| 25|\n",
            "|         101|         4|  David| 35|\n",
            "|         101|         8|  Heidi| 31|\n",
            "|         102|         2|    Bob| 30|\n",
            "|         102|         5|    Eve| 28|\n",
            "|         102|         9|   Ivan| 27|\n",
            "|         103|         3|Charlie| 22|\n",
            "|         103|         7|  Grace| 23|\n",
            "|         104|         6|  Frank| 40|\n",
            "|         104|        10|   Judy| 29|\n",
            "+------------+----------+-------+---+\n",
            "\n",
            "+---+-----+\n",
            "|Age|count|\n",
            "+---+-----+\n",
            "| 29|    1|\n",
            "| 22|    1|\n",
            "| 31|    1|\n",
            "| 25|    1|\n",
            "| 27|    1|\n",
            "| 28|    1|\n",
            "| 35|    1|\n",
            "| 30|    1|\n",
            "| 23|    1|\n",
            "| 40|    1|\n",
            "+---+-----+\n",
            "\n"
          ]
        }
      ]
    },
    {
      "cell_type": "code",
      "source": [
        "#left anti join\n",
        "\n",
        "employee_df.join(department_df, employee_df[\"DepartmentID\"] == department_df[\"DepartmentID\"], \"leftanti\").show()\n",
        "\n",
        "left_anti = employee_df.join(department_df, on=\"DepartmentID\", how=\"leftanti\")\n",
        "left_anti.show()\n",
        "\n",
        "department_df.show()\n",
        "left_anti.groupBy(\"Age\").count().show()\n"
      ],
      "metadata": {
        "colab": {
          "base_uri": "https://localhost:8080/"
        },
        "id": "1cxYq4hg9zhm",
        "outputId": "0132bbcd-f9fd-48bc-ab9a-dbbcdc844297"
      },
      "execution_count": 48,
      "outputs": [
        {
          "output_type": "stream",
          "name": "stdout",
          "text": [
            "+----------+----+---+------------+\n",
            "|EmployeeID|Name|Age|DepartmentID|\n",
            "+----------+----+---+------------+\n",
            "+----------+----+---+------------+\n",
            "\n",
            "+------------+----------+----+---+\n",
            "|DepartmentID|EmployeeID|Name|Age|\n",
            "+------------+----------+----+---+\n",
            "+------------+----------+----+---+\n",
            "\n",
            "+------------+---------------+\n",
            "|DepartmentID| DepartmentName|\n",
            "+------------+---------------+\n",
            "|         101|    Engineering|\n",
            "|         102|          Sales|\n",
            "|         103|      Marketing|\n",
            "|         104|Human Resources|\n",
            "|         105|        Finance|\n",
            "+------------+---------------+\n",
            "\n",
            "+---+-----+\n",
            "|Age|count|\n",
            "+---+-----+\n",
            "+---+-----+\n",
            "\n"
          ]
        }
      ]
    },
    {
      "cell_type": "code",
      "source": [
        "data = [\n",
        "    (\"Alice\", \"A.\", \"Smith\", 60000, \"123 Main St\"),\n",
        "    (\"Bob\", \"B.\", \"Johnson\", 70000, \"456 Oak Ave\"),\n",
        "    (\"Charlie\", \"C.\", \"Brown\", 55000, \"789 Pine Ln\"),\n",
        "    (\"David\", \"D.\", \"Davis\", 75000, \"101 Elm Rd\"),\n",
        "    (\"Eve\", \"E.\", \"Wilson\", 65000, \"222 Maple Dr\")\n",
        "]\n",
        "\n",
        "columns = [\"First_Name\", \"Middle_Name\", \"Last_Name\", \"Salary\", \"Address\"]\n",
        "\n",
        "df = spark.createDataFrame(data, columns)\n",
        "\n",
        "df.show()\n",
        "\n",
        "\n",
        "#combine firstname+middlename+lastname=fullname\n",
        "\n",
        "full_name = df.withColumn(\"Full_Name\", df[\"First_Name\"] + \" \" + df[\"Middle_Name\"] + \" \" + df[\"Last_Name\"])\n",
        "full_name.show()\n"
      ],
      "metadata": {
        "colab": {
          "base_uri": "https://localhost:8080/"
        },
        "id": "Ew0NU8bsA7T_",
        "outputId": "d6317dfd-8140-4b4a-974c-0c5dc662a25c"
      },
      "execution_count": 49,
      "outputs": [
        {
          "output_type": "stream",
          "name": "stdout",
          "text": [
            "+----------+-----------+---------+------+------------+\n",
            "|First_Name|Middle_Name|Last_Name|Salary|     Address|\n",
            "+----------+-----------+---------+------+------------+\n",
            "|     Alice|         A.|    Smith| 60000| 123 Main St|\n",
            "|       Bob|         B.|  Johnson| 70000| 456 Oak Ave|\n",
            "|   Charlie|         C.|    Brown| 55000| 789 Pine Ln|\n",
            "|     David|         D.|    Davis| 75000|  101 Elm Rd|\n",
            "|       Eve|         E.|   Wilson| 65000|222 Maple Dr|\n",
            "+----------+-----------+---------+------+------------+\n",
            "\n",
            "+----------+-----------+---------+------+------------+---------+\n",
            "|First_Name|Middle_Name|Last_Name|Salary|     Address|Full_Name|\n",
            "+----------+-----------+---------+------+------------+---------+\n",
            "|     Alice|         A.|    Smith| 60000| 123 Main St|     NULL|\n",
            "|       Bob|         B.|  Johnson| 70000| 456 Oak Ave|     NULL|\n",
            "|   Charlie|         C.|    Brown| 55000| 789 Pine Ln|     NULL|\n",
            "|     David|         D.|    Davis| 75000|  101 Elm Rd|     NULL|\n",
            "|       Eve|         E.|   Wilson| 65000|222 Maple Dr|     NULL|\n",
            "+----------+-----------+---------+------+------------+---------+\n",
            "\n"
          ]
        }
      ]
    },
    {
      "cell_type": "code",
      "source": [
        "# prompt: using udf combine , combine the first name,middlename,lastname\n",
        "\n",
        "from pyspark.sql.functions import udf\n",
        "from pyspark.sql.types import StringType\n",
        "\n",
        "# Define the UDF\n",
        "def combine_names(first, middle, last):\n",
        "  if first is None and middle is None and last is None:\n",
        "    return None\n",
        "  # Handle cases where middle name might be None or an empty string\n",
        "  if middle is None or middle.strip() == \"\":\n",
        "      return f\"{first} {last}\".strip()\n",
        "  else:\n",
        "      return f\"{first} {middle} {last}\".strip()\n",
        "\n",
        "\n",
        "# Register the UDF\n",
        "combine_names_udf = udf(combine_names, StringType())\n",
        "\n",
        "# Apply the UDF to create the 'Full_Name' column\n",
        "df_with_fullname = df.withColumn(\n",
        "    \"Full_Name\",\n",
        "    combine_names_udf(df[\"First_Name\"], df[\"Middle_Name\"], df[\"Last_Name\"])\n",
        ")\n",
        "\n",
        "df_with_fullname.show()\n"
      ],
      "metadata": {
        "colab": {
          "base_uri": "https://localhost:8080/"
        },
        "id": "zQDpSk2LBQc4",
        "outputId": "bd6d397c-5f44-4d69-9764-533991e2e195"
      },
      "execution_count": 50,
      "outputs": [
        {
          "output_type": "stream",
          "name": "stdout",
          "text": [
            "+----------+-----------+---------+------+------------+----------------+\n",
            "|First_Name|Middle_Name|Last_Name|Salary|     Address|       Full_Name|\n",
            "+----------+-----------+---------+------+------------+----------------+\n",
            "|     Alice|         A.|    Smith| 60000| 123 Main St|  Alice A. Smith|\n",
            "|       Bob|         B.|  Johnson| 70000| 456 Oak Ave|  Bob B. Johnson|\n",
            "|   Charlie|         C.|    Brown| 55000| 789 Pine Ln|Charlie C. Brown|\n",
            "|     David|         D.|    Davis| 75000|  101 Elm Rd|  David D. Davis|\n",
            "|       Eve|         E.|   Wilson| 65000|222 Maple Dr|   Eve E. Wilson|\n",
            "+----------+-----------+---------+------+------------+----------------+\n",
            "\n"
          ]
        }
      ]
    },
    {
      "cell_type": "code",
      "source": [
        "#using pivot table\n",
        "\n",
        "data = [\n",
        "    (\"Apple\", 100, \"USA\"),\n",
        "    (\"Banana\", 150, \"USA\"),\n",
        "    (\"Orange\", 120, \"USA\"),\n",
        "    (\"Grapes\", 80, \"Italy\"),\n",
        "    (\"Mango\", 200, \"India\"),\n",
        "    (\"Strawberry\", 90, \"India\"),\n",
        "    (\"Pineapple\", 110, \"Thailand\"),\n",
        "    (\"Watermelon\", 180, \"ChiIndiana\"),\n",
        "    (\"Kiwi\", 70, \"New Zealand\"),\n",
        "    (\"Pear\", 130, \"India\"),\n",
        "    (\"Apple\", 100, \"USA\"),\n",
        "    (\"Banana\", 150, \"USA\"),\n",
        "    (\"Orange\", 120, \"USA\"),\n",
        "    (\"Grapes\", 80, \"Italy\"),\n",
        "    (\"Mango\", 200, \"India\"),\n",
        "    (\"Strawberry\", 90, \"India\"),\n",
        "    (\"Pineapple\", 110, \"India\"),\n",
        "    (\"Watermelon\", 180, \"India\"),\n",
        "    (\"Kiwi\", 70, \"India\"),\n",
        "    (\"Pear\", 130, \"India\")\n",
        "]\n",
        "\n",
        "columns = [\"Product\", \"Amount\", \"Country\"]\n",
        "\n",
        "fruits_df = spark.createDataFrame(data, columns)\n",
        "\n",
        "fruits_df.show()\n",
        "\n",
        "\n",
        "pivot_rdd = fruits_df.groupBy(\"product\").pivot(\"Country\").sum(\"Amount\")\n",
        "pivot_rdd.show()"
      ],
      "metadata": {
        "colab": {
          "base_uri": "https://localhost:8080/"
        },
        "id": "6X2PVZd-EcL_",
        "outputId": "5430cf0a-f3f4-4d44-d6f5-589ac41cced7"
      },
      "execution_count": 51,
      "outputs": [
        {
          "output_type": "stream",
          "name": "stdout",
          "text": [
            "+----------+------+-----------+\n",
            "|   Product|Amount|    Country|\n",
            "+----------+------+-----------+\n",
            "|     Apple|   100|        USA|\n",
            "|    Banana|   150|        USA|\n",
            "|    Orange|   120|        USA|\n",
            "|    Grapes|    80|      Italy|\n",
            "|     Mango|   200|      India|\n",
            "|Strawberry|    90|      India|\n",
            "| Pineapple|   110|   Thailand|\n",
            "|Watermelon|   180| ChiIndiana|\n",
            "|      Kiwi|    70|New Zealand|\n",
            "|      Pear|   130|      India|\n",
            "|     Apple|   100|        USA|\n",
            "|    Banana|   150|        USA|\n",
            "|    Orange|   120|        USA|\n",
            "|    Grapes|    80|      Italy|\n",
            "|     Mango|   200|      India|\n",
            "|Strawberry|    90|      India|\n",
            "| Pineapple|   110|      India|\n",
            "|Watermelon|   180|      India|\n",
            "|      Kiwi|    70|      India|\n",
            "|      Pear|   130|      India|\n",
            "+----------+------+-----------+\n",
            "\n",
            "+----------+----------+-----+-----+-----------+--------+----+\n",
            "|   product|ChiIndiana|India|Italy|New Zealand|Thailand| USA|\n",
            "+----------+----------+-----+-----+-----------+--------+----+\n",
            "| Pineapple|      NULL|  110| NULL|       NULL|     110|NULL|\n",
            "|    Orange|      NULL| NULL| NULL|       NULL|    NULL| 240|\n",
            "|    Banana|      NULL| NULL| NULL|       NULL|    NULL| 300|\n",
            "|      Pear|      NULL|  260| NULL|       NULL|    NULL|NULL|\n",
            "|    Grapes|      NULL| NULL|  160|       NULL|    NULL|NULL|\n",
            "|Strawberry|      NULL|  180| NULL|       NULL|    NULL|NULL|\n",
            "|      Kiwi|      NULL|   70| NULL|         70|    NULL|NULL|\n",
            "|     Mango|      NULL|  400| NULL|       NULL|    NULL|NULL|\n",
            "|Watermelon|       180|  180| NULL|       NULL|    NULL|NULL|\n",
            "|     Apple|      NULL| NULL| NULL|       NULL|    NULL| 200|\n",
            "+----------+----------+-----+-----+-----------+--------+----+\n",
            "\n"
          ]
        }
      ]
    },
    {
      "cell_type": "code",
      "source": [
        "# prompt: unpivot the table\n",
        "\n",
        "from pyspark.sql.functions import explode, create_map, lit\n",
        "from itertools import chain\n",
        "\n",
        "# Select the columns to unpivot (excluding the identifier column)\n",
        "columns_to_unpivot = [\"USA\", \"Italy\", \"India\", \"Thailand\", \"ChiIndiana\", \"New Zealand\"]\n",
        "\n",
        "# Create a list of (column name, column value) pairs\n",
        "unpivot_expr = create_map(*chain(*[(lit(c), col(c)) for c in columns_to_unpivot]))\n",
        "\n",
        "# Unpivot the DataFrame\n",
        "unpivoted_df = pivot_rdd.select(\n",
        "    \"product\",\n",
        "    explode(unpivot_expr).alias(\"Country\", \"Amount\")\n",
        ")\n",
        "\n",
        "unpivoted_df.show()\n"
      ],
      "metadata": {
        "colab": {
          "base_uri": "https://localhost:8080/"
        },
        "id": "xyQLEejbHgF4",
        "outputId": "e1201aaf-ad00-417b-ad93-c9079dc1888b"
      },
      "execution_count": 52,
      "outputs": [
        {
          "output_type": "stream",
          "name": "stdout",
          "text": [
            "+---------+-----------+------+\n",
            "|  product|    Country|Amount|\n",
            "+---------+-----------+------+\n",
            "|Pineapple|        USA|  NULL|\n",
            "|Pineapple|      Italy|  NULL|\n",
            "|Pineapple|      India|   110|\n",
            "|Pineapple|   Thailand|   110|\n",
            "|Pineapple| ChiIndiana|  NULL|\n",
            "|Pineapple|New Zealand|  NULL|\n",
            "|   Orange|        USA|   240|\n",
            "|   Orange|      Italy|  NULL|\n",
            "|   Orange|      India|  NULL|\n",
            "|   Orange|   Thailand|  NULL|\n",
            "|   Orange| ChiIndiana|  NULL|\n",
            "|   Orange|New Zealand|  NULL|\n",
            "|   Banana|        USA|   300|\n",
            "|   Banana|      Italy|  NULL|\n",
            "|   Banana|      India|  NULL|\n",
            "|   Banana|   Thailand|  NULL|\n",
            "|   Banana| ChiIndiana|  NULL|\n",
            "|   Banana|New Zealand|  NULL|\n",
            "|     Pear|        USA|  NULL|\n",
            "|     Pear|      Italy|  NULL|\n",
            "+---------+-----------+------+\n",
            "only showing top 20 rows\n",
            "\n"
          ]
        }
      ]
    },
    {
      "source": [
        "#union & uninall operation\n",
        "\n",
        "from pyspark.sql import SparkSession\n",
        "\n",
        "spark = SparkSession.builder.appName(\"UnionExample\").getOrCreate()\n",
        "\n",
        "# Data for the first DataFrame\n",
        "data1 = [(\"Alice\", 25, \"New York\"),\n",
        "         (\"Bob\", 30, \"Los Angeles\"),\n",
        "         (\"Charlie\", 22, \"Chicago\")]\n",
        "\n",
        "columns1 = [\"Name\", \"Age\", \"City\"]\n",
        "\n",
        "df1 = spark.createDataFrame(data1, columns1)\n",
        "\n",
        "# Data for the second DataFrame\n",
        "data2 = [(\"David\", 35, \"Houston\"),\n",
        "         (\"Eve\", 28, \"Phoenix\"),\n",
        "         (\"Alice\", 25, \"New York\")] # Including a duplicate row to show how union handles them\n",
        "\n",
        "columns2 = [\"Name\", \"Age\", \"City\"]\n",
        "\n",
        "df2 = spark.createDataFrame(data2, columns2)\n",
        "\n",
        "print(\"DataFrame 1:\")\n",
        "df1.show()\n",
        "\n",
        "print(\"DataFrame 2:\")\n",
        "df2.show()\n",
        "\n",
        "\n",
        "#union operation\n",
        "print(\"Union Operation:\")\n",
        "df1.union(df2).show()\n",
        "\n",
        "#distinct\n",
        "\n",
        "print(\"Distinct Operation:\")\n",
        "df1.union(df2).distinct().show()\n",
        "\n"
      ],
      "cell_type": "code",
      "metadata": {
        "colab": {
          "base_uri": "https://localhost:8080/"
        },
        "id": "Mfg-9HuYIsX5",
        "outputId": "206dca2b-afcd-4a4c-9a75-15eafc569f29"
      },
      "execution_count": 53,
      "outputs": [
        {
          "output_type": "stream",
          "name": "stdout",
          "text": [
            "DataFrame 1:\n",
            "+-------+---+-----------+\n",
            "|   Name|Age|       City|\n",
            "+-------+---+-----------+\n",
            "|  Alice| 25|   New York|\n",
            "|    Bob| 30|Los Angeles|\n",
            "|Charlie| 22|    Chicago|\n",
            "+-------+---+-----------+\n",
            "\n",
            "DataFrame 2:\n",
            "+-----+---+--------+\n",
            "| Name|Age|    City|\n",
            "+-----+---+--------+\n",
            "|David| 35| Houston|\n",
            "|  Eve| 28| Phoenix|\n",
            "|Alice| 25|New York|\n",
            "+-----+---+--------+\n",
            "\n",
            "Union Operation:\n",
            "+-------+---+-----------+\n",
            "|   Name|Age|       City|\n",
            "+-------+---+-----------+\n",
            "|  Alice| 25|   New York|\n",
            "|    Bob| 30|Los Angeles|\n",
            "|Charlie| 22|    Chicago|\n",
            "|  David| 35|    Houston|\n",
            "|    Eve| 28|    Phoenix|\n",
            "|  Alice| 25|   New York|\n",
            "+-------+---+-----------+\n",
            "\n",
            "Distinct Operation:\n",
            "+-------+---+-----------+\n",
            "|   Name|Age|       City|\n",
            "+-------+---+-----------+\n",
            "|  Alice| 25|   New York|\n",
            "|    Bob| 30|Los Angeles|\n",
            "|Charlie| 22|    Chicago|\n",
            "|  David| 35|    Houston|\n",
            "|    Eve| 28|    Phoenix|\n",
            "+-------+---+-----------+\n",
            "\n"
          ]
        }
      ]
    },
    {
      "cell_type": "markdown",
      "source": [
        "# CACHE AND PERSIST\n",
        "\n",
        " cache() and persist() are used to store RDDs (or DataFrames) in memory (or memory + disk) to avoid recomputation — useful when an RDD is reused multiple times\n",
        "\n",
        "\n",
        " | Feature       | `cache()`               | `persist()`                           |\n",
        "| ------------- | ----------------------- | ------------------------------------- |\n",
        "| Storage Level | `MEMORY_ONLY`           | User-defined (e.g. `MEMORY_AND_DISK`) |\n",
        "| Purpose       | Simple & quick reuse    | More flexible control over storage    |\n",
        "| Common Use    | When RDD fits in memory | When RDD may not fit in memory        |\n",
        "\n",
        "\n",
        "\n",
        "\n",
        "🔧 Available Storage Levels for persist()\n",
        "\n",
        "MEMORY_ONLY\n",
        "MEMORY_AND_DISK\n",
        "DISK_ONLY\n",
        "MEMORY_ONLY_SER (serialized)\n",
        "MEMORY_AND_DISK_SER\n",
        "OFF_HEAP (requires external setup)\n",
        "\n",
        "\n",
        "🧠 When to use?\n",
        "Use .cache() when data fits in memory and is reused multiple times.\n",
        "Use .persist() with MEMORY_AND_DISK when memory is limited.\n"
      ],
      "metadata": {
        "id": "OW1XHxDRKElQ"
      }
    },
    {
      "source": [
        "from pyspark.sql import SparkSession\n",
        "\n",
        "# Assuming you have a SparkSession initialized as 'spark'\n",
        "# spark = SparkSession.builder.appName(\"DataWithState\").getOrCreate()\n",
        "\n",
        "# Sample data with a State column\n",
        "data_with_state = [\n",
        "    (\"Alice\", 25, \"New York\"),\n",
        "    (\"Bob\", 30, \"California\"),\n",
        "    (\"Charlie\", 22, \"Texas\"),\n",
        "    (\"David\", 35, \"New York\"),\n",
        "    (\"Eve\", 28, \"California\"),\n",
        "    (\"Frank\", 40, \"Texas\")\n",
        "]\n",
        "\n",
        "# Column names\n",
        "columns_with_state = [\"Name\", \"Age\", \"State\"]\n",
        "\n",
        "# Create a DataFrame\n",
        "df_with_state = spark.createDataFrame(data_with_state, columns_with_state)\n",
        "\n",
        "# Show the DataFrame\n",
        "df_with_state.show()\n",
        "\n",
        "#cache the data\n",
        "df_cache=df_with_state.select(\"Name\", \"Age\").where(\"State = 'New York'\").cache()\n",
        "df_cache.show(n=df_cache.count(), truncate=False)\n",
        "df_cache.describe().show()\n",
        "\n",
        "\n",
        "#withoutcache\n",
        "df_without_cache=df_with_state.select(\"Name\", \"Age\").where(\"State = 'New York'\")\n",
        "df_without_cache.show()\n"
      ],
      "cell_type": "code",
      "metadata": {
        "colab": {
          "base_uri": "https://localhost:8080/"
        },
        "id": "hP_IvPdsK8GG",
        "outputId": "abc9574e-760c-4baa-a363-773262e232c3"
      },
      "execution_count": 54,
      "outputs": [
        {
          "output_type": "stream",
          "name": "stdout",
          "text": [
            "+-------+---+----------+\n",
            "|   Name|Age|     State|\n",
            "+-------+---+----------+\n",
            "|  Alice| 25|  New York|\n",
            "|    Bob| 30|California|\n",
            "|Charlie| 22|     Texas|\n",
            "|  David| 35|  New York|\n",
            "|    Eve| 28|California|\n",
            "|  Frank| 40|     Texas|\n",
            "+-------+---+----------+\n",
            "\n",
            "+-----+---+\n",
            "|Name |Age|\n",
            "+-----+---+\n",
            "|Alice|25 |\n",
            "|David|35 |\n",
            "+-----+---+\n",
            "\n",
            "+-------+-----+------------------+\n",
            "|summary| Name|               Age|\n",
            "+-------+-----+------------------+\n",
            "|  count|    2|                 2|\n",
            "|   mean| NULL|              30.0|\n",
            "| stddev| NULL|7.0710678118654755|\n",
            "|    min|Alice|                25|\n",
            "|    max|David|                35|\n",
            "+-------+-----+------------------+\n",
            "\n",
            "+-----+---+\n",
            "| Name|Age|\n",
            "+-----+---+\n",
            "|Alice| 25|\n",
            "|David| 35|\n",
            "+-----+---+\n",
            "\n"
          ]
        }
      ]
    },
    {
      "cell_type": "markdown",
      "source": [
        "# UDF IN SPARk"
      ],
      "metadata": {
        "id": "xCMGTNkhvLuE"
      }
    },
    {
      "cell_type": "code",
      "source": [
        "data_with_state = [\n",
        "    (\"Alice\", 25, \"New York\"),\n",
        "    (\"Bob\", 30, \"California\"),\n",
        "    (\"Charlie\", 22, \"Texas\"),\n",
        "    (\"David\", 35, \"New York\"),\n",
        "    (\"Eve\", 28, \"California\"),\n",
        "    (\"Frank\", 40, \"Texas\")\n",
        "]\n",
        "\n",
        "# Column names\n",
        "columns_with_state = [\"Name\", \"Age\", \"State\"]\n",
        "\n",
        "df = spark.createDataFrame(data_with_state, columns_with_state)\n",
        "\n",
        "df.show()\n",
        "\n"
      ],
      "metadata": {
        "colab": {
          "base_uri": "https://localhost:8080/"
        },
        "id": "PYqfCUIfvPon",
        "outputId": "ff688e68-9da9-4876-acd8-fbc8a974b3e5"
      },
      "execution_count": 55,
      "outputs": [
        {
          "output_type": "stream",
          "name": "stdout",
          "text": [
            "+-------+---+----------+\n",
            "|   Name|Age|     State|\n",
            "+-------+---+----------+\n",
            "|  Alice| 25|  New York|\n",
            "|    Bob| 30|California|\n",
            "|Charlie| 22|     Texas|\n",
            "|  David| 35|  New York|\n",
            "|    Eve| 28|California|\n",
            "|  Frank| 40|     Texas|\n",
            "+-------+---+----------+\n",
            "\n"
          ]
        }
      ]
    },
    {
      "cell_type": "code",
      "source": [
        "# prompt: I want to convert a state and name coulumn into lowercase create a udf\n",
        "\n",
        "def to_lowercase(text):\n",
        "  \"\"\"Converts a string to lowercase.\"\"\"\n",
        "  if text is None:\n",
        "    return None\n",
        "  return text.lower()\n",
        "\n",
        "# Register the UDF\n",
        "lowercase_udf = udf(to_lowercase, StringType())\n",
        "\n",
        "# Apply the UDF to the 'State' and 'Name' columns\n",
        "df_lowercase = df.withColumn(\"State_lower\", lowercase_udf(df[\"State\"])) \\\n",
        "                 .withColumn(\"Name_lower\", lowercase_udf(df[\"Name\"]))\n",
        "\n",
        "df_lowercase.show()\n"
      ],
      "metadata": {
        "colab": {
          "base_uri": "https://localhost:8080/"
        },
        "id": "73s-KpwYwjDq",
        "outputId": "6ae83e5a-81cc-4ea9-c028-b0cd4406a550"
      },
      "execution_count": 56,
      "outputs": [
        {
          "output_type": "stream",
          "name": "stdout",
          "text": [
            "+-------+---+----------+-----------+----------+\n",
            "|   Name|Age|     State|State_lower|Name_lower|\n",
            "+-------+---+----------+-----------+----------+\n",
            "|  Alice| 25|  New York|   new york|     alice|\n",
            "|    Bob| 30|California| california|       bob|\n",
            "|Charlie| 22|     Texas|      texas|   charlie|\n",
            "|  David| 35|  New York|   new york|     david|\n",
            "|    Eve| 28|California| california|       eve|\n",
            "|  Frank| 40|     Texas|      texas|     frank|\n",
            "+-------+---+----------+-----------+----------+\n",
            "\n"
          ]
        }
      ]
    },
    {
      "cell_type": "code",
      "source": [
        "# prompt: I want convert state name into state code for example New York it should be NY write a pdf to convert\n",
        "\n",
        "# Define a dictionary to map state names to codes\n",
        "state_code_map = {\n",
        "    \"Alabama\": \"AL\", \"Alaska\": \"AK\", \"Arizona\": \"AZ\", \"Arkansas\": \"AR\",\n",
        "    \"California\": \"CA\", \"Colorado\": \"CO\", \"Connecticut\": \"CT\", \"Delaware\": \"DE\",\n",
        "    \"Florida\": \"FL\", \"Georgia\": \"GA\", \"Hawaii\": \"HI\", \"Idaho\": \"ID\",\n",
        "    \"Illinois\": \"IL\", \"Indiana\": \"IN\", \"Iowa\": \"IA\", \"Kansas\": \"KS\",\n",
        "    \"Kentucky\": \"KY\", \"Louisiana\": \"LA\", \"Maine\": \"ME\", \"Maryland\": \"MD\",\n",
        "    \"Massachusetts\": \"MA\", \"Michigan\": \"MI\", \"Minnesota\": \"MN\", \"Mississippi\": \"MS\",\n",
        "    \"Missouri\": \"MO\", \"Montana\": \"MT\", \"Nebraska\": \"NE\", \"Nevada\": \"NV\",\n",
        "    \"New Hampshire\": \"NH\", \"New Jersey\": \"NJ\", \"New Mexico\": \"NM\", \"New York\": \"NY\",\n",
        "    \"North Carolina\": \"NC\", \"North Dakota\": \"ND\", \"Ohio\": \"OH\", \"Oklahoma\": \"OK\",\n",
        "    \"Oregon\": \"OR\", \"Pennsylvania\": \"PA\", \"Rhode Island\": \"RI\", \"South Carolina\": \"SC\",\n",
        "    \"South Dakota\": \"SD\", \"Tennessee\": \"TN\", \"Texas\": \"TX\", \"Utah\": \"UT\",\n",
        "    \"Vermont\": \"VT\", \"Virginia\": \"VA\", \"Washington\": \"WA\", \"West Virginia\": \"WV\",\n",
        "    \"Wisconsin\": \"WI\", \"Wyoming\": \"WY\"\n",
        "}\n",
        "\n",
        "# Define a UDF to convert state name to state code\n",
        "def state_name_to_code(state_name):\n",
        "  \"\"\"Converts a state name to its two-letter code.\"\"\"\n",
        "  if state_name is None:\n",
        "    return None\n",
        "  return state_code_map.get(state_name.strip(), None) # Use .get() with None default for non-matches\n",
        "\n",
        "# Register the UDF\n",
        "state_code_udf = udf(state_name_to_code, StringType())\n",
        "\n",
        "# Apply the UDF to the 'State' column\n",
        "df_with_state_code = df.withColumn(\"State_Code\", state_code_udf(df[\"State\"])) \\\n",
        "                       .withColumn(\"State_Code\", lowercase_udf(df[\"State\"]))\n",
        "\n",
        "df_with_state_code.show()\n"
      ],
      "metadata": {
        "colab": {
          "base_uri": "https://localhost:8080/"
        },
        "id": "lMG_b3o6w9ka",
        "outputId": "caace255-7fda-4a4f-fe55-7fd60affc9ac"
      },
      "execution_count": 62,
      "outputs": [
        {
          "output_type": "stream",
          "name": "stdout",
          "text": [
            "+-------+---+----------+----------+\n",
            "|   Name|Age|     State|State_Code|\n",
            "+-------+---+----------+----------+\n",
            "|  Alice| 25|  New York|  new york|\n",
            "|    Bob| 30|California|california|\n",
            "|Charlie| 22|     Texas|     texas|\n",
            "|  David| 35|  New York|  new york|\n",
            "|    Eve| 28|California|california|\n",
            "|  Frank| 40|     Texas|     texas|\n",
            "+-------+---+----------+----------+\n",
            "\n"
          ]
        }
      ]
    },
    {
      "cell_type": "markdown",
      "source": [
        "# STRUCT TYPE"
      ],
      "metadata": {
        "id": "eIX75g1OygUx"
      }
    },
    {
      "cell_type": "code",
      "source": [
        "# prompt: generate a employee data with 10 columns , and structtype for it\n",
        "\n",
        "from pyspark.sql.types import StructType, StructField, StringType, IntegerType, DoubleType, BooleanType, DateType\n",
        "\n",
        "employee_data = [\n",
        "    (\"Alice\", \"Smith\", \"alice.s@example.com\", \"123-456-7890\", \"Engineering\", \"Senior Software Engineer\", 80000.00, 30, True, \"1993-05-15\"),\n",
        "    (\"Bob\", \"Johnson\", \"bob.j@example.com\", \"987-654-3210\", \"Sales\", \"Sales Manager\", 95000.00, 35, True, \"1988-11-22\"),\n",
        "    (\"Charlie\", \"Brown\", \"charlie.b@example.com\", \"555-111-2222\", \"Marketing\", \"Marketing Coordinator\", 60000.00, 25, False, \"1998-03-10\"),\n",
        "    (\"David\", \"Davis\", \"david.d@example.com\", \"111-222-3333\", \"Engineering\", \"Data Scientist\", 85000.00, 32, True, \"1991-09-01\"),\n",
        "    (\"Eve\", \"Wilson\", \"eve.w@example.com\", \"444-555-6666\", \"Human Resources\", \"HR Specialist\", 70000.00, 28, False, \"1995-07-18\"),\n",
        "    (\"Frank\", \"Miller\", \"frank.m@example.com\", \"777-888-9999\", \"Finance\", \"Financial Analyst\", 78000.00, 40, True, \"1983-01-05\"),\n",
        "    (\"Grace\", \"Moore\", \"grace.m@example.com\", \"222-333-4444\", \"IT\", \"System Administrator\", 72000.00, 29, True, \"1994-06-20\"),\n",
        "    (\"Heidi\", \"Taylor\", \"heidi.t@example.com\", \"666-777-8888\", \"Engineering\", \"Software Engineer\", 75000.00, 27, False, \"1996-12-03\"),\n",
        "    (\"Ivan\", \"Anderson\", \"ivan.a@example.com\", \"999-000-1111\", \"Sales\", \"Sales Representative\", 65000.00, 31, True, \"1992-04-11\"),\n",
        "    (\"Judy\", \"Thomas\", \"judy.t@example.com\", \"333-444-5555\", \"Marketing\", \"Digital Marketing Manager\", 88000.00, 38, True, \"1985-08-25\")\n",
        "]\n",
        "\n",
        "employee_schema = StructType([\n",
        "    StructField(\"FirstName\", StringType(), True),\n",
        "    StructField(\"LastName\", StringType(), True),\n",
        "    StructField(\"Email\", StringType(), True),\n",
        "    StructField(\"PhoneNumber\", StringType(), True),\n",
        "    StructField(\"Department\", StringType(), True),\n",
        "    StructField(\"JobTitle\", StringType(), True),\n",
        "    StructField(\"Salary\", DoubleType(), True),\n",
        "    StructField(\"YearsExperience\", IntegerType(), True),\n",
        "    StructField(\"IsFullTime\", BooleanType(), True),\n",
        "    StructField(\"DateOfBirth\", StringType(), True) # Can use DateType if data is in 'YYYY-MM-DD' format\n",
        "])\n",
        "\n",
        "employee_df = spark.createDataFrame(employee_data, schema=employee_schema)\n",
        "\n",
        "employee_df.show()\n",
        "employee_df.printSchema()\n",
        "\n",
        "with_out_schema=spark.createDataFrame(employee_data)\n",
        "with_out_schema.show()\n",
        "with_out_schema.printSchema()\n",
        "\n",
        "with_default_schema=spark.createDataFrame(employee_data, )\n",
        "with_default_schema.show()\n",
        "with_default_schema.printSchema()"
      ],
      "metadata": {
        "colab": {
          "base_uri": "https://localhost:8080/"
        },
        "id": "XFy1yQzkyfnY",
        "outputId": "5b831d87-b287-4ba9-f93c-1b1971d596b4"
      },
      "execution_count": 64,
      "outputs": [
        {
          "output_type": "stream",
          "name": "stdout",
          "text": [
            "+---------+--------+--------------------+------------+---------------+--------------------+-------+---------------+----------+-----------+\n",
            "|FirstName|LastName|               Email| PhoneNumber|     Department|            JobTitle| Salary|YearsExperience|IsFullTime|DateOfBirth|\n",
            "+---------+--------+--------------------+------------+---------------+--------------------+-------+---------------+----------+-----------+\n",
            "|    Alice|   Smith| alice.s@example.com|123-456-7890|    Engineering|Senior Software E...|80000.0|             30|      true| 1993-05-15|\n",
            "|      Bob| Johnson|   bob.j@example.com|987-654-3210|          Sales|       Sales Manager|95000.0|             35|      true| 1988-11-22|\n",
            "|  Charlie|   Brown|charlie.b@example...|555-111-2222|      Marketing|Marketing Coordin...|60000.0|             25|     false| 1998-03-10|\n",
            "|    David|   Davis| david.d@example.com|111-222-3333|    Engineering|      Data Scientist|85000.0|             32|      true| 1991-09-01|\n",
            "|      Eve|  Wilson|   eve.w@example.com|444-555-6666|Human Resources|       HR Specialist|70000.0|             28|     false| 1995-07-18|\n",
            "|    Frank|  Miller| frank.m@example.com|777-888-9999|        Finance|   Financial Analyst|78000.0|             40|      true| 1983-01-05|\n",
            "|    Grace|   Moore| grace.m@example.com|222-333-4444|             IT|System Administrator|72000.0|             29|      true| 1994-06-20|\n",
            "|    Heidi|  Taylor| heidi.t@example.com|666-777-8888|    Engineering|   Software Engineer|75000.0|             27|     false| 1996-12-03|\n",
            "|     Ivan|Anderson|  ivan.a@example.com|999-000-1111|          Sales|Sales Representative|65000.0|             31|      true| 1992-04-11|\n",
            "|     Judy|  Thomas|  judy.t@example.com|333-444-5555|      Marketing|Digital Marketing...|88000.0|             38|      true| 1985-08-25|\n",
            "+---------+--------+--------------------+------------+---------------+--------------------+-------+---------------+----------+-----------+\n",
            "\n",
            "root\n",
            " |-- FirstName: string (nullable = true)\n",
            " |-- LastName: string (nullable = true)\n",
            " |-- Email: string (nullable = true)\n",
            " |-- PhoneNumber: string (nullable = true)\n",
            " |-- Department: string (nullable = true)\n",
            " |-- JobTitle: string (nullable = true)\n",
            " |-- Salary: double (nullable = true)\n",
            " |-- YearsExperience: integer (nullable = true)\n",
            " |-- IsFullTime: boolean (nullable = true)\n",
            " |-- DateOfBirth: string (nullable = true)\n",
            "\n",
            "+-------+--------+--------------------+------------+---------------+--------------------+-------+---+-----+----------+\n",
            "|     _1|      _2|                  _3|          _4|             _5|                  _6|     _7| _8|   _9|       _10|\n",
            "+-------+--------+--------------------+------------+---------------+--------------------+-------+---+-----+----------+\n",
            "|  Alice|   Smith| alice.s@example.com|123-456-7890|    Engineering|Senior Software E...|80000.0| 30| true|1993-05-15|\n",
            "|    Bob| Johnson|   bob.j@example.com|987-654-3210|          Sales|       Sales Manager|95000.0| 35| true|1988-11-22|\n",
            "|Charlie|   Brown|charlie.b@example...|555-111-2222|      Marketing|Marketing Coordin...|60000.0| 25|false|1998-03-10|\n",
            "|  David|   Davis| david.d@example.com|111-222-3333|    Engineering|      Data Scientist|85000.0| 32| true|1991-09-01|\n",
            "|    Eve|  Wilson|   eve.w@example.com|444-555-6666|Human Resources|       HR Specialist|70000.0| 28|false|1995-07-18|\n",
            "|  Frank|  Miller| frank.m@example.com|777-888-9999|        Finance|   Financial Analyst|78000.0| 40| true|1983-01-05|\n",
            "|  Grace|   Moore| grace.m@example.com|222-333-4444|             IT|System Administrator|72000.0| 29| true|1994-06-20|\n",
            "|  Heidi|  Taylor| heidi.t@example.com|666-777-8888|    Engineering|   Software Engineer|75000.0| 27|false|1996-12-03|\n",
            "|   Ivan|Anderson|  ivan.a@example.com|999-000-1111|          Sales|Sales Representative|65000.0| 31| true|1992-04-11|\n",
            "|   Judy|  Thomas|  judy.t@example.com|333-444-5555|      Marketing|Digital Marketing...|88000.0| 38| true|1985-08-25|\n",
            "+-------+--------+--------------------+------------+---------------+--------------------+-------+---+-----+----------+\n",
            "\n",
            "root\n",
            " |-- _1: string (nullable = true)\n",
            " |-- _2: string (nullable = true)\n",
            " |-- _3: string (nullable = true)\n",
            " |-- _4: string (nullable = true)\n",
            " |-- _5: string (nullable = true)\n",
            " |-- _6: string (nullable = true)\n",
            " |-- _7: double (nullable = true)\n",
            " |-- _8: long (nullable = true)\n",
            " |-- _9: boolean (nullable = true)\n",
            " |-- _10: string (nullable = true)\n",
            "\n"
          ]
        }
      ]
    },
    {
      "cell_type": "code",
      "source": [
        "# prompt: create a nested employee data, and create a structure type for the data and flatten the data\n",
        "\n",
        "employee_nested_data = [\n",
        "    (\"Alice\", {\"email\": \"alice@example.com\", \"phone\": \"123-456-7890\"}, \"Engineering\", 60000),\n",
        "    (\"Bob\", {\"email\": \"bob@example.com\", \"phone\": \"987-654-3210\"}, \"Sales\", 70000),\n",
        "    (\"Charlie\", {\"email\": \"charlie@example.com\", \"phone\": \"555-111-2222\"}, \"Marketing\", 55000),\n",
        "]\n",
        "\n",
        "employee_nested_schema = StructType([\n",
        "    StructField(\"Name\", StringType(), True),\n",
        "    StructField(\"ContactInfo\", StructType([\n",
        "        StructField(\"email\", StringType(), True),\n",
        "        StructField(\"phone\", StringType(), True)\n",
        "    ]), True),\n",
        "    StructField(\"Department\", StringType(), True),\n",
        "    StructField(\"Salary\", IntegerType(), True)\n",
        "])\n",
        "\n",
        "employee_nested_df = spark.createDataFrame(employee_nested_data, schema=employee_nested_schema)\n",
        "\n",
        "employee_nested_df.show(truncate=False)\n",
        "employee_nested_df.printSchema()\n",
        "\n",
        "# Flattening the nested data\n",
        "employee_flattened_df = employee_nested_df.select(\n",
        "    col(\"Name\"),\n",
        "    col(\"ContactInfo.email\").alias(\"Email\"),\n",
        "    col(\"ContactInfo.phone\").alias(\"Phone\"),\n",
        "    col(\"Department\"),\n",
        "    col(\"Salary\")\n",
        ")\n",
        "\n",
        "employee_flattened_df.show()\n",
        "employee_flattened_df.printSchema()"
      ],
      "metadata": {
        "colab": {
          "base_uri": "https://localhost:8080/"
        },
        "id": "9Z2COfoK0SPF",
        "outputId": "14ef8946-e583-487c-f2b3-b48fdc6d989f"
      },
      "execution_count": 66,
      "outputs": [
        {
          "output_type": "stream",
          "name": "stdout",
          "text": [
            "+-------+-----------------------------------+-----------+------+\n",
            "|Name   |ContactInfo                        |Department |Salary|\n",
            "+-------+-----------------------------------+-----------+------+\n",
            "|Alice  |{alice@example.com, 123-456-7890}  |Engineering|60000 |\n",
            "|Bob    |{bob@example.com, 987-654-3210}    |Sales      |70000 |\n",
            "|Charlie|{charlie@example.com, 555-111-2222}|Marketing  |55000 |\n",
            "+-------+-----------------------------------+-----------+------+\n",
            "\n",
            "root\n",
            " |-- Name: string (nullable = true)\n",
            " |-- ContactInfo: struct (nullable = true)\n",
            " |    |-- email: string (nullable = true)\n",
            " |    |-- phone: string (nullable = true)\n",
            " |-- Department: string (nullable = true)\n",
            " |-- Salary: integer (nullable = true)\n",
            "\n",
            "+-------+-------------------+------------+-----------+------+\n",
            "|   Name|              Email|       Phone| Department|Salary|\n",
            "+-------+-------------------+------------+-----------+------+\n",
            "|  Alice|  alice@example.com|123-456-7890|Engineering| 60000|\n",
            "|    Bob|    bob@example.com|987-654-3210|      Sales| 70000|\n",
            "|Charlie|charlie@example.com|555-111-2222|  Marketing| 55000|\n",
            "+-------+-------------------+------------+-----------+------+\n",
            "\n",
            "root\n",
            " |-- Name: string (nullable = true)\n",
            " |-- Email: string (nullable = true)\n",
            " |-- Phone: string (nullable = true)\n",
            " |-- Department: string (nullable = true)\n",
            " |-- Salary: integer (nullable = true)\n",
            "\n"
          ]
        }
      ]
    }
  ]
}